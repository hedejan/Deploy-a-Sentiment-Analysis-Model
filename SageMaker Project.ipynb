{
 "cells": [
  {
   "cell_type": "markdown",
   "metadata": {},
   "source": [
    "# Creating a Sentiment Analysis Web App\n",
    "## Using PyTorch and SageMaker\n",
    "\n",
    "_Deep Learning Nanodegree Program | Deployment_\n",
    "\n",
    "---\n",
    "\n",
    "Now that we have a basic understanding of how SageMaker works we will try to use it to construct a complete project from end to end. Our goal will be to have a simple web page which a user can use to enter a movie review. The web page will then send the review off to our deployed model which will predict the sentiment of the entered review.\n",
    "\n",
    "## Instructions\n",
    "\n",
    "Some template code has already been provided for you, and you will need to implement additional functionality to successfully complete this notebook. You will not need to modify the included code beyond what is requested. Sections that begin with '**TODO**' in the header indicate that you need to complete or implement some portion within them. Instructions will be provided for each section and the specifics of the implementation are marked in the code block with a `# TODO: ...` comment. Please be sure to read the instructions carefully!\n",
    "\n",
    "In addition to implementing code, there will be questions for you to answer which relate to the task and your implementation. Each section where you will answer a question is preceded by a '**Question:**' header. Carefully read each question and provide your answer below the '**Answer:**' header by editing the Markdown cell.\n",
    "\n",
    "> **Note**: Code and Markdown cells can be executed using the **Shift+Enter** keyboard shortcut. In addition, a cell can be edited by typically clicking it (double-click for Markdown cells) or by pressing **Enter** while it is highlighted.\n",
    "\n",
    "## General Outline\n",
    "\n",
    "Recall the general outline for SageMaker projects using a notebook instance.\n",
    "\n",
    "1. Download or otherwise retrieve the data.\n",
    "2. Process / Prepare the data.\n",
    "3. Upload the processed data to S3.\n",
    "4. Train a chosen model.\n",
    "5. Test the trained model (typically using a batch transform job).\n",
    "6. Deploy the trained model.\n",
    "7. Use the deployed model.\n",
    "\n",
    "For this project, you will be following the steps in the general outline with some modifications. \n",
    "\n",
    "First, you will not be testing the model in its own step. You will still be testing the model, however, you will do it by deploying your model and then using the deployed model by sending the test data to it. One of the reasons for doing this is so that you can make sure that your deployed model is working correctly before moving forward.\n",
    "\n",
    "In addition, you will deploy and use your trained model a second time. In the second iteration you will customize the way that your trained model is deployed by including some of your own code. In addition, your newly deployed model will be used in the sentiment analysis web app."
   ]
  },
  {
   "cell_type": "code",
   "execution_count": 1,
   "metadata": {},
   "outputs": [
    {
     "name": "stdout",
     "output_type": "stream",
     "text": [
      "Collecting sagemaker==1.72.0\n",
      "  Downloading sagemaker-1.72.0.tar.gz (297 kB)\n",
      "\u001b[K     |████████████████████████████████| 297 kB 6.2 MB/s eta 0:00:01\n",
      "\u001b[?25hRequirement already satisfied: boto3>=1.14.12 in /home/ec2-user/anaconda3/envs/pytorch_p36/lib/python3.6/site-packages (from sagemaker==1.72.0) (1.17.92)\n",
      "Requirement already satisfied: numpy>=1.9.0 in /home/ec2-user/anaconda3/envs/pytorch_p36/lib/python3.6/site-packages (from sagemaker==1.72.0) (1.19.5)\n",
      "Requirement already satisfied: protobuf>=3.1 in /home/ec2-user/anaconda3/envs/pytorch_p36/lib/python3.6/site-packages (from sagemaker==1.72.0) (3.15.2)\n",
      "Requirement already satisfied: scipy>=0.19.0 in /home/ec2-user/anaconda3/envs/pytorch_p36/lib/python3.6/site-packages (from sagemaker==1.72.0) (1.5.3)\n",
      "Requirement already satisfied: protobuf3-to-dict>=0.1.5 in /home/ec2-user/anaconda3/envs/pytorch_p36/lib/python3.6/site-packages (from sagemaker==1.72.0) (0.1.5)\n",
      "Collecting smdebug-rulesconfig==0.1.4\n",
      "  Downloading smdebug_rulesconfig-0.1.4-py2.py3-none-any.whl (10 kB)\n",
      "Requirement already satisfied: importlib-metadata>=1.4.0 in /home/ec2-user/anaconda3/envs/pytorch_p36/lib/python3.6/site-packages (from sagemaker==1.72.0) (3.7.0)\n",
      "Requirement already satisfied: packaging>=20.0 in /home/ec2-user/anaconda3/envs/pytorch_p36/lib/python3.6/site-packages (from sagemaker==1.72.0) (20.9)\n",
      "Requirement already satisfied: jmespath<1.0.0,>=0.7.1 in /home/ec2-user/anaconda3/envs/pytorch_p36/lib/python3.6/site-packages (from boto3>=1.14.12->sagemaker==1.72.0) (0.10.0)\n",
      "Requirement already satisfied: botocore<1.21.0,>=1.20.92 in /home/ec2-user/anaconda3/envs/pytorch_p36/lib/python3.6/site-packages (from boto3>=1.14.12->sagemaker==1.72.0) (1.20.92)\n",
      "Requirement already satisfied: s3transfer<0.5.0,>=0.4.0 in /home/ec2-user/anaconda3/envs/pytorch_p36/lib/python3.6/site-packages (from boto3>=1.14.12->sagemaker==1.72.0) (0.4.2)\n",
      "Requirement already satisfied: python-dateutil<3.0.0,>=2.1 in /home/ec2-user/anaconda3/envs/pytorch_p36/lib/python3.6/site-packages (from botocore<1.21.0,>=1.20.92->boto3>=1.14.12->sagemaker==1.72.0) (2.8.1)\n",
      "Requirement already satisfied: urllib3<1.27,>=1.25.4 in /home/ec2-user/anaconda3/envs/pytorch_p36/lib/python3.6/site-packages (from botocore<1.21.0,>=1.20.92->boto3>=1.14.12->sagemaker==1.72.0) (1.26.5)\n",
      "Requirement already satisfied: zipp>=0.5 in /home/ec2-user/anaconda3/envs/pytorch_p36/lib/python3.6/site-packages (from importlib-metadata>=1.4.0->sagemaker==1.72.0) (3.4.0)\n",
      "Requirement already satisfied: typing-extensions>=3.6.4 in /home/ec2-user/anaconda3/envs/pytorch_p36/lib/python3.6/site-packages (from importlib-metadata>=1.4.0->sagemaker==1.72.0) (3.7.4.3)\n",
      "Requirement already satisfied: pyparsing>=2.0.2 in /home/ec2-user/anaconda3/envs/pytorch_p36/lib/python3.6/site-packages (from packaging>=20.0->sagemaker==1.72.0) (2.4.7)\n",
      "Requirement already satisfied: six>=1.9 in /home/ec2-user/anaconda3/envs/pytorch_p36/lib/python3.6/site-packages (from protobuf>=3.1->sagemaker==1.72.0) (1.15.0)\n",
      "Building wheels for collected packages: sagemaker\n",
      "  Building wheel for sagemaker (setup.py) ... \u001b[?25ldone\n",
      "\u001b[?25h  Created wheel for sagemaker: filename=sagemaker-1.72.0-py2.py3-none-any.whl size=386358 sha256=e34af07741a7178928f3c96330fbbfde6ddeb64afd13b0d44cb32e99fd6610b1\n",
      "  Stored in directory: /home/ec2-user/.cache/pip/wheels/c3/58/70/85faf4437568bfaa4c419937569ba1fe54d44c5db42406bbd7\n",
      "Successfully built sagemaker\n",
      "Installing collected packages: smdebug-rulesconfig, sagemaker\n",
      "  Attempting uninstall: smdebug-rulesconfig\n",
      "    Found existing installation: smdebug-rulesconfig 1.0.1\n",
      "    Uninstalling smdebug-rulesconfig-1.0.1:\n",
      "      Successfully uninstalled smdebug-rulesconfig-1.0.1\n",
      "  Attempting uninstall: sagemaker\n",
      "    Found existing installation: sagemaker 2.42.1\n",
      "    Uninstalling sagemaker-2.42.1:\n",
      "      Successfully uninstalled sagemaker-2.42.1\n",
      "Successfully installed sagemaker-1.72.0 smdebug-rulesconfig-0.1.4\n"
     ]
    }
   ],
   "source": [
    "# Make sure that we use SageMaker 1.x\n",
    "!pip install sagemaker==1.72.0"
   ]
  },
  {
   "cell_type": "markdown",
   "metadata": {},
   "source": [
    "## Step 1: Downloading the data\n",
    "\n",
    "As in the XGBoost in SageMaker notebook, we will be using the [IMDb dataset](http://ai.stanford.edu/~amaas/data/sentiment/)\n",
    "\n",
    "> Maas, Andrew L., et al. [Learning Word Vectors for Sentiment Analysis](http://ai.stanford.edu/~amaas/data/sentiment/). In _Proceedings of the 49th Annual Meeting of the Association for Computational Linguistics: Human Language Technologies_. Association for Computational Linguistics, 2011."
   ]
  },
  {
   "cell_type": "code",
   "execution_count": 2,
   "metadata": {},
   "outputs": [
    {
     "name": "stdout",
     "output_type": "stream",
     "text": [
      "mkdir: cannot create directory ‘../data’: File exists\n",
      "--2021-06-12 09:44:40--  http://ai.stanford.edu/~amaas/data/sentiment/aclImdb_v1.tar.gz\n",
      "Resolving ai.stanford.edu (ai.stanford.edu)... 171.64.68.10\n",
      "Connecting to ai.stanford.edu (ai.stanford.edu)|171.64.68.10|:80... connected.\n",
      "HTTP request sent, awaiting response... 200 OK\n",
      "Length: 84125825 (80M) [application/x-gzip]\n",
      "Saving to: ‘../data/aclImdb_v1.tar.gz’\n",
      "\n",
      "../data/aclImdb_v1. 100%[===================>]  80.23M  24.5MB/s    in 3.6s    \n",
      "\n",
      "2021-06-12 09:44:44 (22.4 MB/s) - ‘../data/aclImdb_v1.tar.gz’ saved [84125825/84125825]\n",
      "\n"
     ]
    }
   ],
   "source": [
    "%mkdir ../data\n",
    "!wget -O ../data/aclImdb_v1.tar.gz http://ai.stanford.edu/~amaas/data/sentiment/aclImdb_v1.tar.gz\n",
    "!tar -zxf ../data/aclImdb_v1.tar.gz -C ../data"
   ]
  },
  {
   "cell_type": "markdown",
   "metadata": {},
   "source": [
    "## Step 2: Preparing and Processing the data\n",
    "\n",
    "Also, as in the XGBoost notebook, we will be doing some initial data processing. The first few steps are the same as in the XGBoost example. To begin with, we will read in each of the reviews and combine them into a single input structure. Then, we will split the dataset into a training set and a testing set."
   ]
  },
  {
   "cell_type": "code",
   "execution_count": 3,
   "metadata": {},
   "outputs": [],
   "source": [
    "import os\n",
    "import glob\n",
    "\n",
    "def read_imdb_data(data_dir='../data/aclImdb'):\n",
    "    data = {}\n",
    "    labels = {}\n",
    "    \n",
    "    for data_type in ['train', 'test']:\n",
    "        data[data_type] = {}\n",
    "        labels[data_type] = {}\n",
    "        \n",
    "        for sentiment in ['pos', 'neg']:\n",
    "            data[data_type][sentiment] = []\n",
    "            labels[data_type][sentiment] = []\n",
    "            \n",
    "            path = os.path.join(data_dir, data_type, sentiment, '*.txt')\n",
    "            files = glob.glob(path)\n",
    "            \n",
    "            for f in files:\n",
    "                with open(f) as review:\n",
    "                    data[data_type][sentiment].append(review.read())\n",
    "                    # Here we represent a positive review by '1' and a negative review by '0'\n",
    "                    labels[data_type][sentiment].append(1 if sentiment == 'pos' else 0)\n",
    "                    \n",
    "            assert len(data[data_type][sentiment]) == len(labels[data_type][sentiment]), \\\n",
    "                    \"{}/{} data size does not match labels size\".format(data_type, sentiment)\n",
    "                \n",
    "    return data, labels"
   ]
  },
  {
   "cell_type": "code",
   "execution_count": 4,
   "metadata": {},
   "outputs": [
    {
     "name": "stdout",
     "output_type": "stream",
     "text": [
      "IMDB reviews: train = 12500 pos / 12500 neg, test = 12500 pos / 12500 neg\n"
     ]
    }
   ],
   "source": [
    "data, labels = read_imdb_data()\n",
    "print(\"IMDB reviews: train = {} pos / {} neg, test = {} pos / {} neg\".format(\n",
    "            len(data['train']['pos']), len(data['train']['neg']),\n",
    "            len(data['test']['pos']), len(data['test']['neg'])))"
   ]
  },
  {
   "cell_type": "markdown",
   "metadata": {},
   "source": [
    "Now that we've read the raw training and testing data from the downloaded dataset, we will combine the positive and negative reviews and shuffle the resulting records."
   ]
  },
  {
   "cell_type": "code",
   "execution_count": 5,
   "metadata": {},
   "outputs": [],
   "source": [
    "from sklearn.utils import shuffle\n",
    "\n",
    "def prepare_imdb_data(data, labels):\n",
    "    \"\"\"Prepare training and test sets from IMDb movie reviews.\"\"\"\n",
    "    \n",
    "    #Combine positive and negative reviews and labels\n",
    "    data_train = data['train']['pos'] + data['train']['neg']\n",
    "    data_test = data['test']['pos'] + data['test']['neg']\n",
    "    labels_train = labels['train']['pos'] + labels['train']['neg']\n",
    "    labels_test = labels['test']['pos'] + labels['test']['neg']\n",
    "    \n",
    "    #Shuffle reviews and corresponding labels within training and test sets\n",
    "    data_train, labels_train = shuffle(data_train, labels_train)\n",
    "    data_test, labels_test = shuffle(data_test, labels_test)\n",
    "    \n",
    "    # Return a unified training data, test data, training labels, test labets\n",
    "    return data_train, data_test, labels_train, labels_test"
   ]
  },
  {
   "cell_type": "code",
   "execution_count": 6,
   "metadata": {},
   "outputs": [
    {
     "name": "stdout",
     "output_type": "stream",
     "text": [
      "IMDb reviews (combined): train = 25000, test = 25000\n"
     ]
    }
   ],
   "source": [
    "train_X, test_X, train_y, test_y = prepare_imdb_data(data, labels)\n",
    "print(\"IMDb reviews (combined): train = {}, test = {}\".format(len(train_X), len(test_X)))"
   ]
  },
  {
   "cell_type": "markdown",
   "metadata": {},
   "source": [
    "Now that we have our training and testing sets unified and prepared, we should do a quick check and see an example of the data our model will be trained on. This is generally a good idea as it allows you to see how each of the further processing steps affects the reviews and it also ensures that the data has been loaded correctly."
   ]
  },
  {
   "cell_type": "code",
   "execution_count": 7,
   "metadata": {},
   "outputs": [
    {
     "name": "stdout",
     "output_type": "stream",
     "text": [
      "review:\t I'm a big fan of Nicolas Cage and I never thought he would work on a movie like this. I couldn't believe the other reviews and I thought it shouldn't be bad to watch it at least once...but trust me, it is.<br /><br />I haven't seen the old movie..but why would they want to remake a movie like this. The very basic idea of a good horror movie is either it should have an extremely intelligent script or it should be extremely graphic. This film doesn't fall under any of those and just remains dumb.I just kept watching the movie hoping it would get interesting at some point , but it never does. <br /><br />So this movie is a big no no for both Horror movie fans as well as for the Cage fans. You could probably for it show up on television.\n",
      "\n",
      "label:  0\n"
     ]
    }
   ],
   "source": [
    "print('review:\\t', train_X[100])\n",
    "print('\\nlabel: ', train_y[100])"
   ]
  },
  {
   "cell_type": "code",
   "execution_count": 8,
   "metadata": {},
   "outputs": [
    {
     "name": "stdout",
     "output_type": "stream",
     "text": [
      "review:\t The production value of AvP2 can be described by one adjective: AWFUL<br /><br />The script is ridiculous, even in the fictional area of AvP: What are the facehuggers good for on the Predator's ship? Why is the Predator cleaning up all signs of his influence and than wasting precious time with eviscerating and even presenting the body of an insignificant human cop? Why is the Predator alone? Why is the Predator equipping himself only on earth but on his home planet? Why does the Predator make his job so uneasy for himself by hunting down the Aliens rather than bombing the whole countryside like the humans do in the end? Why is the Predator dropping more & more of his few weapons rather than collecting them to keep them together after using one. In the end he is even dropping his armor before fighting the Predalien in hand to hand combat: what a bad plagiarism of the first predators final fight between Arny and the Predator. The Predator's gestures are so exaggerated that he is moving more like a Japanese sumo than like highly skilled extraterrestrial-safari-hunter. As one can see immediately the whole story is a mess. But it gets even worse because this botched-up job is filled up with boring patchwork of senseless interludes like a lengthy pizza ordering episode or some detailed information about the criminal past of the two brothers (Dallas & Ricky). The Sheriff is of course the friend of these two criminals who he puts regularly behind bars. (not convincing & absolutely superfluous for the plot).<br /><br />In addition to that the cast of actors is horrible. Compared to the high class of directors & actors of the former Aliens or Predator movies AvP2 is an embarrassingly bad piece of crap.<br /><br />At last the action of the movie is really poor. There is not a single scene of action combat in which the audience can see the whole set. Each and every fight is filmed in short & shaky bursts with close up zoom at nearly full darkness. That results in an atrocious experience for the audience because one can mostly see nothing but a dark shaky screen.<br /><br />I suggest the two directing brothers Strause to buy themselves a steadycam and get a lesson in modern CG so that the next film contains some visible action of visible figures and might not need to disguise their bad directing abilities in such a manner.<br /><br />I would advise anybody (even die hard AvP fans) against watching this film: prefer the first one or the original Aliens or the original Predator films but avoid disappointing yourself by wasting your precious time on this failure.\n",
      "\n",
      "label:  0\n"
     ]
    }
   ],
   "source": [
    "print('review:\\t', test_X[99])\n",
    "print('\\nlabel: ', test_y[99])"
   ]
  },
  {
   "cell_type": "markdown",
   "metadata": {},
   "source": [
    "The first step in processing the reviews is to make sure that any html tags that appear should be removed. In addition we wish to tokenize our input, that way words such as *entertained* and *entertaining* are considered the same with regard to sentiment analysis."
   ]
  },
  {
   "cell_type": "code",
   "execution_count": 9,
   "metadata": {},
   "outputs": [],
   "source": [
    "import nltk\n",
    "from nltk.corpus import stopwords\n",
    "from nltk.stem.porter import *\n",
    "\n",
    "import re\n",
    "from bs4 import BeautifulSoup\n",
    "\n",
    "def review_to_words(review):\n",
    "    nltk.download(\"stopwords\", quiet=True)\n",
    "    stemmer = PorterStemmer()\n",
    "    \n",
    "    text = BeautifulSoup(review, \"html.parser\").get_text() # Remove HTML tags\n",
    "    text = re.sub(r\"[^a-zA-Z0-9]\", \" \", text.lower()) # Convert to lower case\n",
    "    words = text.split() # Split string into words\n",
    "    words = [w for w in words if w not in stopwords.words(\"english\")] # Remove stopwords\n",
    "    words = [PorterStemmer().stem(w) for w in words] # stem\n",
    "    \n",
    "    return words"
   ]
  },
  {
   "cell_type": "markdown",
   "metadata": {},
   "source": [
    "The `review_to_words` method defined above uses `BeautifulSoup` to remove any html tags that appear and uses the `nltk` package to tokenize the reviews. As a check to ensure we know how everything is working, try applying `review_to_words` to one of the reviews in the training set."
   ]
  },
  {
   "cell_type": "code",
   "execution_count": 10,
   "metadata": {},
   "outputs": [
    {
     "name": "stdout",
     "output_type": "stream",
     "text": [
      "['big', 'fan', 'nicola', 'cage', 'never', 'thought', 'would', 'work', 'movi', 'like', 'believ', 'review', 'thought', 'bad', 'watch', 'least', 'trust', 'seen', 'old', 'movi', 'would', 'want', 'remak', 'movi', 'like', 'basic', 'idea', 'good', 'horror', 'movi', 'either', 'extrem', 'intellig', 'script', 'extrem', 'graphic', 'film', 'fall', 'remain', 'dumb', 'kept', 'watch', 'movi', 'hope', 'would', 'get', 'interest', 'point', 'never', 'movi', 'big', 'horror', 'movi', 'fan', 'well', 'cage', 'fan', 'could', 'probabl', 'show', 'televis']\n"
     ]
    }
   ],
   "source": [
    "# TODO: Apply review_to_words to a review (train_X[100] or any other review)\n",
    "print(review_to_words(train_X[100]))"
   ]
  },
  {
   "cell_type": "markdown",
   "metadata": {},
   "source": [
    "**Question:** Above we mentioned that `review_to_words` method removes html formatting and allows us to tokenize the words found in a review, for example, converting *entertained* and *entertaining* into *entertain* so that they are treated as though they are the same word. What else, if anything, does this method do to the input?"
   ]
  },
  {
   "cell_type": "markdown",
   "metadata": {},
   "source": [
    "**Answer:** \n",
    "* It removes common words like a, it's, of, the, etc.\n",
    "* It lowers the case\n",
    "* It transforms plural to singular."
   ]
  },
  {
   "cell_type": "markdown",
   "metadata": {},
   "source": [
    "The method below applies the `review_to_words` method to each of the reviews in the training and testing datasets. In addition it caches the results. This is because performing this processing step can take a long time. This way if you are unable to complete the notebook in the current session, you can come back without needing to process the data a second time."
   ]
  },
  {
   "cell_type": "code",
   "execution_count": 11,
   "metadata": {},
   "outputs": [],
   "source": [
    "import pickle\n",
    "\n",
    "cache_dir = os.path.join(\"../cache\", \"sentiment_analysis\")  # where to store cache files\n",
    "os.makedirs(cache_dir, exist_ok=True)  # ensure cache directory exists\n",
    "\n",
    "def preprocess_data(data_train, data_test, labels_train, labels_test,\n",
    "                    cache_dir=cache_dir, cache_file=\"preprocessed_data.pkl\"):\n",
    "    \"\"\"Convert each review to words; read from cache if available.\"\"\"\n",
    "\n",
    "    # If cache_file is not None, try to read from it first\n",
    "    cache_data = None\n",
    "    if cache_file is not None:\n",
    "        try:\n",
    "            with open(os.path.join(cache_dir, cache_file), \"rb\") as f:\n",
    "                cache_data = pickle.load(f)\n",
    "            print(\"Read preprocessed data from cache file:\", cache_file)\n",
    "        except:\n",
    "            pass  # unable to read from cache, but that's okay\n",
    "    \n",
    "    # If cache is missing, then do the heavy lifting\n",
    "    if cache_data is None:\n",
    "        # Preprocess training and test data to obtain words for each review\n",
    "        #words_train = list(map(review_to_words, data_train))\n",
    "        #words_test = list(map(review_to_words, data_test))\n",
    "        words_train = [review_to_words(review) for review in data_train]\n",
    "        words_test = [review_to_words(review) for review in data_test]\n",
    "        \n",
    "        # Write to cache file for future runs\n",
    "        if cache_file is not None:\n",
    "            cache_data = dict(words_train=words_train, words_test=words_test,\n",
    "                              labels_train=labels_train, labels_test=labels_test)\n",
    "            with open(os.path.join(cache_dir, cache_file), \"wb\") as f:\n",
    "                pickle.dump(cache_data, f)\n",
    "            print(\"Wrote preprocessed data to cache file:\", cache_file)\n",
    "    else:\n",
    "        # Unpack data loaded from cache file\n",
    "        words_train, words_test, labels_train, labels_test = (cache_data['words_train'],\n",
    "                cache_data['words_test'], cache_data['labels_train'], cache_data['labels_test'])\n",
    "    \n",
    "    return words_train, words_test, labels_train, labels_test"
   ]
  },
  {
   "cell_type": "code",
   "execution_count": 12,
   "metadata": {},
   "outputs": [
    {
     "name": "stdout",
     "output_type": "stream",
     "text": [
      "Read preprocessed data from cache file: preprocessed_data.pkl\n"
     ]
    }
   ],
   "source": [
    "# Preprocess data\n",
    "train_X, test_X, train_y, test_y = preprocess_data(train_X, test_X, train_y, test_y)"
   ]
  },
  {
   "cell_type": "code",
   "execution_count": 13,
   "metadata": {},
   "outputs": [
    {
     "name": "stdout",
     "output_type": "stream",
     "text": [
      "['actual', 'stop', 'get', 'wrong', 'love', 'bad', 'monster', 'movi', 'one', 'way', 'bore', 'regardless', 'suspens', 'music', 'never', 'lead', 'anywher', 'actress', 'mani', 'teeth', 'moment', 'make', 'contact', 'one', 'beast', 'way', 'obviou', 'clich', 'film', 'total', 'betray', 'cover', 'dvd', 'look', 'pretti', 'interest', 'cover', 'one', 'expect', 'giant', 'monster', 'get', 'cute', 'gigant', 'expect', 'electr', 'eel', 'move', 'watch', 'anoth', 'film', 'call', 'killer', 'rat', 'anoth', 'review', 'deep', 'shock', 'realli', 'crap', 'big', 'shame', 'consid', 'fact', 'look', 'pretti', 'high', 'budget']\n"
     ]
    }
   ],
   "source": [
    "# print samples of sentences and labels from train and test set\n",
    "print(train_X[100])"
   ]
  },
  {
   "cell_type": "code",
   "execution_count": 14,
   "metadata": {},
   "outputs": [
    {
     "name": "stdout",
     "output_type": "stream",
     "text": [
      "0\n"
     ]
    }
   ],
   "source": [
    "print(train_y[100])"
   ]
  },
  {
   "cell_type": "code",
   "execution_count": 15,
   "metadata": {},
   "outputs": [
    {
     "name": "stdout",
     "output_type": "stream",
     "text": [
      "['physic', 'student', 'say', 'think', 'one', 'best', 'popular', 'introduct', 'string', 'theori', 'eleg', 'univers', 'manag', 'make', 'entir', 'topic', 'string', 'although', 'actual', 'theori', 'access', 'wider', 'audienc', 'popular', 'scienc', 'programm', 'feel', 'best', 'approach', 'throw', 'audienc', 'deep', 'end', 'throw', 'technic', 'jargon', 'without', 'much', 'explan', 'present', 'theori', 'bore', 'stale', 'style', 'programm', 'goe', 'concept', 'gener', 'rel', 'quantum', 'mechan', 'explain', 'issu', 'need', 'resolv', 'two', 'coher', 'theori', 'appli', 'univers', 'larg', 'small', 'scale', 'suppos', 'could', 'say', 'slow', 'take', 'long', 'get', 'interest', 'stuff', 'like', 'extra', 'dimens', 'wormhol', 'thing', 'point', 'explain', 'string', 'theori', 'start', 'nigh', 'imposs', 'without', 'least', 'mention', 'physic', 'base', 'way', 'explain', 'eleg', 'univers', 'clear', 'entertain', 'whether', 'like', 'program', 'realli', 'depend', 'will', 'perhap', 'initi', 'dumbfound', 'idea', 'green', 'present', 'extra', 'dimens', 'warp', 'spacetim', 'exactli', 'preval', 'everyday', 'life', 'persever', 'exot', 'concept', 'programm', 'find', 'give', 'insight', 'research', 'drive', 'world', 'physic', 'today', 'studi', 'physic', 'well', 'great', 'entertain', 'well', 'like', 'abl', 'follow', 'appreci', 'even']\n"
     ]
    }
   ],
   "source": [
    "print(test_X[100])"
   ]
  },
  {
   "cell_type": "code",
   "execution_count": 16,
   "metadata": {},
   "outputs": [
    {
     "name": "stdout",
     "output_type": "stream",
     "text": [
      "1\n"
     ]
    }
   ],
   "source": [
    "print(test_y[100])"
   ]
  },
  {
   "cell_type": "markdown",
   "metadata": {},
   "source": [
    "## Transform the data\n",
    "\n",
    "In the XGBoost notebook we transformed the data from its word representation to a bag-of-words feature representation. For the model we are going to construct in this notebook we will construct a feature representation which is very similar. To start, we will represent each word as an integer. Of course, some of the words that appear in the reviews occur very infrequently and so likely don't contain much information for the purposes of sentiment analysis. The way we will deal with this problem is that we will fix the size of our working vocabulary and we will only include the words that appear most frequently. We will then combine all of the infrequent words into a single category and, in our case, we will label it as `1`.\n",
    "\n",
    "Since we will be using a recurrent neural network, it will be convenient if the length of each review is the same. To do this, we will fix a size for our reviews and then pad short reviews with the category 'no word' (which we will label `0`) and truncate long reviews."
   ]
  },
  {
   "cell_type": "markdown",
   "metadata": {},
   "source": [
    "### (TODO) Create a word dictionary\n",
    "\n",
    "To begin with, we need to construct a way to map words that appear in the reviews to integers. Here we fix the size of our vocabulary (including the 'no word' and 'infrequent' categories) to be `5000` but you may wish to change this to see how it affects the model.\n",
    "\n",
    "> **TODO:** Complete the implementation for the `build_dict()` method below. Note that even though the vocab_size is set to `5000`, we only want to construct a mapping for the most frequently appearing `4998` words. This is because we want to reserve the special labels `0` for 'no word' and `1` for 'infrequent word'."
   ]
  },
  {
   "cell_type": "code",
   "execution_count": 17,
   "metadata": {},
   "outputs": [],
   "source": [
    "import numpy as np\n",
    "from collections import Counter\n",
    "\n",
    "def build_dict(data, vocab_size = 5000):\n",
    "    \"\"\"Construct and return a dictionary mapping each of the most frequently appearing words to a \n",
    "    unique integer.\"\"\"\n",
    "    \n",
    "    # TODO: Determine how often each word appears in `data`. Note that `data` is a list of sentences \n",
    "    # and that a sentence is a list of words.\n",
    "    \n",
    "    # A dict storing the words that appear in the reviews along with how often they occur\n",
    "    word_count = dict(Counter(word for sentence in data for word in sentence))\n",
    "    # TODO: Sort the words found in `data` so that sorted_words[0] is the most frequently appearing \n",
    "    # word and sorted_words[-1] is the least frequently appearing word.\n",
    "    \n",
    "    sorted_words = list({k: v for k, v in sorted(word_count.items(), key=lambda item: item[1], reverse=True)}.keys())\n",
    "    \n",
    "    word_dict = {} # This is what we are building, a dictionary that translates words into integers\n",
    "    for idx, word in enumerate(sorted_words[:vocab_size - 2]): # The -2 is so that we save room for \n",
    "                                                               # the 'no word'\n",
    "        word_dict[word] = idx + 2                              # 'infrequent' labels\n",
    "        \n",
    "    return word_dict"
   ]
  },
  {
   "cell_type": "code",
   "execution_count": 18,
   "metadata": {},
   "outputs": [
    {
     "name": "stdout",
     "output_type": "stream",
     "text": [
      "{'movi': 2, 'film': 3, 'one': 4, 'like': 5, 'time': 6, 'good': 7, 'make': 8, 'charact': 9, 'get': 10, 'see': 11, 'watch': 12, 'stori': 13, 'even': 14, 'would': 15, 'realli': 16, 'well': 17, 'scene': 18, 'look': 19, 'show': 20, 'much': 21, 'end': 22, 'peopl': 23, 'bad': 24, 'go': 25, 'great': 26, 'also': 27, 'first': 28, 'love': 29, 'think': 30, 'way': 31, 'act': 32, 'play': 33, 'made': 34, 'thing': 35, 'could': 36, 'know': 37, 'say': 38, 'seem': 39, 'work': 40, 'plot': 41, 'two': 42, 'actor': 43, 'year': 44, 'come': 45, 'mani': 46, 'seen': 47, 'take': 48, 'life': 49, 'want': 50, 'never': 51, 'littl': 52, 'best': 53, 'tri': 54, 'man': 55, 'ever': 56, 'give': 57, 'better': 58, 'still': 59, 'perform': 60, 'find': 61, 'feel': 62, 'part': 63, 'back': 64, 'use': 65, 'someth': 66, 'director': 67, 'actual': 68, 'interest': 69, 'lot': 70, 'real': 71, 'old': 72, 'cast': 73, 'though': 74, 'live': 75, 'star': 76, 'enjoy': 77, 'guy': 78, 'anoth': 79, 'new': 80, 'role': 81, 'noth': 82, '10': 83, 'funni': 84, 'music': 85, 'point': 86, 'start': 87, 'set': 88, 'girl': 89, 'origin': 90, 'day': 91, 'world': 92, 'everi': 93, 'believ': 94, 'turn': 95, 'quit': 96, 'direct': 97, 'us': 98, 'thought': 99, 'fact': 100, 'minut': 101, 'horror': 102, 'kill': 103, 'action': 104, 'comedi': 105, 'pretti': 106, 'young': 107, 'wonder': 108, 'happen': 109, 'around': 110, 'got': 111, 'effect': 112, 'right': 113, 'long': 114, 'howev': 115, 'big': 116, 'line': 117, 'famili': 118, 'enough': 119, 'seri': 120, 'may': 121, 'need': 122, 'fan': 123, 'bit': 124, 'script': 125, 'beauti': 126, 'person': 127, 'becom': 128, 'without': 129, 'must': 130, 'alway': 131, 'friend': 132, 'tell': 133, 'reason': 134, 'saw': 135, 'last': 136, 'final': 137, 'kid': 138, 'almost': 139, 'put': 140, 'least': 141, 'sure': 142, 'done': 143, 'whole': 144, 'place': 145, 'complet': 146, 'kind': 147, 'differ': 148, 'expect': 149, 'shot': 150, 'far': 151, 'mean': 152, 'anyth': 153, 'book': 154, 'laugh': 155, 'might': 156, 'name': 157, 'sinc': 158, 'begin': 159, '2': 160, 'probabl': 161, 'woman': 162, 'help': 163, 'entertain': 164, 'let': 165, 'screen': 166, 'call': 167, 'tv': 168, 'moment': 169, 'away': 170, 'read': 171, 'yet': 172, 'rather': 173, 'worst': 174, 'run': 175, 'fun': 176, 'lead': 177, 'hard': 178, 'audienc': 179, 'idea': 180, 'anyon': 181, 'episod': 182, 'american': 183, 'found': 184, 'appear': 185, 'bore': 186, 'especi': 187, 'although': 188, 'hope': 189, 'keep': 190, 'cours': 191, 'anim': 192, 'job': 193, 'goe': 194, 'move': 195, 'sens': 196, 'version': 197, 'dvd': 198, 'war': 199, 'money': 200, 'someon': 201, 'mind': 202, 'mayb': 203, 'problem': 204, 'true': 205, 'hous': 206, 'everyth': 207, 'nice': 208, 'second': 209, 'rate': 210, 'three': 211, 'night': 212, 'face': 213, 'follow': 214, 'recommend': 215, 'main': 216, 'product': 217, 'worth': 218, 'leav': 219, 'human': 220, 'special': 221, 'excel': 222, 'togeth': 223, 'wast': 224, 'everyon': 225, 'sound': 226, 'john': 227, 'hand': 228, '1': 229, 'father': 230, 'later': 231, 'eye': 232, 'said': 233, 'view': 234, 'instead': 235, 'review': 236, 'boy': 237, 'high': 238, 'hour': 239, 'miss': 240, 'talk': 241, 'classic': 242, 'wife': 243, 'understand': 244, 'left': 245, 'care': 246, 'black': 247, 'death': 248, 'open': 249, 'murder': 250, 'write': 251, 'half': 252, 'head': 253, 'rememb': 254, 'chang': 255, 'viewer': 256, 'fight': 257, 'gener': 258, 'surpris': 259, 'includ': 260, 'short': 261, 'die': 262, 'fall': 263, 'less': 264, 'els': 265, 'entir': 266, 'piec': 267, 'involv': 268, 'pictur': 269, 'simpli': 270, 'top': 271, 'home': 272, 'power': 273, 'total': 274, 'usual': 275, 'budget': 276, 'attempt': 277, 'suppos': 278, 'releas': 279, 'hollywood': 280, 'terribl': 281, 'song': 282, 'men': 283, 'possibl': 284, 'featur': 285, 'portray': 286, 'disappoint': 287, 'poor': 288, '3': 289, 'coupl': 290, 'camera': 291, 'stupid': 292, 'dead': 293, 'wrong': 294, 'produc': 295, 'low': 296, 'video': 297, 'either': 298, 'aw': 299, 'definit': 300, 'except': 301, 'rest': 302, 'given': 303, 'absolut': 304, 'women': 305, 'lack': 306, 'word': 307, 'writer': 308, 'titl': 309, 'talent': 310, 'decid': 311, 'full': 312, 'perfect': 313, 'along': 314, 'style': 315, 'close': 316, 'truli': 317, 'school': 318, 'save': 319, 'emot': 320, 'sex': 321, 'age': 322, 'next': 323, 'bring': 324, 'mr': 325, 'case': 326, 'killer': 327, 'heart': 328, 'comment': 329, 'sort': 330, 'creat': 331, 'perhap': 332, 'came': 333, 'brother': 334, 'sever': 335, 'joke': 336, 'art': 337, 'dialogu': 338, 'game': 339, 'small': 340, 'base': 341, 'flick': 342, 'written': 343, 'sequenc': 344, 'meet': 345, 'earli': 346, 'often': 347, 'other': 348, 'mother': 349, 'develop': 350, 'humor': 351, 'actress': 352, 'consid': 353, 'dark': 354, 'guess': 355, 'amaz': 356, 'unfortun': 357, 'light': 358, 'lost': 359, 'exampl': 360, 'cinema': 361, 'drama': 362, 'ye': 363, 'white': 364, 'experi': 365, 'imagin': 366, 'mention': 367, 'stop': 368, 'natur': 369, 'forc': 370, 'manag': 371, 'felt': 372, 'cut': 373, 'present': 374, 'children': 375, 'fail': 376, 'son': 377, 'support': 378, 'car': 379, 'qualiti': 380, 'ask': 381, 'hit': 382, 'side': 383, 'voic': 384, 'extrem': 385, 'impress': 386, 'evil': 387, 'wors': 388, 'stand': 389, 'went': 390, 'certainli': 391, 'basic': 392, 'oh': 393, 'overal': 394, 'favorit': 395, 'horribl': 396, 'mysteri': 397, 'number': 398, 'type': 399, 'danc': 400, 'wait': 401, 'hero': 402, 'alreadi': 403, '5': 404, 'learn': 405, 'matter': 406, '4': 407, 'michael': 408, 'genr': 409, 'fine': 410, 'despit': 411, 'throughout': 412, 'walk': 413, 'success': 414, 'histori': 415, 'question': 416, 'zombi': 417, 'town': 418, 'realiz': 419, 'relationship': 420, 'past': 421, 'child': 422, 'daughter': 423, 'late': 424, 'b': 425, 'wish': 426, 'credit': 427, 'hate': 428, 'event': 429, 'theme': 430, 'touch': 431, 'citi': 432, 'today': 433, 'sometim': 434, 'behind': 435, 'god': 436, 'twist': 437, 'sit': 438, 'deal': 439, 'annoy': 440, 'stay': 441, 'abl': 442, 'rent': 443, 'pleas': 444, 'edit': 445, 'blood': 446, 'deserv': 447, 'anyway': 448, 'comic': 449, 'appar': 450, 'soon': 451, 'gave': 452, 'etc': 453, 'level': 454, 'slow': 455, 'chanc': 456, 'score': 457, 'bodi': 458, 'brilliant': 459, 'incred': 460, 'figur': 461, 'situat': 462, 'self': 463, 'major': 464, 'stuff': 465, 'decent': 466, 'element': 467, 'dream': 468, 'return': 469, 'obvious': 470, 'continu': 471, 'order': 472, 'pace': 473, 'ridicul': 474, 'happi': 475, 'add': 476, 'highli': 477, 'group': 478, 'thank': 479, 'ladi': 480, 'novel': 481, 'speak': 482, 'pain': 483, 'career': 484, 'shoot': 485, 'strang': 486, 'heard': 487, 'sad': 488, 'polic': 489, 'husband': 490, 'import': 491, 'break': 492, 'took': 493, 'strong': 494, 'cannot': 495, 'predict': 496, 'robert': 497, 'violenc': 498, 'hilari': 499, 'recent': 500, 'countri': 501, 'known': 502, 'particularli': 503, 'pick': 504, 'documentari': 505, 'season': 506, 'critic': 507, 'jame': 508, 'compar': 509, 'obviou': 510, 'alon': 511, 'told': 512, 'state': 513, 'rock': 514, 'visual': 515, 'theater': 516, 'offer': 517, 'exist': 518, 'opinion': 519, 'gore': 520, 'hold': 521, 'crap': 522, 'result': 523, 'hear': 524, 'room': 525, 'realiti': 526, 'effort': 527, 'clich': 528, 'thriller': 529, 'caus': 530, 'sequel': 531, 'explain': 532, 'serious': 533, 'king': 534, 'local': 535, 'ago': 536, 'none': 537, 'hell': 538, 'note': 539, 'allow': 540, 'david': 541, 'sister': 542, 'simpl': 543, 'femal': 544, 'deliv': 545, 'ok': 546, 'convinc': 547, 'class': 548, 'check': 549, 'suspens': 550, 'win': 551, 'buy': 552, 'oscar': 553, 'huge': 554, 'valu': 555, 'sexual': 556, 'cool': 557, 'scari': 558, 'similar': 559, 'excit': 560, 'apart': 561, 'provid': 562, 'exactli': 563, 'avoid': 564, 'shown': 565, 'seriou': 566, 'english': 567, 'whose': 568, 'taken': 569, 'cinematographi': 570, 'shock': 571, 'polit': 572, 'spoiler': 573, 'offic': 574, 'across': 575, 'middl': 576, 'street': 577, 'pass': 578, 'messag': 579, 'silli': 580, 'somewhat': 581, 'charm': 582, 'modern': 583, 'filmmak': 584, 'confus': 585, 'form': 586, 'tale': 587, 'singl': 588, 'jack': 589, 'mostli': 590, 'carri': 591, 'william': 592, 'attent': 593, 'sing': 594, 'subject': 595, 'five': 596, 'prove': 597, 'richard': 598, 'stage': 599, 'team': 600, 'cop': 601, 'unlik': 602, 'georg': 603, 'monster': 604, 'televis': 605, 'earth': 606, 'cover': 607, 'villain': 608, 'pay': 609, 'marri': 610, 'toward': 611, 'build': 612, 'pull': 613, 'parent': 614, 'due': 615, 'respect': 616, 'fill': 617, 'dialog': 618, 'four': 619, 'remind': 620, 'futur': 621, 'typic': 622, 'weak': 623, '7': 624, 'cheap': 625, 'intellig': 626, 'atmospher': 627, 'british': 628, 'clearli': 629, '80': 630, 'paul': 631, 'dog': 632, 'non': 633, '8': 634, 'knew': 635, 'fast': 636, 'artist': 637, 'crime': 638, 'easili': 639, 'escap': 640, 'doubt': 641, 'adult': 642, 'detail': 643, 'date': 644, 'fire': 645, 'member': 646, 'romant': 647, 'drive': 648, 'gun': 649, 'straight': 650, 'beyond': 651, 'fit': 652, 'attack': 653, 'imag': 654, 'upon': 655, 'posit': 656, 'whether': 657, 'peter': 658, 'fantast': 659, 'captur': 660, 'appreci': 661, 'aspect': 662, 'ten': 663, 'plan': 664, 'discov': 665, 'remain': 666, 'near': 667, 'period': 668, 'air': 669, 'realist': 670, 'mark': 671, 'red': 672, 'dull': 673, 'adapt': 674, 'within': 675, 'lose': 676, 'spend': 677, 'color': 678, 'materi': 679, 'chase': 680, 'mari': 681, 'storylin': 682, 'forget': 683, 'bunch': 684, 'clear': 685, 'lee': 686, 'victim': 687, 'nearli': 688, 'box': 689, 'york': 690, 'inspir': 691, 'match': 692, 'mess': 693, 'finish': 694, 'standard': 695, 'easi': 696, 'truth': 697, 'suffer': 698, 'busi': 699, 'dramat': 700, 'space': 701, 'bill': 702, 'western': 703, 'e': 704, 'list': 705, 'battl': 706, 'notic': 707, 'de': 708, 'french': 709, 'ad': 710, '9': 711, 'tom': 712, 'larg': 713, 'among': 714, 'eventu': 715, 'accept': 716, 'train': 717, 'agre': 718, 'soundtrack': 719, 'spirit': 720, 'third': 721, 'teenag': 722, 'soldier': 723, 'adventur': 724, 'famou': 725, 'drug': 726, 'sorri': 727, 'suggest': 728, 'normal': 729, 'cri': 730, 'babi': 731, 'ultim': 732, 'troubl': 733, 'contain': 734, 'certain': 735, 'cultur': 736, 'romanc': 737, 'rare': 738, 'lame': 739, 'somehow': 740, 'mix': 741, 'disney': 742, 'gone': 743, 'cartoon': 744, 'student': 745, 'fear': 746, 'reveal': 747, 'kept': 748, 'suck': 749, 'attract': 750, 'appeal': 751, 'premis': 752, 'design': 753, 'greatest': 754, 'secret': 755, 'shame': 756, 'throw': 757, 'copi': 758, 'scare': 759, 'wit': 760, 'admit': 761, 'america': 762, 'relat': 763, 'particular': 764, 'brought': 765, 'screenplay': 766, 'whatev': 767, 'pure': 768, '70': 769, 'averag': 770, 'harri': 771, 'master': 772, 'describ': 773, 'treat': 774, 'male': 775, '20': 776, 'issu': 777, 'fantasi': 778, 'warn': 779, 'inde': 780, 'forward': 781, 'background': 782, 'free': 783, 'project': 784, 'japanes': 785, 'memor': 786, 'poorli': 787, 'award': 788, 'locat': 789, 'potenti': 790, 'amus': 791, 'struggl': 792, 'magic': 793, 'weird': 794, 'societi': 795, 'okay': 796, 'imdb': 797, 'doctor': 798, 'accent': 799, 'hot': 800, 'water': 801, 'dr': 802, 'express': 803, '30': 804, 'alien': 805, 'odd': 806, 'choic': 807, 'crazi': 808, 'studio': 809, 'fiction': 810, 'becam': 811, 'control': 812, 'masterpiec': 813, 'fli': 814, 'difficult': 815, 'joe': 816, 'scream': 817, 'costum': 818, 'lover': 819, 'uniqu': 820, 'refer': 821, 'remak': 822, 'girlfriend': 823, 'vampir': 824, 'prison': 825, 'execut': 826, 'wear': 827, 'jump': 828, 'unless': 829, 'wood': 830, 'creepi': 831, 'cheesi': 832, 'superb': 833, 'otherwis': 834, 'parti': 835, 'roll': 836, 'ghost': 837, 'mad': 838, 'public': 839, 'depict': 840, 'week': 841, 'badli': 842, 'moral': 843, 'jane': 844, 'earlier': 845, 'fi': 846, 'dumb': 847, 'grow': 848, 'flaw': 849, 'sci': 850, 'deep': 851, 'cat': 852, 'maker': 853, 'older': 854, 'connect': 855, 'footag': 856, 'plenti': 857, 'bother': 858, 'outsid': 859, 'stick': 860, 'gay': 861, 'catch': 862, 'co': 863, 'plu': 864, 'popular': 865, 'equal': 866, 'social': 867, 'quickli': 868, 'disturb': 869, 'perfectli': 870, 'dress': 871, 'era': 872, '90': 873, 'mistak': 874, 'lie': 875, 'previou': 876, 'ride': 877, 'combin': 878, 'concept': 879, 'band': 880, 'answer': 881, 'rich': 882, 'surviv': 883, 'front': 884, 'sweet': 885, 'christma': 886, 'insid': 887, 'bare': 888, 'eat': 889, 'concern': 890, 'ben': 891, 'listen': 892, 'beat': 893, 'c': 894, 'serv': 895, 'term': 896, 'german': 897, 'meant': 898, 'la': 899, 'stereotyp': 900, 'hardli': 901, 'innoc': 902, 'law': 903, 'desper': 904, 'promis': 905, 'memori': 906, 'intent': 907, 'cute': 908, 'steal': 909, 'inform': 910, 'variou': 911, 'brain': 912, 'post': 913, 'tone': 914, 'island': 915, 'amount': 916, 'nuditi': 917, 'track': 918, 'compani': 919, 'store': 920, 'claim': 921, 'flat': 922, '50': 923, 'hair': 924, 'land': 925, 'univers': 926, 'fairli': 927, 'kick': 928, 'scott': 929, 'danger': 930, 'player': 931, 'crew': 932, 'plain': 933, 'step': 934, 'toni': 935, 'share': 936, 'tast': 937, 'centuri': 938, 'achiev': 939, 'engag': 940, 'cold': 941, 'travel': 942, 'rip': 943, 'record': 944, 'suit': 945, 'manner': 946, 'sadli': 947, 'tension': 948, 'wrote': 949, 'spot': 950, 'intens': 951, 'fascin': 952, 'familiar': 953, 'burn': 954, 'remark': 955, 'depth': 956, 'destroy': 957, 'histor': 958, 'sleep': 959, 'purpos': 960, 'languag': 961, 'ignor': 962, 'ruin': 963, 'delight': 964, 'unbeliev': 965, 'italian': 966, 'collect': 967, 'abil': 968, 'soul': 969, 'detect': 970, 'clever': 971, 'violent': 972, 'rape': 973, 'reach': 974, 'door': 975, 'liter': 976, 'scienc': 977, 'trash': 978, 'commun': 979, 'reveng': 980, 'caught': 981, 'creatur': 982, 'trip': 983, 'approach': 984, 'fashion': 985, 'intrigu': 986, 'skill': 987, 'paint': 988, 'introduc': 989, 'channel': 990, 'complex': 991, 'camp': 992, 'christian': 993, 'extra': 994, 'hole': 995, 'immedi': 996, 'mental': 997, 'limit': 998, 'ann': 999, '6': 1000, 'million': 1001, 'slightli': 1002, 'mere': 1003, 'comput': 1004, 'slasher': 1005, 'conclus': 1006, 'suddenli': 1007, 'imposs': 1008, 'neither': 1009, 'crimin': 1010, 'teen': 1011, 'spent': 1012, 'nation': 1013, 'physic': 1014, 'respons': 1015, 'planet': 1016, 'receiv': 1017, 'fake': 1018, 'blue': 1019, 'sick': 1020, 'bizarr': 1021, 'embarrass': 1022, 'indian': 1023, '15': 1024, 'ring': 1025, 'drop': 1026, 'pop': 1027, 'drag': 1028, 'haunt': 1029, 'suspect': 1030, 'pointless': 1031, 'edg': 1032, 'search': 1033, 'handl': 1034, 'common': 1035, 'biggest': 1036, 'arriv': 1037, 'faith': 1038, 'hurt': 1039, 'technic': 1040, 'angel': 1041, 'genuin': 1042, 'dad': 1043, 'awesom': 1044, 'solid': 1045, 'f': 1046, 'former': 1047, 'focu': 1048, 'colleg': 1049, 'van': 1050, 'count': 1051, 'heavi': 1052, 'tear': 1053, 'wall': 1054, 'rais': 1055, 'younger': 1056, 'laughabl': 1057, 'visit': 1058, 'excus': 1059, 'sign': 1060, 'fair': 1061, 'cult': 1062, 'tough': 1063, 'key': 1064, 'motion': 1065, 'super': 1066, 'desir': 1067, 'stun': 1068, 'addit': 1069, 'cloth': 1070, 'exploit': 1071, 'tortur': 1072, 'smith': 1073, 'race': 1074, 'davi': 1075, 'cross': 1076, 'author': 1077, 'jim': 1078, 'compel': 1079, 'focus': 1080, 'consist': 1081, 'minor': 1082, 'commit': 1083, 'chemistri': 1084, 'pathet': 1085, 'park': 1086, 'frank': 1087, 'obsess': 1088, 'tradit': 1089, 'grade': 1090, 'asid': 1091, '60': 1092, 'brutal': 1093, 'somewher': 1094, 'steve': 1095, 'opportun': 1096, 'grant': 1097, 'explor': 1098, 'depress': 1099, 'rule': 1100, 'u': 1101, 'honest': 1102, 'besid': 1103, 'dub': 1104, 'anti': 1105, 'trailer': 1106, 'intend': 1107, 'bar': 1108, 'west': 1109, 'regard': 1110, 'scientist': 1111, 'longer': 1112, 'judg': 1113, 'decad': 1114, 'silent': 1115, 'creativ': 1116, 'armi': 1117, 'wild': 1118, 'stewart': 1119, 'south': 1120, 'g': 1121, 'draw': 1122, 'road': 1123, 'govern': 1124, 'ex': 1125, 'boss': 1126, 'practic': 1127, 'festiv': 1128, 'motiv': 1129, 'gang': 1130, 'surprisingli': 1131, 'club': 1132, 'redeem': 1133, 'page': 1134, 'london': 1135, 'green': 1136, 'idiot': 1137, 'display': 1138, 'aliv': 1139, 'machin': 1140, 'militari': 1141, 'repeat': 1142, 'thrill': 1143, 'yeah': 1144, 'folk': 1145, 'nobodi': 1146, '100': 1147, '40': 1148, 'garbag': 1149, 'journey': 1150, 'smile': 1151, 'ground': 1152, 'tire': 1153, 'bought': 1154, 'mood': 1155, 'cost': 1156, 'stone': 1157, 'sam': 1158, 'noir': 1159, 'mouth': 1160, 'terrif': 1161, 'agent': 1162, 'requir': 1163, 'utterli': 1164, 'area': 1165, 'honestli': 1166, 'sexi': 1167, 'geniu': 1168, 'report': 1169, 'humour': 1170, 'glad': 1171, 'enter': 1172, 'investig': 1173, 'serial': 1174, 'passion': 1175, 'occasion': 1176, 'narr': 1177, 'marriag': 1178, 'climax': 1179, 'industri': 1180, 'studi': 1181, 'nowher': 1182, 'demon': 1183, 'ship': 1184, 'charli': 1185, 'center': 1186, 'hors': 1187, 'loos': 1188, 'bear': 1189, 'hang': 1190, 'wow': 1191, 'graphic': 1192, 'giant': 1193, 'admir': 1194, 'send': 1195, 'damn': 1196, 'loud': 1197, 'rel': 1198, 'profession': 1199, 'nake': 1200, 'subtl': 1201, 'blow': 1202, 'bottom': 1203, 'insult': 1204, 'batman': 1205, 'doubl': 1206, 'r': 1207, 'boyfriend': 1208, 'kelli': 1209, 'initi': 1210, 'frame': 1211, 'opera': 1212, 'gem': 1213, 'affect': 1214, 'challeng': 1215, 'drawn': 1216, 'church': 1217, 'cinemat': 1218, 'l': 1219, 'nightmar': 1220, 'j': 1221, 'fulli': 1222, 'evid': 1223, 'seek': 1224, 'conflict': 1225, 'arm': 1226, 'essenti': 1227, 'grace': 1228, 'wind': 1229, 'christoph': 1230, 'henri': 1231, 'assum': 1232, 'narrat': 1233, 'witch': 1234, 'push': 1235, 'hunt': 1236, 'chri': 1237, 'wise': 1238, 'month': 1239, 'repres': 1240, 'nomin': 1241, 'avail': 1242, 'hide': 1243, 'sceneri': 1244, 'affair': 1245, 'bond': 1246, 'justic': 1247, 'thu': 1248, 'smart': 1249, 'flashback': 1250, 'interview': 1251, 'outstand': 1252, 'presenc': 1253, 'satisfi': 1254, 'constantli': 1255, 'bed': 1256, 'central': 1257, 'content': 1258, 'sell': 1259, 'iron': 1260, 'everybodi': 1261, 'gag': 1262, 'hotel': 1263, 'slowli': 1264, 'hire': 1265, 'system': 1266, 'individu': 1267, 'adam': 1268, 'hey': 1269, 'thrown': 1270, 'charl': 1271, 'mediocr': 1272, 'jone': 1273, 'allen': 1274, 'ray': 1275, 'billi': 1276, 'lesson': 1277, 'cameo': 1278, 'photographi': 1279, 'fellow': 1280, 'pari': 1281, 'strike': 1282, 'independ': 1283, 'rise': 1284, 'absurd': 1285, 'brief': 1286, 'neg': 1287, 'impact': 1288, 'phone': 1289, 'ill': 1290, 'born': 1291, 'model': 1292, 'fresh': 1293, 'spoil': 1294, 'angl': 1295, 'likabl': 1296, 'abus': 1297, 'hill': 1298, 'discuss': 1299, 'ahead': 1300, 'sight': 1301, 'photograph': 1302, 'sent': 1303, 'logic': 1304, 'occur': 1305, 'shine': 1306, 'blame': 1307, 'mainli': 1308, 'bruce': 1309, 'commerci': 1310, 'skip': 1311, 'forev': 1312, 'teacher': 1313, 'surround': 1314, 'segment': 1315, 'held': 1316, 'zero': 1317, 'blond': 1318, 'trap': 1319, 'resembl': 1320, 'summer': 1321, 'satir': 1322, 'queen': 1323, 'six': 1324, 'ball': 1325, 'fool': 1326, 'sub': 1327, 'tragedi': 1328, 'twice': 1329, 'pack': 1330, 'reaction': 1331, 'bomb': 1332, 'hospit': 1333, 'protagonist': 1334, 'will': 1335, 'sport': 1336, 'mile': 1337, 'trust': 1338, 'mom': 1339, 'jerri': 1340, 'vote': 1341, 'drink': 1342, 'encount': 1343, 'plane': 1344, 'al': 1345, 'program': 1346, 'current': 1347, 'station': 1348, 'martin': 1349, 'celebr': 1350, 'choos': 1351, 'join': 1352, 'favourit': 1353, 'lord': 1354, 'field': 1355, 'tragic': 1356, 'round': 1357, 'vision': 1358, 'robot': 1359, 'jean': 1360, 'tie': 1361, 'arthur': 1362, 'roger': 1363, 'fortun': 1364, 'random': 1365, 'dread': 1366, 'intern': 1367, 'psycholog': 1368, 'nonsens': 1369, 'prefer': 1370, 'epic': 1371, 'improv': 1372, 'formula': 1373, 'pleasur': 1374, 'highlight': 1375, 'legend': 1376, 'tape': 1377, 'dollar': 1378, '11': 1379, 'fox': 1380, 'wide': 1381, 'object': 1382, 'thin': 1383, 'porn': 1384, 'gorgeou': 1385, 'ugli': 1386, 'influenc': 1387, 'buddi': 1388, 'nasti': 1389, 'ii': 1390, 'prepar': 1391, 'reflect': 1392, 'progress': 1393, 'supposedli': 1394, 'warm': 1395, 'worthi': 1396, 'youth': 1397, 'latter': 1398, 'unusu': 1399, 'length': 1400, 'crash': 1401, 'seven': 1402, 'shop': 1403, 'superior': 1404, 'childhood': 1405, 'theatr': 1406, 'remot': 1407, 'funniest': 1408, 'paid': 1409, 'disgust': 1410, 'pilot': 1411, 'fell': 1412, 'convers': 1413, 'trick': 1414, 'castl': 1415, 'gangster': 1416, 'disast': 1417, 'rob': 1418, 'establish': 1419, 'heaven': 1420, 'suicid': 1421, 'mine': 1422, 'disappear': 1423, 'ident': 1424, 'heroin': 1425, 'singer': 1426, 'mask': 1427, 'forgotten': 1428, 'decis': 1429, 'tend': 1430, 'brian': 1431, 'partner': 1432, 'recogn': 1433, 'desert': 1434, 'alan': 1435, 'sky': 1436, 'p': 1437, 'stuck': 1438, 'ms': 1439, 'thoroughli': 1440, 'accur': 1441, 'replac': 1442, 'market': 1443, 'eddi': 1444, 'danni': 1445, 'andi': 1446, 'uncl': 1447, 'clue': 1448, 'seemingli': 1449, 'commentari': 1450, 'devil': 1451, 'jackson': 1452, 'therefor': 1453, 'refus': 1454, 'that': 1455, 'pair': 1456, 'ed': 1457, 'unit': 1458, 'accid': 1459, 'fault': 1460, 'river': 1461, 'fate': 1462, 'tune': 1463, 'afraid': 1464, 'russian': 1465, 'hidden': 1466, 'stephen': 1467, 'clean': 1468, 'quick': 1469, 'readi': 1470, 'irrit': 1471, 'captain': 1472, 'convey': 1473, 'instanc': 1474, 'test': 1475, 'european': 1476, 'insan': 1477, 'frustrat': 1478, 'daniel': 1479, '1950': 1480, 'rescu': 1481, 'food': 1482, 'chines': 1483, 'wed': 1484, 'angri': 1485, 'lock': 1486, 'dirti': 1487, 'joy': 1488, 'price': 1489, 'steven': 1490, 'cage': 1491, 'bland': 1492, 'anymor': 1493, 'rang': 1494, 'wooden': 1495, 'news': 1496, 'n': 1497, 'rush': 1498, 'jason': 1499, 'martial': 1500, 'board': 1501, 'led': 1502, 'twenti': 1503, 'worri': 1504, '12': 1505, 'hunter': 1506, 'transform': 1507, 'cgi': 1508, 'symbol': 1509, 'piti': 1510, 'onto': 1511, 'johnni': 1512, 'invent': 1513, 'x': 1514, 'sentiment': 1515, 'attitud': 1516, 'process': 1517, 'explan': 1518, 'owner': 1519, 'awar': 1520, 'aim': 1521, 'target': 1522, 'favor': 1523, 'energi': 1524, 'necessari': 1525, 'floor': 1526, 'opposit': 1527, 'religi': 1528, 'window': 1529, 'blind': 1530, 'chick': 1531, 'insight': 1532, 'movement': 1533, 'research': 1534, 'mountain': 1535, 'comparison': 1536, 'deepli': 1537, 'possess': 1538, 'comed': 1539, 'whatsoev': 1540, 'rain': 1541, 'grand': 1542, 'began': 1543, 'shadow': 1544, 'mid': 1545, 'bank': 1546, 'parodi': 1547, 'princ': 1548, 'credibl': 1549, 'friendship': 1550, 'taylor': 1551, 'weapon': 1552, 'pre': 1553, 'dougla': 1554, 'flesh': 1555, 'teach': 1556, 'terror': 1557, 'protect': 1558, 'bloodi': 1559, 'hint': 1560, 'marvel': 1561, 'superman': 1562, 'leader': 1563, 'anybodi': 1564, 'watchabl': 1565, 'load': 1566, 'accord': 1567, 'drunk': 1568, 'freddi': 1569, 'brown': 1570, 'seat': 1571, 'hitler': 1572, 'tim': 1573, 'appropri': 1574, 'jeff': 1575, 'villag': 1576, 'knock': 1577, 'unknown': 1578, 'charg': 1579, 'keaton': 1580, 'unnecessari': 1581, 'enemi': 1582, 'empti': 1583, 'england': 1584, 'media': 1585, 'strength': 1586, 'wave': 1587, 'utter': 1588, 'dare': 1589, 'buck': 1590, 'craft': 1591, 'perspect': 1592, 'ford': 1593, 'contrast': 1594, 'correct': 1595, 'kiss': 1596, 'nativ': 1597, 'soap': 1598, 'speed': 1599, 'magnific': 1600, 'knowledg': 1601, 'distract': 1602, 'anywher': 1603, 'nazi': 1604, 'chill': 1605, 'ice': 1606, '1980': 1607, 'mission': 1608, 'fred': 1609, 'breath': 1610, 'crowd': 1611, 'joan': 1612, 'jr': 1613, 'moon': 1614, '000': 1615, 'frighten': 1616, 'kate': 1617, 'soft': 1618, 'dick': 1619, 'nick': 1620, 'dan': 1621, 'hundr': 1622, 'dozen': 1623, 'somebodi': 1624, 'radio': 1625, 'simon': 1626, 'loss': 1627, 'andrew': 1628, 'academi': 1629, 'shakespear': 1630, 'thousand': 1631, 'quot': 1632, 'root': 1633, 'account': 1634, 'vehicl': 1635, 'sum': 1636, 'convent': 1637, 'behavior': 1638, '1970': 1639, 'leg': 1640, 'regular': 1641, 'gold': 1642, 'compet': 1643, 'pretenti': 1644, 'demand': 1645, 'worker': 1646, 'explos': 1647, 'stretch': 1648, 'privat': 1649, 'japan': 1650, 'notabl': 1651, 'interpret': 1652, 'candi': 1653, 'lynch': 1654, 'debut': 1655, 'constant': 1656, 'tarzan': 1657, 'translat': 1658, 'sea': 1659, 'prais': 1660, 'revolv': 1661, 'spi': 1662, 'technolog': 1663, 'sat': 1664, 'quiet': 1665, 'threaten': 1666, 'ass': 1667, 'jesu': 1668, 'franc': 1669, 'failur': 1670, 'aid': 1671, 'met': 1672, 'punch': 1673, 'toy': 1674, 'kevin': 1675, 'higher': 1676, 'interact': 1677, 'abandon': 1678, 'vh': 1679, 'mike': 1680, 'command': 1681, 'bet': 1682, 'separ': 1683, 'confront': 1684, 'recal': 1685, 'servic': 1686, 'techniqu': 1687, 'gotten': 1688, 'stunt': 1689, 'site': 1690, 'belong': 1691, 'foot': 1692, 'freak': 1693, 'bug': 1694, 'cabl': 1695, 'jimmi': 1696, 'african': 1697, 'capabl': 1698, 'fu': 1699, 'bright': 1700, 'presid': 1701, 'succeed': 1702, 'boat': 1703, 'clark': 1704, 'stock': 1705, 'fat': 1706, 'gene': 1707, 'spanish': 1708, 'structur': 1709, 'kidnap': 1710, 'paper': 1711, 'factor': 1712, 'belief': 1713, 'whilst': 1714, 'realism': 1715, 'realis': 1716, 'bob': 1717, 'tree': 1718, 'witti': 1719, 'educ': 1720, 'attend': 1721, 'complic': 1722, 'santa': 1723, 'assist': 1724, 'finest': 1725, 'broken': 1726, 'observ': 1727, 'depart': 1728, 'smoke': 1729, 'v': 1730, 'determin': 1731, 'up': 1732, 'oper': 1733, 'domin': 1734, 'rubbish': 1735, 'routin': 1736, 'hat': 1737, 'fame': 1738, 'lewi': 1739, 'lone': 1740, 'hook': 1741, 'foreign': 1742, 'advanc': 1743, 'kinda': 1744, 'morgan': 1745, 'safe': 1746, 'numer': 1747, 'rank': 1748, 'rose': 1749, 'washington': 1750, 'shape': 1751, 'vs': 1752, 'civil': 1753, 'shallow': 1754, 'werewolf': 1755, 'morn': 1756, 'gari': 1757, 'kong': 1758, 'ordinari': 1759, 'accomplish': 1760, 'winner': 1761, 'grab': 1762, 'virtual': 1763, 'peac': 1764, 'whenev': 1765, 'offens': 1766, 'h': 1767, 'luck': 1768, 'contriv': 1769, 'bigger': 1770, 'unfunni': 1771, 'complain': 1772, 'patient': 1773, 'activ': 1774, 'welcom': 1775, 'con': 1776, 'dimension': 1777, 'pretend': 1778, 'trek': 1779, 'eric': 1780, 'dri': 1781, 'flash': 1782, 'cain': 1783, 'lesbian': 1784, 'code': 1785, 'wake': 1786, 'statu': 1787, 'albert': 1788, 'dancer': 1789, 'guard': 1790, 'manipul': 1791, 'corrupt': 1792, 'awkward': 1793, 'sourc': 1794, 'gain': 1795, 'signific': 1796, 'speech': 1797, 'context': 1798, 'clip': 1799, 'anthoni': 1800, 'corni': 1801, 'sean': 1802, '13': 1803, 'psycho': 1804, 'theatric': 1805, 'curiou': 1806, 'advic': 1807, 'w': 1808, 'reli': 1809, 'priest': 1810, 'religion': 1811, 'addict': 1812, 'flow': 1813, 'jennif': 1814, 'secur': 1815, 'specif': 1816, 'skin': 1817, 'asian': 1818, 'howard': 1819, 'luke': 1820, 'core': 1821, 'promot': 1822, 'organ': 1823, 'comfort': 1824, 'golden': 1825, 'cheat': 1826, 'lucki': 1827, 'cash': 1828, 'lower': 1829, 'dislik': 1830, 'associ': 1831, 'wing': 1832, 'degre': 1833, 'devic': 1834, 'contribut': 1835, 'frequent': 1836, 'balanc': 1837, 'frankli': 1838, 'regret': 1839, 'spell': 1840, 'forgiv': 1841, 'print': 1842, 'lake': 1843, 'sake': 1844, 'mass': 1845, 'thoma': 1846, 'betti': 1847, 'unexpect': 1848, 'gordon': 1849, 'crack': 1850, 'construct': 1851, 'depend': 1852, 'categori': 1853, 'unfold': 1854, 'amateur': 1855, 'invit': 1856, 'grown': 1857, 'matur': 1858, 'grew': 1859, 'honor': 1860, 'intellectu': 1861, 'walter': 1862, 'anna': 1863, 'condit': 1864, 'veteran': 1865, 'sudden': 1866, 'spectacular': 1867, 'mirror': 1868, 'sole': 1869, 'experienc': 1870, 'grip': 1871, 'liner': 1872, 'robin': 1873, 'gift': 1874, 'meanwhil': 1875, 'demonstr': 1876, 'card': 1877, 'freedom': 1878, 'overli': 1879, 'sheriff': 1880, 'colour': 1881, 'oliv': 1882, 'subtitl': 1883, 'drew': 1884, 'theori': 1885, 'section': 1886, 'crappi': 1887, 'circumst': 1888, 'brilliantli': 1889, 'unabl': 1890, 'path': 1891, 'parker': 1892, 'sheer': 1893, 'laughter': 1894, 'pile': 1895, 'matt': 1896, 'altern': 1897, 'cook': 1898, 'sinatra': 1899, 'accident': 1900, 'hall': 1901, 'wander': 1902, 'treatment': 1903, 'lawyer': 1904, 'relief': 1905, 'defin': 1906, 'hank': 1907, 'dragon': 1908, 'captiv': 1909, 'gratuit': 1910, 'moor': 1911, 'halloween': 1912, 'broadway': 1913, 'barbara': 1914, 'cowboy': 1915, 'unintent': 1916, 'wound': 1917, 'jacki': 1918, 'kung': 1919, 'wayn': 1920, 'k': 1921, 'spoof': 1922, 'canadian': 1923, 'surreal': 1924, 'winter': 1925, 'statement': 1926, 'gonna': 1927, 'compos': 1928, 'treasur': 1929, 'fare': 1930, 'cheer': 1931, 'fish': 1932, 'sensit': 1933, 'emerg': 1934, 'unrealist': 1935, 'victor': 1936, 'woodi': 1937, 'driven': 1938, 'ran': 1939, 'sympathet': 1940, 'neighbor': 1941, 'authent': 1942, 'overlook': 1943, 'expos': 1944, 'menac': 1945, 'glass': 1946, 'topic': 1947, 'chief': 1948, 'michel': 1949, 'handsom': 1950, 'gross': 1951, 'ancient': 1952, 'stranger': 1953, 'comedian': 1954, 'russel': 1955, 'pleasant': 1956, 'cinderella': 1957, 'built': 1958, 'contemporari': 1959, 'feet': 1960, 'nevertheless': 1961, 'network': 1962, 'blockbust': 1963, 'letter': 1964, 'miser': 1965, 'underr': 1966, 'earn': 1967, 'endless': 1968, 'consider': 1969, 'gori': 1970, 'brook': 1971, 'solv': 1972, 'switch': 1973, 'virgin': 1974, 'bullet': 1975, 'joseph': 1976, 'convict': 1977, 'victoria': 1978, 'edward': 1979, 'alex': 1980, 'scenario': 1981, '0': 1982, 'scale': 1983, 'chosen': 1984, 'cynic': 1985, 'gut': 1986, 'com': 1987, 'outrag': 1988, 'curs': 1989, 'sword': 1990, 'juli': 1991, 'wrap': 1992, 'screenwrit': 1993, 'uk': 1994, 'proper': 1995, 'driver': 1996, 'monkey': 1997, 'substanc': 1998, 'par': 1999, 'remov': 2000, 'court': 2001, 'indic': 2002, 'bird': 2003, 'rental': 2004, 'loser': 2005, 'nanci': 2006, 'inevit': 2007, 'naiv': 2008, 'grave': 2009, 'consequ': 2010, 'advertis': 2011, 'roy': 2012, 'germani': 2013, 'brave': 2014, 'invis': 2015, 'bridg': 2016, 'le': 2017, 'fatal': 2018, 'slap': 2019, 'footbal': 2020, 'provok': 2021, 'anger': 2022, 'ador': 2023, 'loui': 2024, 'anderson': 2025, 'chan': 2026, 'alcohol': 2027, 'ryan': 2028, 'willi': 2029, 'stumbl': 2030, 'professor': 2031, 'australian': 2032, 'sharp': 2033, 'assassin': 2034, 'patrick': 2035, '1930': 2036, 'bat': 2037, 'liber': 2038, 'eight': 2039, 'saturday': 2040, 'deni': 2041, 'heck': 2042, 'strongli': 2043, 'cell': 2044, 'lousi': 2045, 'ape': 2046, 'refresh': 2047, 'amateurish': 2048, 'trilog': 2049, 'sin': 2050, 'justifi': 2051, 'vagu': 2052, 'san': 2053, 'resid': 2054, 'defeat': 2055, 'indi': 2056, 'terrifi': 2057, 'creator': 2058, 'mini': 2059, 'reput': 2060, 'sympathi': 2061, 'tediou': 2062, 'task': 2063, 'prevent': 2064, 'tabl': 2065, 'endur': 2066, 'expert': 2067, 'employ': 2068, 'offend': 2069, 'imit': 2070, 'trial': 2071, 'rival': 2072, 'basebal': 2073, 'che': 2074, 'pitch': 2075, 'beach': 2076, 'fairi': 2077, 'complaint': 2078, 'max': 2079, 'dig': 2080, 'europ': 2081, 'weekend': 2082, 'murphi': 2083, 'purchas': 2084, 'format': 2085, 'risk': 2086, 'nois': 2087, 'hype': 2088, 'bite': 2089, 'titan': 2090, 'glimps': 2091, 'powel': 2092, 'tini': 2093, 'reminisc': 2094, 'harsh': 2095, 'north': 2096, 'fals': 2097, 'till': 2098, 'asleep': 2099, 'prime': 2100, 'strip': 2101, '14': 2102, 'revel': 2103, 'descript': 2104, 'destruct': 2105, 'texa': 2106, 'africa': 2107, 'excess': 2108, 'spin': 2109, 'inner': 2110, 'surfac': 2111, 'semi': 2112, 'arrest': 2113, 'uninterest': 2114, 'sitcom': 2115, 'argu': 2116, 'makeup': 2117, 'dinosaur': 2118, 'maintain': 2119, 'massiv': 2120, 'twin': 2121, 'controversi': 2122, 'hitchcock': 2123, 'ludicr': 2124, 'insist': 2125, 'melodrama': 2126, 'expens': 2127, 'reject': 2128, 'ideal': 2129, 'stare': 2130, 'kim': 2131, 'press': 2132, 'supernatur': 2133, 'subplot': 2134, 'columbo': 2135, 'nail': 2136, 'host': 2137, 'forest': 2138, 'ga': 2139, 'atroci': 2140, 'ala': 2141, 'erot': 2142, 'cant': 2143, 'presum': 2144, 'notch': 2145, 'dude': 2146, 'identifi': 2147, 'plagu': 2148, 'method': 2149, 'closer': 2150, 'guest': 2151, 'character': 2152, 'crude': 2153, 'forgett': 2154, 'beast': 2155, 'border': 2156, 'princess': 2157, 'landscap': 2158, 'ear': 2159, 'foster': 2160, 'lion': 2161, 'bound': 2162, 'storytel': 2163, 'accus': 2164, 'aunt': 2165, 'damag': 2166, 'jungl': 2167, 'urban': 2168, 'birth': 2169, 'previous': 2170, 'pacino': 2171, 'thirti': 2172, 'guid': 2173, 'propaganda': 2174, 'nude': 2175, 'doll': 2176, 'jess': 2177, 'chose': 2178, 'emma': 2179, '25': 2180, 'mainstream': 2181, 'whoever': 2182, 'warrior': 2183, 'mate': 2184, 'pet': 2185, 'deadli': 2186, 'cooper': 2187, 'poster': 2188, 'gritti': 2189, 'exact': 2190, 'latest': 2191, 'upset': 2192, 'merit': 2193, 'size': 2194, 'friday': 2195, 'settl': 2196, 'contest': 2197, 'sun': 2198, 'blend': 2199, 'contact': 2200, 'rough': 2201, 'corps': 2202, 'popul': 2203, 'citizen': 2204, '1990': 2205, 'warner': 2206, 'ton': 2207, 'buff': 2208, 'wilson': 2209, 'select': 2210, 'overcom': 2211, 'rat': 2212, 'bu': 2213, 'mgm': 2214, 'environ': 2215, 'metal': 2216, 'alic': 2217, 'pitt': 2218, 'widow': 2219, 'particip': 2220, 'lift': 2221, 'guilti': 2222, 'link': 2223, 'revolut': 2224, 'ted': 2225, '1960': 2226, 'corner': 2227, 'exagger': 2228, 'afternoon': 2229, 'johnson': 2230, 'accompani': 2231, 'corpor': 2232, 'prostitut': 2233, 'moron': 2234, 'matrix': 2235, 'friendli': 2236, 'multipl': 2237, 'instal': 2238, 'leagu': 2239, 'doom': 2240, 'clair': 2241, 'hood': 2242, 'sincer': 2243, 'holm': 2244, 'string': 2245, 'campi': 2246, 'junk': 2247, 'sunday': 2248, 'advis': 2249, 'lugosi': 2250, 'irish': 2251, 'grim': 2252, 'aka': 2253, 'examin': 2254, 'hip': 2255, 'defend': 2256, 'blah': 2257, 'icon': 2258, 'shut': 2259, 'pro': 2260, 'shake': 2261, 'confid': 2262, 'varieti': 2263, 'rachel': 2264, 'tight': 2265, 'denni': 2266, 'medic': 2267, 'goal': 2268, 'sullivan': 2269, 'attach': 2270, 'directli': 2271, 'jaw': 2272, 'mexican': 2273, 'prior': 2274, 'sarah': 2275, 'breast': 2276, 'vietnam': 2277, 'truck': 2278, 'courag': 2279, 'sentenc': 2280, 'terrorist': 2281, 'duke': 2282, 'legendari': 2283, 'bourn': 2284, 'dean': 2285, 'split': 2286, 'behav': 2287, 'hong': 2288, 'yell': 2289, 'donald': 2290, 'entri': 2291, 'un': 2292, 'proceed': 2293, 'nose': 2294, 'forth': 2295, 'everywher': 2296, 'concentr': 2297, 'stolen': 2298, 'buri': 2299, 'lifetim': 2300, 'unconvinc': 2301, 'confess': 2302, 'crush': 2303, 'jerk': 2304, 'gather': 2305, 'borrow': 2306, 'swim': 2307, 'deliveri': 2308, 'spite': 2309, 'lip': 2310, 'turkey': 2311, 'pan': 2312, 'julia': 2313, 'california': 2314, 'offici': 2315, 'quest': 2316, 'reward': 2317, 'china': 2318, 'downright': 2319, 'proud': 2320, 'flight': 2321, 'freeman': 2322, 'hoffman': 2323, 'notori': 2324, 'sink': 2325, 'worthwhil': 2326, 'fabul': 2327, 'jail': 2328, 'jon': 2329, 'betray': 2330, 'lazi': 2331, 'inept': 2332, 'sir': 2333, 'fade': 2334, 'encourag': 2335, 'teeth': 2336, 'susan': 2337, 'retard': 2338, 'bell': 2339, 'imageri': 2340, 'cousin': 2341, 'survivor': 2342, 'shower': 2343, 'relev': 2344, 'bag': 2345, 'storm': 2346, 'lisa': 2347, 'branagh': 2348, 'tremend': 2349, 'mexico': 2350, 'facial': 2351, 'hugh': 2352, 'summari': 2353, 'bride': 2354, 'toler': 2355, 'shark': 2356, 'stab': 2357, 'trade': 2358, 'quirki': 2359, 'finger': 2360, 'alright': 2361, 'pose': 2362, 'blown': 2363, 'bitter': 2364, 'ha': 2365, 'hyster': 2366, 'von': 2367, 'scheme': 2368, 'bone': 2369, 'ron': 2370, 'larri': 2371, 'cruel': 2372, 'ned': 2373, 'christ': 2374, 'address': 2375, 'afterward': 2376, 'beg': 2377, 'distinct': 2378, 'swear': 2379, 'pursu': 2380, 'thumb': 2381, 'traci': 2382, 'feed': 2383, 'snake': 2384, 'screw': 2385, 'tour': 2386, 'photo': 2387, 'obscur': 2388, 'mechan': 2389, 'stomach': 2390, 'occas': 2391, 'raw': 2392, 'chair': 2393, 'resist': 2394, 'render': 2395, 'heavili': 2396, 'necessarili': 2397, 'holiday': 2398, 'southern': 2399, 'argument': 2400, 'chain': 2401, 'gruesom': 2402, 'hardi': 2403, 'cabin': 2404, 'sidney': 2405, 'satan': 2406, 'understood': 2407, 'racist': 2408, 'philip': 2409, 'indulg': 2410, 'india': 2411, 'lay': 2412, 'forgot': 2413, 'midnight': 2414, 'outfit': 2415, 'integr': 2416, 'stalk': 2417, 'pregnant': 2418, 'fourth': 2419, 'tongu': 2420, 'belov': 2421, 'obnoxi': 2422, 'ticket': 2423, 'garden': 2424, 'slapstick': 2425, 'inhabit': 2426, 'restor': 2427, '17': 2428, 'deeper': 2429, 'magazin': 2430, 'carol': 2431, 'devot': 2432, 'brad': 2433, 'incid': 2434, 'lincoln': 2435, 'shoe': 2436, 'divorc': 2437, 'anticip': 2438, 'guarante': 2439, 'benefit': 2440, 'sandler': 2441, 'disbelief': 2442, 'elizabeth': 2443, 'lili': 2444, 'maria': 2445, 'underground': 2446, 'greater': 2447, 'cring': 2448, 'slave': 2449, 'bbc': 2450, 'capit': 2451, 'creation': 2452, 'princip': 2453, 'explod': 2454, 'mildli': 2455, 'amazingli': 2456, 'funnier': 2457, 'extraordinari': 2458, 'lesli': 2459, 'halfway': 2460, 'introduct': 2461, 'tap': 2462, 'transfer': 2463, 'wreck': 2464, 'punish': 2465, 'text': 2466, 'advantag': 2467, 'overwhelm': 2468, 'extent': 2469, 'enhanc': 2470, 'east': 2471, 'plant': 2472, 'horrif': 2473, 'error': 2474, 'deliber': 2475, 'preview': 2476, 'lane': 2477, 'lo': 2478, 'jessica': 2479, 'dynam': 2480, 'ensu': 2481, 'sophist': 2482, 'miller': 2483, 'vacat': 2484, 'basi': 2485, 'miscast': 2486, 'homosexu': 2487, 'vincent': 2488, 'appli': 2489, '2000': 2490, 'extend': 2491, 'reed': 2492, 'elev': 2493, 'spoken': 2494, 'sleazi': 2495, 'mansion': 2496, 'uncomfort': 2497, 'steel': 2498, 'bollywood': 2499, 'measur': 2500, 'via': 2501, 'assign': 2502, 'daili': 2503, 'fix': 2504, 'goofi': 2505, 'beer': 2506, 'overact': 2507, 'blair': 2508, 'mous': 2509, 'cathol': 2510, 'conceiv': 2511, 'savag': 2512, 'alter': 2513, 'dentist': 2514, 'stanley': 2515, 'breathtak': 2516, 'melt': 2517, 'hippi': 2518, 'subsequ': 2519, 'succe': 2520, 'properli': 2521, 'burt': 2522, 'oppos': 2523, 'everyday': 2524, 'sacrific': 2525, 'inspector': 2526, 'carpent': 2527, 'nowaday': 2528, 'laura': 2529, 'block': 2530, 'neck': 2531, 'massacr': 2532, 'circl': 2533, 'pool': 2534, 'access': 2535, 'mob': 2536, 'concert': 2537, 'lesser': 2538, 'fallen': 2539, 'christi': 2540, 'fay': 2541, 'grey': 2542, 'seagal': 2543, 'portrait': 2544, 'chees': 2545, 'sinist': 2546, 'competit': 2547, 'react': 2548, 'jewish': 2549, 'usa': 2550, 'isol': 2551, 'relax': 2552, 'jake': 2553, 'nonetheless': 2554, 'nine': 2555, 'immens': 2556, 'stink': 2557, 'lyric': 2558, 'ironi': 2559, 'chop': 2560, '2006': 2561, 'appal': 2562, 'suitabl': 2563, 'spiritu': 2564, 'creep': 2565, 'spring': 2566, 'sold': 2567, 'adopt': 2568, 'retir': 2569, 'showcas': 2570, 'nut': 2571, 'reduc': 2572, 'navi': 2573, 'shirt': 2574, 'luci': 2575, 'rage': 2576, 'user': 2577, 'needless': 2578, 'franchis': 2579, 'bulli': 2580, 'digit': 2581, 'bath': 2582, 'asham': 2583, 'nurs': 2584, 'zone': 2585, 'stanwyck': 2586, 'jay': 2587, 'uninspir': 2588, 'per': 2589, 'laid': 2590, 'illustr': 2591, 'sutherland': 2592, 'broadcast': 2593, 'upper': 2594, '2001': 2595, '1940': 2596, 'amongst': 2597, 'oddli': 2598, 'aspir': 2599, 'stylish': 2600, 'baker': 2601, 'disguis': 2602, 'fulfil': 2603, 'throat': 2604, 'brando': 2605, 'em': 2606, 'thief': 2607, 'pound': 2608, 'wanna': 2609, 'nobl': 2610, 'endear': 2611, 'impli': 2612, 'neighborhood': 2613, 'pride': 2614, 'wwii': 2615, '18': 2616, 'cinematograph': 2617, 'distribut': 2618, 'shift': 2619, 'coher': 2620, 'diseas': 2621, 'bo': 2622, 'prop': 2623, 'dinner': 2624, 'bett': 2625, 'dawn': 2626, 'albeit': 2627, 'rochest': 2628, 'tens': 2629, 'shoulder': 2630, '16': 2631, 'contract': 2632, 'snow': 2633, 'silenc': 2634, 'rebel': 2635, 'wash': 2636, 'shout': 2637, 'knife': 2638, 'function': 2639, 'matthau': 2640, 'forti': 2641, 'surf': 2642, 'poignant': 2643, 'henc': 2644, 'widmark': 2645, 'proof': 2646, 'cancel': 2647, 'internet': 2648, 'eeri': 2649, 'height': 2650, 'duti': 2651, 'horrend': 2652, 'heat': 2653, 'chuck': 2654, 'derek': 2655, 'instinct': 2656, 'mindless': 2657, 'silver': 2658, 'cannib': 2659, 'reunion': 2660, 'elvira': 2661, 'etern': 2662, 'musician': 2663, 'neat': 2664, 'mill': 2665, 'torn': 2666, 'spielberg': 2667, 'alik': 2668, 'glori': 2669, 'innov': 2670, 'absorb': 2671, 'premier': 2672, 'repetit': 2673, 'incoher': 2674, 'greatli': 2675, 'elvi': 2676, 'pie': 2677, 'bang': 2678, 'wealthi': 2679, 'precis': 2680, 'horrifi': 2681, 'redempt': 2682, 'crisi': 2683, 'itali': 2684, 'fbi': 2685, 'burton': 2686, 'infam': 2687, 'lovabl': 2688, 'britain': 2689, 'racism': 2690, 'diamond': 2691, 'homag': 2692, 'blank': 2693, 'nelson': 2694, 'trite': 2695, 'announc': 2696, 'dedic': 2697, 'parallel': 2698, 'ensembl': 2699, 'helen': 2700, 'streisand': 2701, 'chaplin': 2702, 'hammer': 2703, 'flop': 2704, 'pat': 2705, 'wilder': 2706, 'happili': 2707, 'resolut': 2708, 'triumph': 2709, 'oil': 2710, 'conclud': 2711, 'broke': 2712, 'mar': 2713, 'plastic': 2714, 'disagre': 2715, 'carter': 2716, 'cube': 2717, 'factori': 2718, 'st': 2719, 'chuckl': 2720, 'row': 2721, 'vega': 2722, 'fighter': 2723, 'own': 2724, 'bush': 2725, 'climb': 2726, 'weight': 2727, 'rocket': 2728, 'march': 2729, 'mst3k': 2730, 'thug': 2731, 'spare': 2732, 'unforgett': 2733, 'enorm': 2734, 'wherea': 2735, 'dump': 2736, 'dane': 2737, 'sensibl': 2738, 'kurt': 2739, 'boot': 2740, 'lust': 2741, 'meaning': 2742, 'luca': 2743, 'brand': 2744, 'engin': 2745, 'fifti': 2746, 'karloff': 2747, 'caricatur': 2748, 'butt': 2749, 'adequ': 2750, 'bobbi': 2751, 'dear': 2752, 'difficulti': 2753, 'stress': 2754, 'rap': 2755, 'threat': 2756, 'arnold': 2757, 'ego': 2758, 'fest': 2759, 'ralph': 2760, 'homeless': 2761, 'elabor': 2762, 'arrog': 2763, 'journalist': 2764, 'secretari': 2765, 'barri': 2766, 'polish': 2767, 'swing': 2768, 'flynn': 2769, 'hamlet': 2770, 'puppet': 2771, 'arrang': 2772, 'simpson': 2773, 'conspiraci': 2774, 'resort': 2775, 'fanci': 2776, 'grate': 2777, 'spike': 2778, 'induc': 2779, 'tool': 2780, 'float': 2781, 'unbear': 2782, 'cruis': 2783, 'phillip': 2784, 'exercis': 2785, 'basement': 2786, 'tribut': 2787, 'choreograph': 2788, 'boll': 2789, 'guilt': 2790, 'pig': 2791, 'muppet': 2792, 'toilet': 2793, '24': 2794, 'puzzl': 2795, 'slip': 2796, 'medium': 2797, 'file': 2798, 'layer': 2799, 'document': 2800, 'babe': 2801, 'stan': 2802, 'tower': 2803, 'fianc': 2804, 'ham': 2805, 'korean': 2806, 'editor': 2807, 'item': 2808, 'scarecrow': 2809, 'ward': 2810, 'territori': 2811, 'inexplic': 2812, 'glover': 2813, 'assur': 2814, 'slaughter': 2815, 'larger': 2816, 'librari': 2817, 'denzel': 2818, 'catherin': 2819, 'persona': 2820, 'portion': 2821, 'doc': 2822, 'minim': 2823, 'orient': 2824, 'transit': 2825, 'philosoph': 2826, 'superfici': 2827, 'spark': 2828, 'owe': 2829, 'dorothi': 2830, 'curti': 2831, 'sneak': 2832, 'financi': 2833, 'ban': 2834, 'pg': 2835, 'wolf': 2836, 'jet': 2837, 'boredom': 2838, 'jeremi': 2839, 'shi': 2840, 'walken': 2841, 'hudson': 2842, 'whale': 2843, 'profound': 2844, 'ambigu': 2845, 'multi': 2846, 'backdrop': 2847, 'eleph': 2848, 'metaphor': 2849, 'cusack': 2850, 'rave': 2851, 'elsewher': 2852, 'notion': 2853, 'ultra': 2854, 'stiff': 2855, 'birthday': 2856, '2005': 2857, 'hack': 2858, 'union': 2859, 'implaus': 2860, 'gadget': 2861, 'viru': 2862, 'slight': 2863, 'newspap': 2864, 'squar': 2865, 'eva': 2866, '1st': 2867, 'superhero': 2868, 'pad': 2869, 'reader': 2870, 'distanc': 2871, 'poison': 2872, 'lloyd': 2873, 'urg': 2874, 'canada': 2875, 'bibl': 2876, 'afford': 2877, 'eastwood': 2878, 'deriv': 2879, 'hawk': 2880, 'disc': 2881, 'health': 2882, 'button': 2883, 'essenc': 2884, 'huh': 2885, 'sadist': 2886, 'drown': 2887, 'skit': 2888, 'charisma': 2889, 'cure': 2890, 'restaur': 2891, 'heston': 2892, 'montag': 2893, 'spread': 2894, 'maniac': 2895, 'gradual': 2896, 'invest': 2897, 'companion': 2898, 'peak': 2899, 'scoobi': 2900, 'dealt': 2901, 'lab': 2902, 'fetch': 2903, 'estat': 2904, 'muslim': 2905, 'godfath': 2906, 'ritter': 2907, 'alli': 2908, 'kane': 2909, 'cup': 2910, 'servant': 2911, 'tea': 2912, 'subtleti': 2913, 'gothic': 2914, 'countless': 2915, 'miik': 2916, 'electr': 2917, 'heroic': 2918, 'charismat': 2919, 'briefli': 2920, 'salli': 2921, 'iii': 2922, 'elect': 2923, 'wannab': 2924, 'ingredi': 2925, 'toss': 2926, 'grandmoth': 2927, 'admittedli': 2928, 'cole': 2929, 'neil': 2930, 'nuanc': 2931, 'reel': 2932, 'resourc': 2933, 'bud': 2934, 'tender': 2935, 'stronger': 2936, 'reev': 2937, 'label': 2938, 'shall': 2939, 'kubrick': 2940, 'mild': 2941, 'gate': 2942, 'poverti': 2943, 'pauli': 2944, 'punk': 2945, 'stood': 2946, 'dawson': 2947, 'pit': 2948, 'mafia': 2949, 'carrey': 2950, 'outcom': 2951, 'smash': 2952, 'smooth': 2953, 'cox': 2954, 'ian': 2955, 'assault': 2956, 'terri': 2957, 'cardboard': 2958, 'updat': 2959, 'tag': 2960, 'useless': 2961, 'burst': 2962, 'astair': 2963, 'easier': 2964, 'fond': 2965, 'bakshi': 2966, 'coincid': 2967, 'melodramat': 2968, 'vari': 2969, 'rex': 2970, 'qualifi': 2971, 'fist': 2972, 'sketch': 2973, 'exchang': 2974, 'samurai': 2975, 'resolv': 2976, 'increasingli': 2977, '2002': 2978, 'divers': 2979, 'vulner': 2980, 'brillianc': 2981, 'suspend': 2982, 'be': 2983, 'tame': 2984, 'luckili': 2985, 'reynold': 2986, 'insert': 2987, 'blast': 2988, 'scratch': 2989, 'conveni': 2990, 'templ': 2991, 'nuclear': 2992, 'jami': 2993, 'pin': 2994, 'meat': 2995, 'seventi': 2996, 'strictli': 2997, 'fisher': 2998, 'coach': 2999, 'walker': 3000, 'soprano': 3001, 'matthew': 3002, 'hamilton': 3003, 'ambiti': 3004, 'gotta': 3005, 'farm': 3006, 'recreat': 3007, 'struck': 3008, 'butcher': 3009, 'discoveri': 3010, 'worthless': 3011, 'clock': 3012, 'spooki': 3013, 'monk': 3014, 'convolut': 3015, 'timeless': 3016, 'grasp': 3017, 'eccentr': 3018, 'cave': 3019, 'revers': 3020, 'instantli': 3021, 'ninja': 3022, 'kudo': 3023, 'brosnan': 3024, 'joey': 3025, 'closet': 3026, 'empir': 3027, 'importantli': 3028, 'norman': 3029, 'seller': 3030, 'mitchel': 3031, 'inconsist': 3032, 'communist': 3033, 'miracl': 3034, 'sidekick': 3035, 'declar': 3036, 'eighti': 3037, 'partli': 3038, 'clown': 3039, 'wipe': 3040, 'fifteen': 3041, 'gray': 3042, 'evok': 3043, 'cliff': 3044, 'selfish': 3045, 'bleak': 3046, 'sloppi': 3047, 'pal': 3048, 'aforement': 3049, 'websit': 3050, 'australia': 3051, 'chew': 3052, 'flawless': 3053, 'enthusiast': 3054, 'debat': 3055, 'seed': 3056, 'lifestyl': 3057, 'cheek': 3058, '45': 3059, 'piano': 3060, 'ho': 3061, 'stoog': 3062, 'farc': 3063, 'psychiatrist': 3064, 'destin': 3065, 'superbl': 3066, 'dire': 3067, 'regardless': 3068, 'akshay': 3069, 'splatter': 3070, 'wick': 3071, 'abc': 3072, 'directori': 3073, 'drivel': 3074, 'kitchen': 3075, 'slice': 3076, 'anni': 3077, 'incompet': 3078, 'dash': 3079, 'emili': 3080, 'bash': 3081, 'pressur': 3082, 'soviet': 3083, 'wrestl': 3084, 'judi': 3085, 'duo': 3086, 'recov': 3087, 'beaten': 3088, 'helicopt': 3089, 'pleasantli': 3090, 'lou': 3091, 'cameron': 3092, 'flower': 3093, 'distant': 3094, 'curios': 3095, 'chapter': 3096, 'suppli': 3097, 'doo': 3098, 'prize': 3099, 'boil': 3100, 'mann': 3101, 'glow': 3102, 'increas': 3103, 'seduc': 3104, 'cia': 3105, 'blob': 3106, 'dave': 3107, 'cagney': 3108, 'ken': 3109, 'artifici': 3110, 'jar': 3111, 'combat': 3112, 'web': 3113, 'panic': 3114, 'goldberg': 3115, 'drunken': 3116, 'ranger': 3117, 'turner': 3118, 'francisco': 3119, 'craig': 3120, 'craven': 3121, 'glenn': 3122, 'splendid': 3123, 'perri': 3124, 'favour': 3125, 'psychot': 3126, 'eleg': 3127, 'hop': 3128, 'ellen': 3129, 'laurel': 3130, 'shortli': 3131, 'fx': 3132, 'rid': 3133, 'hatr': 3134, 'ruth': 3135, 'falk': 3136, 'philosophi': 3137, 'modesti': 3138, 'slightest': 3139, 'min': 3140, 'gentl': 3141, 'graduat': 3142, 'plausibl': 3143, 'flip': 3144, 'greek': 3145, 'alexand': 3146, '20th': 3147, 'gandhi': 3148, 'wizard': 3149, 'lend': 3150, 'unpleas': 3151, 'jealou': 3152, 'preciou': 3153, 'futurist': 3154, 'we': 3155, 'manhattan': 3156, 'harm': 3157, 'tall': 3158, 'knight': 3159, 'fund': 3160, 'holi': 3161, 'dracula': 3162, 'felix': 3163, 'ocean': 3164, 'legal': 3165, 'scientif': 3166, 'overdon': 3167, 'nod': 3168, 'digniti': 3169, 'thread': 3170, 'tank': 3171, 'mock': 3172, 'explicit': 3173, 'childish': 3174, 'reviv': 3175, 'bless': 3176, 'forbidden': 3177, 'ami': 3178, 'giallo': 3179, 'awaken': 3180, 'repeatedli': 3181, 'torment': 3182, 'thick': 3183, 'awe': 3184, 'mel': 3185, 'nerv': 3186, 'pirat': 3187, 'unwatch': 3188, 'fever': 3189, 'elderli': 3190, 'margaret': 3191, '2004': 3192, 'eve': 3193, '99': 3194, 'broad': 3195, 'yesterday': 3196, 'verhoeven': 3197, 'custom': 3198, 'ah': 3199, 'stiller': 3200, 'uniform': 3201, 'roman': 3202, 'timothi': 3203, 'lean': 3204, 'romero': 3205, 'rivet': 3206, 'eas': 3207, 'acclaim': 3208, 'bin': 3209, 'royal': 3210, 'publish': 3211, 'automat': 3212, 'absenc': 3213, 'launch': 3214, 'ambit': 3215, 'politician': 3216, 'griffith': 3217, 'kay': 3218, 'warren': 3219, 'crook': 3220, 'antic': 3221, 'pulp': 3222, 'pierc': 3223, 'bathroom': 3224, 'wallac': 3225, 'homicid': 3226, 'phrase': 3227, 'foul': 3228, 'darker': 3229, 'gabriel': 3230, 'transport': 3231, 'sunshin': 3232, 'tomato': 3233, 'stinker': 3234, 'purpl': 3235, 'termin': 3236, '2003': 3237, 'pray': 3238, 'juvenil': 3239, 'q': 3240, 'marin': 3241, 'horrid': 3242, 'donna': 3243, 'viciou': 3244, 'choreographi': 3245, 'sixti': 3246, 'eyr': 3247, 'contrari': 3248, 'ought': 3249, 'coloni': 3250, 'kenneth': 3251, 'awak': 3252, 'packag': 3253, 'saint': 3254, 'hollow': 3255, 'brazil': 3256, 'karen': 3257, 'album': 3258, 'prom': 3259, 'evolv': 3260, 'revolutionari': 3261, 'rambo': 3262, 'li': 3263, 'beatti': 3264, 'twelv': 3265, 'dose': 3266, 'overr': 3267, 'boast': 3268, 'ireland': 3269, 'kapoor': 3270, 'candid': 3271, 'mildr': 3272, 'defi': 3273, 'mummi': 3274, 'ramon': 3275, 'nerd': 3276, 'blade': 3277, 'option': 3278, 'conserv': 3279, 'stole': 3280, 'confirm': 3281, 'flame': 3282, 'jazz': 3283, 'funer': 3284, 'altman': 3285, 'collabor': 3286, 'natali': 3287, 'kirk': 3288, 'trio': 3289, 'global': 3290, 'detract': 3291, 'astonish': 3292, 'fulci': 3293, 'protest': 3294, 'audio': 3295, 'mystic': 3296, 'nicholson': 3297, 'spit': 3298, 'bottl': 3299, 'enterpris': 3300, 'tommi': 3301, 'bull': 3302, 'blake': 3303, 'destini': 3304, 'shade': 3305, 'whip': 3306, 'racial': 3307, 'delici': 3308, 'leap': 3309, 'yellow': 3310, 'meaningless': 3311, 'pseudo': 3312, 'fonda': 3313, 'visibl': 3314, 'harder': 3315, 'merci': 3316, 'adolesc': 3317, 'inherit': 3318, 'staff': 3319, 'enchant': 3320, 'bedroom': 3321, 'vivid': 3322, 'altogeth': 3323, 'threw': 3324, 'todd': 3325, 'neo': 3326, 'reunit': 3327, 'popcorn': 3328, 'swedish': 3329, 'await': 3330, 'uneven': 3331, 'ruthless': 3332, 'voight': 3333, 'synopsi': 3334, 'decor': 3335, 'suspici': 3336, 'moodi': 3337, 'exhibit': 3338, 'fanat': 3339, 'jew': 3340, 'roommat': 3341, 'crocodil': 3342, 'reserv': 3343, 'tip': 3344, 'lemmon': 3345, 'wire': 3346, 'befriend': 3347, 'kennedi': 3348, 'respond': 3349, 'bust': 3350, 'lawrenc': 3351, 'leonard': 3352, 'edi': 3353, 'madonna': 3354, 'atlanti': 3355, 'unsettl': 3356, 'voyag': 3357, 'ventur': 3358, 'bargain': 3359, 'clumsi': 3360, '2007': 3361, 'abysm': 3362, 'centr': 3363, 'chao': 3364, 'dimens': 3365, 'bold': 3366, 'holli': 3367, 'clint': 3368, 'incident': 3369, 'garner': 3370, 'bradi': 3371, 'palma': 3372, 'audit': 3373, 'rural': 3374, 'carl': 3375, 'wealth': 3376, 'immigr': 3377, 'humili': 3378, '2nd': 3379, 'hart': 3380, 'cuba': 3381, 'echo': 3382, 'elimin': 3383, 'troop': 3384, 'nearbi': 3385, 'mall': 3386, 'poetic': 3387, 'versu': 3388, 'cd': 3389, 'lit': 3390, 'imperson': 3391, 'ant': 3392, 'neglect': 3393, 'trail': 3394, 'acknowledg': 3395, 'cari': 3396, 'tiger': 3397, 'daddi': 3398, 'characterist': 3399, 'timon': 3400, 'solo': 3401, 'domest': 3402, 'mickey': 3403, 'repuls': 3404, 'collaps': 3405, 'homer': 3406, 'jeffrey': 3407, 'mistaken': 3408, 'paus': 3409, 'celluloid': 3410, 'pun': 3411, 'infect': 3412, 'prejudic': 3413, 'marshal': 3414, 'saga': 3415, 'inappropri': 3416, 'chest': 3417, 'cake': 3418, 'inan': 3419, 'assembl': 3420, 'ginger': 3421, 'tribe': 3422, 'leon': 3423, 'milk': 3424, 'pant': 3425, 'undoubtedli': 3426, 'olivi': 3427, 'coffe': 3428, 'promin': 3429, 'interrupt': 3430, '1996': 3431, 'equip': 3432, 'coat': 3433, 'hbo': 3434, 'apolog': 3435, 'sore': 3436, 'harvey': 3437, 'gear': 3438, 'instant': 3439, 'vulgar': 3440, 'solut': 3441, 'primari': 3442, 'exot': 3443, 'devast': 3444, 'trace': 3445, 'colleagu': 3446, 'furthermor': 3447, 'brooklyn': 3448, 'pen': 3449, 'airplan': 3450, 'retain': 3451, 'highest': 3452, 'aveng': 3453, 'pot': 3454, 'humbl': 3455, 'consum': 3456, 'institut': 3457, 'embrac': 3458, 'maggi': 3459, 'colonel': 3460, 'florida': 3461, 'jenni': 3462, 'polanski': 3463, 'godzilla': 3464, '1999': 3465, 'bowl': 3466, 'disabl': 3467, 'strain': 3468, 'ya': 3469, 'illog': 3470, '3rd': 3471, 'wive': 3472, 'seduct': 3473, 'outer': 3474, 'descend': 3475, 'gender': 3476, 'poke': 3477, 'dutch': 3478, 'smaller': 3479, 'linda': 3480, 'sale': 3481, 'cope': 3482, 'principl': 3483, 'dian': 3484, 'rick': 3485, 'dud': 3486, 'glamor': 3487, 'mixtur': 3488, 'cue': 3489, 'bubbl': 3490, 'primarili': 3491, 'yard': 3492, 'inferior': 3493, 'blatant': 3494, 'predecessor': 3495, 'dive': 3496, 'beneath': 3497, 'vast': 3498, 'secondli': 3499, 'scope': 3500, 'gloriou': 3501, 'lol': 3502, 'rabbit': 3503, 'devoid': 3504, 'hal': 3505, 'gundam': 3506, 'et': 3507, 'senseless': 3508, 'arab': 3509, 'invas': 3510, 'breed': 3511, 'disjoint': 3512, 'garbo': 3513, 'shelf': 3514, 'casual': 3515, 'talki': 3516, 'alert': 3517, 'pearl': 3518, 'myer': 3519, 'z': 3520, 'museum': 3521, 'hideou': 3522, 'trademark': 3523, 'simplist': 3524, 'alfr': 3525, 'countrysid': 3526, 'april': 3527, 'grinch': 3528, 'domino': 3529, 'shirley': 3530, 'streep': 3531, 'aggress': 3532, 'experiment': 3533, 'boom': 3534, 'obtain': 3535, 'mail': 3536, 'slide': 3537, 'illeg': 3538, 'stack': 3539, 'maci': 3540, 'khan': 3541, 'hopeless': 3542, 'stellar': 3543, 'stir': 3544, 'rendit': 3545, 'mayor': 3546, 'unhappi': 3547, 'loyal': 3548, 'disgrac': 3549, 'vanish': 3550, 'uwe': 3551, 'acid': 3552, 'robinson': 3553, 'defens': 3554, 'oz': 3555, 'applaud': 3556, 'hardcor': 3557, 'robberi': 3558, 'sh': 3559, 'spider': 3560, 'dismiss': 3561, 'berlin': 3562, 'span': 3563, 'fri': 3564, 'recruit': 3565, 'tenant': 3566, 'soccer': 3567, 'tempt': 3568, 'declin': 3569, 'incomprehens': 3570, 'dicken': 3571, 'scroog': 3572, 'craze': 3573, 'diana': 3574, 'topless': 3575, 'hartley': 3576, 'psychic': 3577, 'wont': 3578, 'blew': 3579, 'grandfath': 3580, 'counter': 3581, 'amanda': 3582, 'rifl': 3583, 'emphasi': 3584, 'sympath': 3585, 'bitch': 3586, 'goer': 3587, 'parad': 3588, 'ration': 3589, 'justin': 3590, 'ethnic': 3591, 'resurrect': 3592, 'faster': 3593, 'woo': 3594, 'wet': 3595, 'riot': 3596, 'niro': 3597, 'trashi': 3598, 'shed': 3599, 'shaw': 3600, 'sibl': 3601, 'lumet': 3602, 'revolt': 3603, 'porno': 3604, 'intim': 3605, 'choru': 3606, 'eager': 3607, 'andr': 3608, 'patriot': 3609, 'feminist': 3610, 'nephew': 3611, 'dealer': 3612, 'hopper': 3613, 'wheel': 3614, 'gap': 3615, 'hesit': 3616, 'wendi': 3617, 'unreal': 3618, 'immort': 3619, 'mario': 3620, 'ensur': 3621, 'commend': 3622, 'honesti': 3623, 'rider': 3624, 'partial': 3625, 'jonathan': 3626, 'slick': 3627, 'steam': 3628, 'region': 3629, '00': 3630, 'farmer': 3631, 'weakest': 3632, 'worm': 3633, 'enlighten': 3634, 'biographi': 3635, 'lena': 3636, 'ballet': 3637, 'skull': 3638, 'hung': 3639, 'properti': 3640, 'sandra': 3641, 'victori': 3642, 'prequel': 3643, 'wore': 3644, 'safeti': 3645, 'leo': 3646, 'owen': 3647, 'charlott': 3648, 'blunt': 3649, 'sappi': 3650, 'confin': 3651, 'morri': 3652, 'nostalg': 3653, 'repress': 3654, 'psychopath': 3655, 'snap': 3656, 'vice': 3657, 'mutant': 3658, 'macarthur': 3659, 'similarli': 3660, 'util': 3661, 'kingdom': 3662, 'franco': 3663, 'composit': 3664, 'drain': 3665, 'repli': 3666, 'rambl': 3667, 'montana': 3668, 'campbel': 3669, '1972': 3670, 'drum': 3671, 'whoopi': 3672, 'recycl': 3673, 'dalton': 3674, 'bow': 3675, 'snl': 3676, 'valuabl': 3677, 'bumbl': 3678, 'thru': 3679, 'emperor': 3680, 'miseri': 3681, 'dust': 3682, 'tad': 3683, 'pattern': 3684, 'heartbreak': 3685, 'hyde': 3686, 'despair': 3687, 'compens': 3688, 'rope': 3689, 'farrel': 3690, 'bonu': 3691, 'strand': 3692, 'acquir': 3693, 'compass': 3694, 'deed': 3695, 'kyle': 3696, 'latin': 3697, 'bergman': 3698, 'exit': 3699, 'nervou': 3700, 'cg': 3701, 'tail': 3702, 'speci': 3703, 'rocki': 3704, 'del': 3705, 'gimmick': 3706, 'martian': 3707, 'downhil': 3708, 'romp': 3709, 'percept': 3710, 'airport': 3711, 'wacki': 3712, 'radic': 3713, 'contempl': 3714, 'rapist': 3715, 'bleed': 3716, 'da': 3717, 'pour': 3718, 'roth': 3719, '35': 3720, 'rotten': 3721, 'tonight': 3722, 'chess': 3723, 'slug': 3724, 'olli': 3725, 'gal': 3726, 'orson': 3727, 'mistress': 3728, 'carradin': 3729, 'oppress': 3730, 'taught': 3731, 'belt': 3732, 'tackl': 3733, 'pursuit': 3734, 'programm': 3735, 'shelley': 3736, 'paltrow': 3737, '1983': 3738, 'champion': 3739, 'dazzl': 3740, 'heal': 3741, 'banal': 3742, 'attorney': 3743, 'slash': 3744, 'arc': 3745, 'melodi': 3746, 'pervers': 3747, 'stilt': 3748, 'unpredict': 3749, 'tooth': 3750, 'mislead': 3751, 'edgar': 3752, 'preach': 3753, 'arguabl': 3754, 'pervert': 3755, 'conneri': 3756, 'employe': 3757, 'vocal': 3758, 'duval': 3759, 'franki': 3760, 'passeng': 3761, 'marti': 3762, 'raymond': 3763, 'graham': 3764, 'plight': 3765, 'gambl': 3766, 'orang': 3767, 'sensat': 3768, 'cleverli': 3769, 'poem': 3770, 'vengeanc': 3771, 'rubi': 3772, 'chicken': 3773, 'tiresom': 3774, 'dixon': 3775, 'maid': 3776, 'bela': 3777, 'virginia': 3778, 'uplift': 3779, 'closest': 3780, 'mesmer': 3781, 'amitabh': 3782, 'sirk': 3783, 'convincingli': 3784, 'climact': 3785, 'swallow': 3786, 'monologu': 3787, 'suffic': 3788, 'bay': 3789, 'iran': 3790, 'habit': 3791, 'yawn': 3792, 'profan': 3793, 'giggl': 3794, 'volum': 3795, 'numb': 3796, 'whine': 3797, 'lundgren': 3798, 'secretli': 3799, 'tube': 3800, 'scottish': 3801, 'mute': 3802, 'clone': 3803, 'calm': 3804, '1968': 3805, 'engross': 3806, 'abraham': 3807, 'inject': 3808, 'crystal': 3809, 'extens': 3810, 'gerard': 3811, 'quarter': 3812, 'pokemon': 3813, 'paranoia': 3814, 'outing': 3815, 'fed': 3816, 'lowest': 3817, 'grotesqu': 3818, 'nichola': 3819, 'dispos': 3820, 'ethan': 3821, 'spock': 3822, 'frankenstein': 3823, 'richardson': 3824, 'backward': 3825, 'austen': 3826, 'underst': 3827, 'taxi': 3828, 'linger': 3829, 'im': 3830, 'meander': 3831, 'abort': 3832, 'junior': 3833, 'septemb': 3834, 'plod': 3835, 'poetri': 3836, 'franci': 3837, 'surpass': 3838, 'bend': 3839, 'earl': 3840, 'chicago': 3841, 'trend': 3842, 'expand': 3843, 'profess': 3844, 'der': 3845, 'myth': 3846, 'mundan': 3847, 'cannon': 3848, 'tourist': 3849, 'rant': 3850, 'compliment': 3851, 'instrument': 3852, 'sue': 3853, 'lure': 3854, 'spoke': 3855, 'greedi': 3856, 'catchi': 3857, 'simplic': 3858, 'econom': 3859, 'muddl': 3860, 'literatur': 3861, 'hum': 3862, 'household': 3863, 'waitress': 3864, 'nostalgia': 3865, 'descent': 3866, 'rubber': 3867, 'eugen': 3868, 'dysfunct': 3869, 'stallon': 3870, 'cent': 3871, 'damon': 3872, 'coast': 3873, 'carel': 3874, 'june': 3875, 'bacal': 3876, 'randi': 3877, 'deaf': 3878, 'mankind': 3879, 'occupi': 3880, 'crucial': 3881, 'sissi': 3882, 'firstli': 3883, 'equival': 3884, 'dictat': 3885, 'mortal': 3886, 'omen': 3887, 'stale': 3888, 'eaten': 3889, 'hello': 3890, 'recognit': 3891, 'lang': 3892, 'phoni': 3893, 'furi': 3894, 'flee': 3895, 'map': 3896, 'irrelev': 3897, 'louis': 3898, 'alongsid': 3899, 'recognis': 3900, 'dement': 3901, 'insur': 3902, 'molli': 3903, 'duck': 3904, 'phantom': 3905, 'bike': 3906, 'onlin': 3907, 'rude': 3908, 'distinguish': 3909, 'heel': 3910, 'newli': 3911, 'twilight': 3912, 'rooney': 3913, '1973': 3914, 'grayson': 3915, 'blackmail': 3916, 'drake': 3917, 'freez': 3918, 'damm': 3919, 'ashley': 3920, 'daisi': 3921, 'dreari': 3922, 'loyalti': 3923, 'reign': 3924, 'wisdom': 3925, 'likewis': 3926, 'bump': 3927, 'labor': 3928, 'lengthi': 3929, 'antwon': 3930, 'biko': 3931, 'cyborg': 3932, 'buffalo': 3933, 'emphas': 3934, 'tunnel': 3935, 'vein': 3936, 'boxer': 3937, 'unorigin': 3938, 'interior': 3939, 'attribut': 3940, 'incorpor': 3941, 'provoc': 3942, 'nineti': 3943, 'proce': 3944, 'basketbal': 3945, 'startl': 3946, 'inher': 3947, 'sailor': 3948, 'barrymor': 3949, 'worn': 3950, 'approv': 3951, 'baddi': 3952, 'butler': 3953, 'prey': 3954, 'exposur': 3955, 'analysi': 3956, 'pink': 3957, 'chronicl': 3958, 'keith': 3959, 'ridden': 3960, 'julian': 3961, 'nicol': 3962, 'undeni': 3963, 'predat': 3964, 'elm': 3965, 'bunni': 3966, 'robbin': 3967, 'improvis': 3968, 'substitut': 3969, 'underli': 3970, 'millionair': 3971, 'fleet': 3972, 'meg': 3973, 'othello': 3974, 'indiffer': 3975, 'drift': 3976, 'mighti': 3977, 'mormon': 3978, 'barrel': 3979, 'degrad': 3980, 'belushi': 3981, 'er': 3982, 'condemn': 3983, 'meyer': 3984, 'unrel': 3985, 'simmon': 3986, 'hypnot': 3987, 'stalker': 3988, 'walsh': 3989, 'carla': 3990, 'unawar': 3991, 'alarm': 3992, 'nyc': 3993, 'edgi': 3994, 'lampoon': 3995, 'hay': 3996, 'shove': 3997, 'disord': 3998, 'vital': 3999, 'priceless': 4000, 'reid': 4001, 'novak': 4002, 'mtv': 4003, 'dolph': 4004, 'enthusiasm': 4005, 'agenda': 4006, 'greed': 4007, 'palac': 4008, 'firm': 4009, 'alison': 4010, 'rukh': 4011, 'roof': 4012, 'exquisit': 4013, 'watson': 4014, '3d': 4015, 'errol': 4016, 'warmth': 4017, 'marion': 4018, 'coup': 4019, 'cassidi': 4020, 'peck': 4021, 'beatl': 4022, 'eastern': 4023, 'what': 4024, 'showdown': 4025, 'peril': 4026, 'randomli': 4027, 'nun': 4028, 'glanc': 4029, 'pamela': 4030, 'preserv': 4031, 'spain': 4032, 'petti': 4033, 'angela': 4034, 'profit': 4035, 'gestur': 4036, 'session': 4037, 'simultan': 4038, 'minimum': 4039, 'ponder': 4040, 'distort': 4041, 'iraq': 4042, 'campaign': 4043, 'drip': 4044, '13th': 4045, 'israel': 4046, 'testament': 4047, 'thompson': 4048, 'orlean': 4049, 'sergeant': 4050, 'championship': 4051, 'valentin': 4052, '1933': 4053, 'crown': 4054, 'unleash': 4055, 'zizek': 4056, 'wig': 4057, 'cooki': 4058, 'travesti': 4059, 'restrain': 4060, 'cream': 4061, 'exposit': 4062, 'stroke': 4063, 'perpetu': 4064, 'represent': 4065, 'stake': 4066, 'valley': 4067, 'realm': 4068, 'rout': 4069, 'mon': 4070, 'han': 4071, 'empathi': 4072, 'regist': 4073, 'calib': 4074, 'climat': 4075, 'unimagin': 4076, 'brenda': 4077, 'scotland': 4078, 'fido': 4079, 'jan': 4080, 'crow': 4081, 'crawl': 4082, 'kurosawa': 4083, 'contradict': 4084, 'gentleman': 4085, 'miyazaki': 4086, 'sabrina': 4087, '1984': 4088, 'reson': 4089, 'shootout': 4090, 'quinn': 4091, 'bro': 4092, 'buster': 4093, 'din': 4094, 'josh': 4095, 'derang': 4096, 'wax': 4097, 'demis': 4098, 'dana': 4099, 'compromis': 4100, 'passabl': 4101, 'ustinov': 4102, 'absent': 4103, 'perceiv': 4104, 'distress': 4105, 'unseen': 4106, 'mclaglen': 4107, 'businessman': 4108, 'painter': 4109, 'greg': 4110, '1997': 4111, 'tacki': 4112, 'pole': 4113, 'monoton': 4114, 'sucker': 4115, 'baldwin': 4116, 'warrant': 4117, 'unsatisfi': 4118, 'ross': 4119, 'spacey': 4120, 'traumat': 4121, 'cloud': 4122, 'geek': 4123, 'shaki': 4124, 'delic': 4125, 'crawford': 4126, '1987': 4127, 'censor': 4128, 'femm': 4129, 'shoddi': 4130, 'darren': 4131, 'soderbergh': 4132, 'stargat': 4133, 'meryl': 4134, 'pretens': 4135, 'sammi': 4136, 'fuller': 4137, 'abomin': 4138, 'unravel': 4139, 'correctli': 4140, 'sid': 4141, 'jewel': 4142, 'uncov': 4143, '1993': 4144, 'austin': 4145, 'exclus': 4146, 'furiou': 4147, 'accuraci': 4148, 'tech': 4149, 'dee': 4150, 'wholli': 4151, 'deceas': 4152, 'anchor': 4153, 'fenc': 4154, 'tarantino': 4155, 'click': 4156, 'reluct': 4157, 'norm': 4158, 'valid': 4159, 'kumar': 4160, 'clash': 4161, 'expedit': 4162, 'judgment': 4163, 'antonioni': 4164, 'nathan': 4165, 'polici': 4166, 'verbal': 4167, 'primit': 4168, 'seal': 4169, 'fog': 4170, 'deniro': 4171, 'clerk': 4172, '1971': 4173, 'sand': 4174, '3000': 4175, 'malon': 4176, 'wang': 4177, 'joel': 4178, 'shanghai': 4179, 'crippl': 4180, 'conduct': 4181, 'fought': 4182, 'temper': 4183, 'fart': 4184, 'darn': 4185, 'behold': 4186, '1995': 4187, 'enforc': 4188, 'dreck': 4189, 'fabric': 4190, 'tax': 4191, 'wretch': 4192, 'ritual': 4193, '2008': 4194, 'seldom': 4195, 'trait': 4196, 'patienc': 4197, 'logan': 4198, 'alec': 4199, 'mode': 4200, 'unfair': 4201, 'hallucin': 4202, 'pocket': 4203, 'sunni': 4204, 'sheet': 4205, 'debt': 4206, 'slam': 4207, 'bake': 4208, 'roller': 4209, 'vanc': 4210, 'sustain': 4211, 'nicola': 4212, 'murray': 4213, 'rita': 4214, 'despis': 4215, 'divid': 4216, 'technicolor': 4217, 'preposter': 4218, 'guitar': 4219, 'robber': 4220, 'preston': 4221, 'shell': 4222, 'bias': 4223, 'critiqu': 4224, 'squad': 4225, 'exhaust': 4226, 'legaci': 4227, 'pete': 4228, 'scriptwrit': 4229, 'conscious': 4230, 'tactic': 4231, 'grief': 4232, 'isabel': 4233, 'sweep': 4234, 'phil': 4235, 'stuart': 4236, 'canyon': 4237, 'outlin': 4238, 'fundament': 4239, 'helpless': 4240, 'schedul': 4241, 'runner': 4242, 'stark': 4243, 'penni': 4244, 'bridget': 4245, 'clau': 4246, 'soup': 4247, 'drove': 4248, 'newman': 4249, 'gregori': 4250, 'restrict': 4251, 'boyl': 4252, 'implic': 4253, 'consciou': 4254, 'bloom': 4255, 'passag': 4256, 'connor': 4257, 'invad': 4258, 'liberti': 4259, 'rehash': 4260, 'jodi': 4261, 'propos': 4262, 'downey': 4263, 'sentinel': 4264, 'agenc': 4265, 'vomit': 4266, 'culmin': 4267, 'kansa': 4268, 'delv': 4269, 'inabl': 4270, 'alley': 4271, 'marc': 4272, 'rear': 4273, 'alicia': 4274, 'sniper': 4275, 'lacklust': 4276, 'jacket': 4277, 'cigarett': 4278, 'flair': 4279, 'sugar': 4280, 'palanc': 4281, 'russia': 4282, 'unexpectedli': 4283, 'ladder': 4284, 'rod': 4285, 'cap': 4286, 'foxx': 4287, 'asylum': 4288, 'delet': 4289, '1936': 4290, '22': 4291, 'mccoy': 4292, 'vet': 4293, 'tripe': 4294, 'karl': 4295, 'pale': 4296, 'awhil': 4297, 'behaviour': 4298, 'rampag': 4299, 'wrench': 4300, 'chainsaw': 4301, 'aesthet': 4302, 'tendenc': 4303, 'bacon': 4304, 'arrow': 4305, 'horn': 4306, 'lush': 4307, 'sharon': 4308, 'feat': 4309, 'improb': 4310, 'rehears': 4311, 'kolchak': 4312, 'yeti': 4313, 'el': 4314, 'suffici': 4315, 'newcom': 4316, 'financ': 4317, 'rhythm': 4318, 'rumor': 4319, '1978': 4320, 'wildli': 4321, 'conscienc': 4322, 'wagner': 4323, 'aristocrat': 4324, 'elit': 4325, 'shortcom': 4326, '19th': 4327, 'loneli': 4328, 'thunderbird': 4329, 'paradis': 4330, 'filler': 4331, '1920': 4332, 'tomorrow': 4333, '1988': 4334, 'stream': 4335, 'hackney': 4336, 'lurk': 4337, 'globe': 4338, 'sung': 4339, 'weav': 4340, 'hungri': 4341, 'suspicion': 4342, 'fright': 4343, 'basing': 4344, 'amazon': 4345, 'coaster': 4346, 'spice': 4347, 'underneath': 4348, 'scoop': 4349, 'hulk': 4350, 'tasteless': 4351, 'paramount': 4352, 'prank': 4353, 'visitor': 4354, 'minu': 4355, 'posey': 4356, 'tierney': 4357, 'dirt': 4358, 'iv': 4359, 'standout': 4360, 'beverli': 4361, 'hopkin': 4362, '1939': 4363, 'en': 4364, 'choppi': 4365, 'impos': 4366, 'minist': 4367, 'grudg': 4368, 'rub': 4369, 'counterpart': 4370, 'springer': 4371, 'literari': 4372, 'paxton': 4373, 'heist': 4374, 'atroc': 4375, 'bread': 4376, 'immers': 4377, 'entranc': 4378, 'recogniz': 4379, 'straightforward': 4380, 'ram': 4381, '1989': 4382, 'ingeni': 4383, '75': 4384, 'cancer': 4385, 'smell': 4386, 'chavez': 4387, 'quietli': 4388, 'leigh': 4389, 'secondari': 4390, 'abrupt': 4391, 'penn': 4392, 'brit': 4393, 'inmat': 4394, 'teas': 4395, 'curli': 4396, 'chamberlain': 4397, 'naughti': 4398, 'couch': 4399, 'worship': 4400, 'wwe': 4401, 'lectur': 4402, 'net': 4403, 'yearn': 4404, 'heartfelt': 4405, 'entitl': 4406, 'lindsay': 4407, 'policeman': 4408, 'geni': 4409, 'quaid': 4410, 'duel': 4411, 'cattl': 4412, 'nolan': 4413, 'skeptic': 4414, 'misguid': 4415, 'watcher': 4416, 'transcend': 4417, 'laurenc': 4418, 'convert': 4419, 'ace': 4420, 'sublim': 4421, '1986': 4422, 'nemesi': 4423, 'enthral': 4424, 'clan': 4425, 'missil': 4426, 'bernard': 4427, 'moreov': 4428, 'variat': 4429, 'injuri': 4430, 'esther': 4431, 'morbid': 4432, 'sassi': 4433, 'attenborough': 4434, 'ratso': 4435, 'enabl': 4436, 'steadi': 4437, 'rosemari': 4438, 'kidman': 4439, 'uncut': 4440, 'artsi': 4441, 'spiral': 4442, 'setup': 4443, 'cruelti': 4444, '1979': 4445, 'obstacl': 4446, 'brood': 4447, 'grin': 4448, 'egg': 4449, 'youngest': 4450, 'moder': 4451, 'out': 4452, 'diari': 4453, 'puppi': 4454, 'bye': 4455, 'characteris': 4456, 'poe': 4457, 'unexplain': 4458, 'vader': 4459, 'reliabl': 4460, 'buzz': 4461, 'hopelessli': 4462, 'facil': 4463, 'hk': 4464, 'bean': 4465, 'graini': 4466, 'tyler': 4467, 'kitti': 4468, 'dont': 4469, 'mytholog': 4470, 'carlito': 4471, 'weather': 4472, 'narrow': 4473, 'spontan': 4474, 'preming': 4475, 'martha': 4476, '1969': 4477, 'clueless': 4478, 'effici': 4479, 'hammi': 4480, 'gina': 4481, 'sweat': 4482, 'bounc': 4483, 'despic': 4484, 'disastr': 4485, 'exterior': 4486, 'underworld': 4487, 'brendan': 4488, 'athlet': 4489, 'decept': 4490, 'oblig': 4491, 'baffl': 4492, 'heap': 4493, 'patricia': 4494, 'bewar': 4495, 'fuel': 4496, 'christin': 4497, 'acquaint': 4498, 'niec': 4499, 'hain': 4500, 'gillian': 4501, 'kline': 4502, 'bronson': 4503, 'mayhem': 4504, 'sooner': 4505, 'loath': 4506, 'taboo': 4507, 'astound': 4508, 'sleepwalk': 4509, 'preachi': 4510, 'rome': 4511, 'renaiss': 4512, 'insipid': 4513, 'suprem': 4514, 'hepburn': 4515, 'injur': 4516, 'harmless': 4517, 'enlist': 4518, 'housewif': 4519, 'circu': 4520, 'analyz': 4521, 'lester': 4522, 'loi': 4523, 'headach': 4524, 'scar': 4525, 'viewpoint': 4526, 'virtu': 4527, '19': 4528, 'outlaw': 4529, 'mermaid': 4530, 'fontain': 4531, 'dilemma': 4532, 'tick': 4533, 'biker': 4534, 'uh': 4535, 'trigger': 4536, '73': 4537, 'shatter': 4538, 'goof': 4539, 'angst': 4540, 'candl': 4541, 'dandi': 4542, 'hokey': 4543, 'salt': 4544, 'steer': 4545, 'oldest': 4546, 'ebert': 4547, 'zoom': 4548, 'stair': 4549, 'dismal': 4550, 'boston': 4551, 'glorifi': 4552, 'camcord': 4553, 'fluff': 4554, 'cassavet': 4555, 'filth': 4556, 'hooker': 4557, 'claustrophob': 4558, 'overlong': 4559, 'hostag': 4560, 'idol': 4561, 'redund': 4562, 'amor': 4563, 'whore': 4564, 'contempt': 4565, 'guin': 4566, 'immatur': 4567, 'spade': 4568, 'surgeri': 4569, 'bent': 4570, 'foolish': 4571, 'sox': 4572, 'macho': 4573, 'gere': 4574, 'intric': 4575, 'slimi': 4576, 'dish': 4577, 'stimul': 4578, 'corbett': 4579, 'scorses': 4580, 'tripl': 4581, 'phenomenon': 4582, 'ariel': 4583, 'assert': 4584, 'strongest': 4585, 'harold': 4586, 'spree': 4587, 'frantic': 4588, 'corman': 4589, 'mount': 4590, 'gabl': 4591, 'cow': 4592, 'keen': 4593, 'gasp': 4594, 'fascist': 4595, '1981': 4596, 'transplant': 4597, 'schlock': 4598, 'muscl': 4599, 'messi': 4600, '1976': 4601, 'beard': 4602, 'widescreen': 4603, 'cush': 4604, 'spinal': 4605, 'remad': 4606, 'flag': 4607, 'antagonist': 4608, 'flirt': 4609, 'flashi': 4610, 'preced': 4611, 'shield': 4612, 'alvin': 4613, 'down': 4614, 'mutual': 4615, 'margin': 4616, 'astronaut': 4617, 'joker': 4618, 'shred': 4619, 'perman': 4620, 'cohen': 4621, 'zane': 4622, 'nolt': 4623, 'faint': 4624, 'trivia': 4625, 'obligatori': 4626, 'radiat': 4627, 'dwarf': 4628, 'rhyme': 4629, 'proport': 4630, 'naschi': 4631, 'conquer': 4632, 'persuad': 4633, 'triangl': 4634, 'inflict': 4635, 'brush': 4636, 'hara': 4637, 'divin': 4638, 'resum': 4639, 'discern': 4640, 'raj': 4641, 'instruct': 4642, 'archiv': 4643, 'fishburn': 4644, 'someday': 4645, 'scandal': 4646, 'vaniti': 4647, 'www': 4648, 'claud': 4649, '95': 4650, 'interestingli': 4651, 'info': 4652, 'boob': 4653, 'departur': 4654, 'carey': 4655, '1945': 4656, 'danish': 4657, 'sensual': 4658, '28': 4659, 'wield': 4660, 'strive': 4661, 'flock': 4662, 'repris': 4663, 'ritchi': 4664, 'aborigin': 4665, 'bitten': 4666, 'mobil': 4667, 'neurot': 4668, 'bachelor': 4669, 'deer': 4670, 'mol': 4671, 'barn': 4672, 'off': 4673, 'neill': 4674, 'miracul': 4675, 'harrison': 4676, 'mobster': 4677, 'melissa': 4678, 'europa': 4679, 'axe': 4680, 'fragil': 4681, 'hapless': 4682, 'clad': 4683, 'biblic': 4684, 'submit': 4685, 'undermin': 4686, 'proclaim': 4687, 'timberlak': 4688, 'senior': 4689, 'earnest': 4690, 'artwork': 4691, 'dame': 4692, 'pickford': 4693, 'pixar': 4694, 'colin': 4695, 'frontier': 4696, 'pacif': 4697, 'rot': 4698, 'hug': 4699, 'recit': 4700, 'dylan': 4701, 'prophet': 4702, 'helm': 4703, 'kathryn': 4704, 'luka': 4705, 'anton': 4706, 'casino': 4707, 'jade': 4708, 'traffic': 4709, 'hilar': 4710, 'heartwarm': 4711, 'vibrant': 4712, 'ish': 4713, 'cb': 4714, 'carlo': 4715, 'banter': 4716, 'dim': 4717, 'cliffhang': 4718, 'bate': 4719, 'wendigo': 4720, 'cycl': 4721, 'cher': 4722, 'parson': 4723, 'loretta': 4724, 'http': 4725, 'misfortun': 4726, 'akin': 4727, 'vile': 4728, 'flavor': 4729, 'articl': 4730, 'northern': 4731, 'feast': 4732, 'static': 4733, 'venom': 4734, 'antholog': 4735, 'eli': 4736, 'wardrob': 4737, 'foil': 4738, 'bikini': 4739, 'breakfast': 4740, 'sicken': 4741, 'seedi': 4742, 'electron': 4743, 'razor': 4744, 'uma': 4745, 'blatantli': 4746, 'lucil': 4747, 'shepherd': 4748, 'nope': 4749, 'cerebr': 4750, 'bondag': 4751, 'illus': 4752, 'legitim': 4753, 'holocaust': 4754, 'trier': 4755, 'isra': 4756, 'mason': 4757, 'jo': 4758, 'estrang': 4759, 'pc': 4760, 'aris': 4761, 'orphan': 4762, 'rooki': 4763, 'token': 4764, 'milo': 4765, 'alexandr': 4766, 'marlon': 4767, 'lui': 4768, 'choke': 4769, 'redneck': 4770, 'jordan': 4771, 'toronto': 4772, 'vanessa': 4773, 'mathieu': 4774, 'winchest': 4775, 'retriev': 4776, 'turd': 4777, 'comprehend': 4778, 'tack': 4779, 'shorter': 4780, 'linear': 4781, 'howl': 4782, 'leather': 4783, 'cartoonish': 4784, 'deem': 4785, 'audrey': 4786, 'fifth': 4787, 'abund': 4788, 'outdat': 4789, 'huston': 4790, 'psych': 4791, 'affleck': 4792, 'disregard': 4793, 'styliz': 4794, 'oppon': 4795, 'knightley': 4796, 'boyer': 4797, 'peer': 4798, 'dudley': 4799, 'gilbert': 4800, 'swept': 4801, 'charlton': 4802, 'smack': 4803, 'ideolog': 4804, 'highway': 4805, 'glare': 4806, 'nightclub': 4807, 'wrestler': 4808, 'magician': 4809, 'ceremoni': 4810, 'clinic': 4811, 'frog': 4812, 'feminin': 4813, 'gunga': 4814, 'bastard': 4815, 'phenomen': 4816, 'conrad': 4817, 'toe': 4818, 'whack': 4819, 'potter': 4820, 'spawn': 4821, 'lifeless': 4822, 'chip': 4823, 'summar': 4824, 'snatch': 4825, 'deliver': 4826, 'lavish': 4827, 'senat': 4828, 'cemeteri': 4829, 'einstein': 4830, '1994': 4831, 'tara': 4832, 'salman': 4833, 'plate': 4834, 'uniformli': 4835, 'bogu': 4836, 'boo': 4837, 'lighter': 4838, '4th': 4839, 'evolut': 4840, 'sleaz': 4841, 'btw': 4842, 'braveheart': 4843, 'cuban': 4844, 'durat': 4845, 'monument': 4846, 'mitch': 4847, 'greet': 4848, 'compris': 4849, 'moe': 4850, 'energet': 4851, 'client': 4852, 'breakdown': 4853, '1991': 4854, 'newer': 4855, 'spine': 4856, 'goldsworthi': 4857, 'corn': 4858, 'collector': 4859, 'belli': 4860, 'randolph': 4861, 'liu': 4862, 'occup': 4863, 'eleven': 4864, 'inaccuraci': 4865, 'signal': 4866, 'jedi': 4867, 'embark': 4868, 'replay': 4869, 'armstrong': 4870, 'judd': 4871, 'constitut': 4872, 'capot': 4873, 'jule': 4874, 'jam': 4875, 'pronounc': 4876, 'trauma': 4877, 'creek': 4878, 'wtf': 4879, 'ol': 4880, 'outright': 4881, 'firmli': 4882, 'kent': 4883, 'bulk': 4884, 'mcqueen': 4885, 'evelyn': 4886, 'healthi': 4887, 'bori': 4888, 'alleg': 4889, 'fluid': 4890, 'spectacl': 4891, 'historian': 4892, 'sorrow': 4893, 'lex': 4894, 'ie': 4895, 'cecil': 4896, 'luxuri': 4897, 'clara': 4898, 'undertak': 4899, 'undead': 4900, 'nina': 4901, 'gilliam': 4902, 'jare': 4903, 'neatli': 4904, 'appl': 4905, '1974': 4906, '1977': 4907, 'kazan': 4908, 'genet': 4909, 'sidewalk': 4910, 'comprehens': 4911, 'forgiven': 4912, 'subtli': 4913, 'palm': 4914, 'propheci': 4915, 'inaccur': 4916, 'roar': 4917, 'lauren': 4918, 'conan': 4919, 'relentless': 4920, 'inclus': 4921, 'miniseri': 4922, 'abound': 4923, 'vain': 4924, 'poker': 4925, 'pepper': 4926, 'unsuspect': 4927, 'id': 4928, 'basket': 4929, 'truman': 4930, 'comb': 4931, 'fruit': 4932, 'decapit': 4933, 'tokyo': 4934, 'congratul': 4935, 'goldblum': 4936, 'spray': 4937, 'carmen': 4938, 'bait': 4939, 'walt': 4940, 'sacrif': 4941, '1985': 4942, 'pioneer': 4943, 'groan': 4944, 'curtain': 4945, 'antonio': 4946, 'lanc': 4947, 'cape': 4948, 'miami': 4949, 'porter': 4950, 'paula': 4951, 'unattract': 4952, 'meal': 4953, 'ash': 4954, 'kiddi': 4955, 'rosario': 4956, 'knee': 4957, 'vignett': 4958, 'blur': 4959, 'galaxi': 4960, 'bsg': 4961, 'mum': 4962, 'aussi': 4963, 'turtl': 4964, 'scariest': 4965, 'orchestr': 4966, 'rapidli': 4967, 'vastli': 4968, 'jill': 4969, 'omin': 4970, 'incorrect': 4971, 'optimist': 4972, 'substanti': 4973, 'motorcycl': 4974, 'hackman': 4975, 'modest': 4976, 'playboy': 4977, 'monti': 4978, 'bravo': 4979, 'handicap': 4980, 'macabr': 4981, 'victorian': 4982, 'frontal': 4983, 'weaker': 4984, 'sophi': 4985, 'bach': 4986, 'scarfac': 4987, 'asset': 4988, 'drone': 4989, '21st': 4990, 'weari': 4991, 'detach': 4992, 'reincarn': 4993, 'epitom': 4994, 'ingrid': 4995, 'sparkl': 4996, 'assort': 4997, 'ghetto': 4998, 'spill': 4999}\n"
     ]
    }
   ],
   "source": [
    "word_dict = build_dict(train_X)\n",
    "print(word_dict)"
   ]
  },
  {
   "cell_type": "markdown",
   "metadata": {},
   "source": [
    "**Question:** What are the five most frequently appearing (tokenized) words in the training set? Does it makes sense that these words appear frequently in the training set?"
   ]
  },
  {
   "cell_type": "markdown",
   "metadata": {},
   "source": [
    "**Answer:** The five most frequently appearing (tokenized) words in the training set are show below. However, it is quite interesting to see the words movi or film in the list as they only refer to the movie itself and probably carry less inference."
   ]
  },
  {
   "cell_type": "code",
   "execution_count": 19,
   "metadata": {},
   "outputs": [
    {
     "data": {
      "text/plain": [
       "['movi', 'film', 'one', 'like', 'time']"
      ]
     },
     "execution_count": 19,
     "metadata": {},
     "output_type": "execute_result"
    }
   ],
   "source": [
    "# TODO: Use this space to determine the five most frequently appearing words in the training set.\n",
    "list(word_dict.keys())[:5]"
   ]
  },
  {
   "cell_type": "markdown",
   "metadata": {},
   "source": [
    "### Save `word_dict`\n",
    "\n",
    "Later on when we construct an endpoint which processes a submitted review we will need to make use of the `word_dict` which we have created. As such, we will save it to a file now for future use."
   ]
  },
  {
   "cell_type": "code",
   "execution_count": 20,
   "metadata": {},
   "outputs": [],
   "source": [
    "data_dir = '../data/pytorch' # The folder we will use for storing data\n",
    "if not os.path.exists(data_dir): # Make sure that the folder exists\n",
    "    os.makedirs(data_dir)"
   ]
  },
  {
   "cell_type": "code",
   "execution_count": 21,
   "metadata": {},
   "outputs": [],
   "source": [
    "with open(os.path.join(data_dir, 'word_dict.pkl'), \"wb\") as f:\n",
    "    pickle.dump(word_dict, f)"
   ]
  },
  {
   "cell_type": "markdown",
   "metadata": {},
   "source": [
    "### Transform the reviews\n",
    "\n",
    "Now that we have our word dictionary which allows us to transform the words appearing in the reviews into integers, it is time to make use of it and convert our reviews to their integer sequence representation, making sure to pad or truncate to a fixed length, which in our case is `500`."
   ]
  },
  {
   "cell_type": "code",
   "execution_count": 22,
   "metadata": {},
   "outputs": [],
   "source": [
    "def convert_and_pad(word_dict, sentence, pad=500):\n",
    "    NOWORD = 0 # We will use 0 to represent the 'no word' category\n",
    "    INFREQ = 1 # and we use 1 to represent the infrequent words, i.e., words not appearing in \n",
    "               # word_dict\n",
    "    \n",
    "    working_sentence = [NOWORD] * pad\n",
    "    \n",
    "    for word_index, word in enumerate(sentence[:pad]):\n",
    "        if word in word_dict:\n",
    "            working_sentence[word_index] = word_dict[word]\n",
    "        else:\n",
    "            working_sentence[word_index] = INFREQ\n",
    "            \n",
    "    return working_sentence, min(len(sentence), pad)\n",
    "\n",
    "def convert_and_pad_data(word_dict, data, pad=500):\n",
    "    result = []\n",
    "    lengths = []\n",
    "    \n",
    "    for sentence in data:\n",
    "        converted, leng = convert_and_pad(word_dict, sentence, pad)\n",
    "        result.append(converted)\n",
    "        lengths.append(leng)\n",
    "        \n",
    "    return np.array(result), np.array(lengths)"
   ]
  },
  {
   "cell_type": "code",
   "execution_count": 23,
   "metadata": {},
   "outputs": [],
   "source": [
    "train_X, train_X_len = convert_and_pad_data(word_dict, train_X)\n",
    "test_X, test_X_len = convert_and_pad_data(word_dict, test_X)"
   ]
  },
  {
   "cell_type": "markdown",
   "metadata": {},
   "source": [
    "As a quick check to make sure that things are working as intended, check to see what one of the reviews in the training set looks like after having been processeed. Does this look reasonable? What is the length of a review in the training set?"
   ]
  },
  {
   "cell_type": "code",
   "execution_count": 24,
   "metadata": {},
   "outputs": [
    {
     "name": "stdout",
     "output_type": "stream",
     "text": [
      "(25000, 500)\n"
     ]
    },
    {
     "data": {
      "text/plain": [
       "array([ 543,  228,  291,   57,  139,  505,   62,    3,   27,  763,    1,\n",
       "          3,   56,   10,  186,  280,  315,  601,  342,    1,   78,   10,\n",
       "       2502,  508, 1246,   15,    1, 3816,  610,   75,  588,  601, 2437,\n",
       "        118,   55,    1,    1, 1063, 1506,   56,  108,   71,  489,   40,\n",
       "          5,   17, 2013,    3,   20,   88, 2096, 1109, 2013, 2471, 2013,\n",
       "       1047,    1, 2590,  913,  574, 4172,   87,  193, 1293,    1,  868,\n",
       "         61,   31,  110,  275, 3198,  128,    1,   49,    1,   21,  176,\n",
       "        897,  638,    3,    5,    1, 3845,    1, 3507,    1,    1,  574,\n",
       "        241,    1, 1030,  601,  439, 3817,  867, 4284,    7,  338, 1715,\n",
       "          8,   69,  234,   14,   37,   63, 2013,  124,    0,    0,    0,\n",
       "          0,    0,    0,    0,    0,    0,    0,    0,    0,    0,    0,\n",
       "          0,    0,    0,    0,    0,    0,    0,    0,    0,    0,    0,\n",
       "          0,    0,    0,    0,    0,    0,    0,    0,    0,    0,    0,\n",
       "          0,    0,    0,    0,    0,    0,    0,    0,    0,    0,    0,\n",
       "          0,    0,    0,    0,    0,    0,    0,    0,    0,    0,    0,\n",
       "          0,    0,    0,    0,    0,    0,    0,    0,    0,    0,    0,\n",
       "          0,    0,    0,    0,    0,    0,    0,    0,    0,    0,    0,\n",
       "          0,    0,    0,    0,    0,    0,    0,    0,    0,    0,    0,\n",
       "          0,    0,    0,    0,    0,    0,    0,    0,    0,    0,    0,\n",
       "          0,    0,    0,    0,    0,    0,    0,    0,    0,    0,    0,\n",
       "          0,    0,    0,    0,    0,    0,    0,    0,    0,    0,    0,\n",
       "          0,    0,    0,    0,    0,    0,    0,    0,    0,    0,    0,\n",
       "          0,    0,    0,    0,    0,    0,    0,    0,    0,    0,    0,\n",
       "          0,    0,    0,    0,    0,    0,    0,    0,    0,    0,    0,\n",
       "          0,    0,    0,    0,    0,    0,    0,    0,    0,    0,    0,\n",
       "          0,    0,    0,    0,    0,    0,    0,    0,    0,    0,    0,\n",
       "          0,    0,    0,    0,    0,    0,    0,    0,    0,    0,    0,\n",
       "          0,    0,    0,    0,    0,    0,    0,    0,    0,    0,    0,\n",
       "          0,    0,    0,    0,    0,    0,    0,    0,    0,    0,    0,\n",
       "          0,    0,    0,    0,    0,    0,    0,    0,    0,    0,    0,\n",
       "          0,    0,    0,    0,    0,    0,    0,    0,    0,    0,    0,\n",
       "          0,    0,    0,    0,    0,    0,    0,    0,    0,    0,    0,\n",
       "          0,    0,    0,    0,    0,    0,    0,    0,    0,    0,    0,\n",
       "          0,    0,    0,    0,    0,    0,    0,    0,    0,    0,    0,\n",
       "          0,    0,    0,    0,    0,    0,    0,    0,    0,    0,    0,\n",
       "          0,    0,    0,    0,    0,    0,    0,    0,    0,    0,    0,\n",
       "          0,    0,    0,    0,    0,    0,    0,    0,    0,    0,    0,\n",
       "          0,    0,    0,    0,    0,    0,    0,    0,    0,    0,    0,\n",
       "          0,    0,    0,    0,    0,    0,    0,    0,    0,    0,    0,\n",
       "          0,    0,    0,    0,    0,    0,    0,    0,    0,    0,    0,\n",
       "          0,    0,    0,    0,    0,    0,    0,    0,    0,    0,    0,\n",
       "          0,    0,    0,    0,    0,    0,    0,    0,    0,    0,    0,\n",
       "          0,    0,    0,    0,    0,    0,    0,    0,    0,    0,    0,\n",
       "          0,    0,    0,    0,    0,    0,    0,    0,    0,    0,    0,\n",
       "          0,    0,    0,    0,    0,    0,    0,    0,    0,    0,    0,\n",
       "          0,    0,    0,    0,    0])"
      ]
     },
     "execution_count": 24,
     "metadata": {},
     "output_type": "execute_result"
    }
   ],
   "source": [
    "# Use this cell to examine one of the processed reviews to make sure everything is working as \n",
    "# intended.\n",
    "print(train_X.shape)\n",
    "train_X[0] # examine first row"
   ]
  },
  {
   "cell_type": "code",
   "execution_count": 25,
   "metadata": {},
   "outputs": [
    {
     "data": {
      "text/plain": [
       "array([107, 161, 159, ...,  64,  28, 140])"
      ]
     },
     "execution_count": 25,
     "metadata": {},
     "output_type": "execute_result"
    }
   ],
   "source": [
    "train_X_len"
   ]
  },
  {
   "cell_type": "code",
   "execution_count": 26,
   "metadata": {},
   "outputs": [
    {
     "data": {
      "text/plain": [
       "120.60932"
      ]
     },
     "execution_count": 26,
     "metadata": {},
     "output_type": "execute_result"
    }
   ],
   "source": [
    "# average length of sentences\n",
    "np.mean(train_X_len)"
   ]
  },
  {
   "cell_type": "code",
   "execution_count": 27,
   "metadata": {},
   "outputs": [
    {
     "data": {
      "text/plain": [
       "379.39068"
      ]
     },
     "execution_count": 27,
     "metadata": {},
     "output_type": "execute_result"
    }
   ],
   "source": [
    "# average length of zero's (no words) per sentence\n",
    "train_X.shape[1] - np.mean(train_X_len)"
   ]
  },
  {
   "cell_type": "markdown",
   "metadata": {},
   "source": [
    "**Question:** In the cells above we use the `preprocess_data` and `convert_and_pad_data` methods to process both the training and testing set. Why or why not might this be a problem?"
   ]
  },
  {
   "cell_type": "markdown",
   "metadata": {},
   "source": [
    "**Answer:** The average number of words per sentence is 121 while the pad size is 500 leaving an average of 380 extra 0's indicating no word meaning this could be not the best way to optimize memory space."
   ]
  },
  {
   "cell_type": "markdown",
   "metadata": {},
   "source": [
    "## Step 3: Upload the data to S3\n",
    "\n",
    "As in the XGBoost notebook, we will need to upload the training dataset to S3 in order for our training code to access it. For now we will save it locally and we will upload to S3 later on.\n",
    "\n",
    "### Save the processed training dataset locally\n",
    "\n",
    "It is important to note the format of the data that we are saving as we will need to know it when we write the training code. In our case, each row of the dataset has the form `label`, `length`, `review[500]` where `review[500]` is a sequence of `500` integers representing the words in the review."
   ]
  },
  {
   "cell_type": "code",
   "execution_count": 28,
   "metadata": {},
   "outputs": [
    {
     "name": "stdout",
     "output_type": "stream",
     "text": [
      "data_dir: ../data/pytorch\n"
     ]
    }
   ],
   "source": [
    "import pandas as pd\n",
    "\n",
    "print(f'data_dir: {data_dir}')\n",
    "pd.concat([pd.DataFrame(train_y), pd.DataFrame(train_X_len), pd.DataFrame(train_X)], axis=1) \\\n",
    "        .to_csv(os.path.join(data_dir, 'train.csv'), header=False, index=False)"
   ]
  },
  {
   "cell_type": "code",
   "execution_count": 29,
   "metadata": {},
   "outputs": [
    {
     "name": "stdout",
     "output_type": "stream",
     "text": [
      "DataFrame shape:  (5, 502)\n"
     ]
    },
    {
     "data": {
      "text/html": [
       "<div>\n",
       "<style scoped>\n",
       "    .dataframe tbody tr th:only-of-type {\n",
       "        vertical-align: middle;\n",
       "    }\n",
       "\n",
       "    .dataframe tbody tr th {\n",
       "        vertical-align: top;\n",
       "    }\n",
       "\n",
       "    .dataframe thead th {\n",
       "        text-align: right;\n",
       "    }\n",
       "</style>\n",
       "<table border=\"1\" class=\"dataframe\">\n",
       "  <thead>\n",
       "    <tr style=\"text-align: right;\">\n",
       "      <th></th>\n",
       "      <th>0</th>\n",
       "      <th>1</th>\n",
       "      <th>2</th>\n",
       "      <th>3</th>\n",
       "      <th>4</th>\n",
       "      <th>5</th>\n",
       "      <th>6</th>\n",
       "      <th>7</th>\n",
       "      <th>8</th>\n",
       "      <th>9</th>\n",
       "      <th>...</th>\n",
       "      <th>492</th>\n",
       "      <th>493</th>\n",
       "      <th>494</th>\n",
       "      <th>495</th>\n",
       "      <th>496</th>\n",
       "      <th>497</th>\n",
       "      <th>498</th>\n",
       "      <th>499</th>\n",
       "      <th>500</th>\n",
       "      <th>501</th>\n",
       "    </tr>\n",
       "  </thead>\n",
       "  <tbody>\n",
       "    <tr>\n",
       "      <th>0</th>\n",
       "      <td>1</td>\n",
       "      <td>107</td>\n",
       "      <td>543</td>\n",
       "      <td>228</td>\n",
       "      <td>291</td>\n",
       "      <td>57</td>\n",
       "      <td>139</td>\n",
       "      <td>505</td>\n",
       "      <td>62</td>\n",
       "      <td>3</td>\n",
       "      <td>...</td>\n",
       "      <td>0</td>\n",
       "      <td>0</td>\n",
       "      <td>0</td>\n",
       "      <td>0</td>\n",
       "      <td>0</td>\n",
       "      <td>0</td>\n",
       "      <td>0</td>\n",
       "      <td>0</td>\n",
       "      <td>0</td>\n",
       "      <td>0</td>\n",
       "    </tr>\n",
       "    <tr>\n",
       "      <th>1</th>\n",
       "      <td>0</td>\n",
       "      <td>161</td>\n",
       "      <td>1436</td>\n",
       "      <td>1344</td>\n",
       "      <td>1562</td>\n",
       "      <td>1</td>\n",
       "      <td>4964</td>\n",
       "      <td>11</td>\n",
       "      <td>128</td>\n",
       "      <td>941</td>\n",
       "      <td>...</td>\n",
       "      <td>0</td>\n",
       "      <td>0</td>\n",
       "      <td>0</td>\n",
       "      <td>0</td>\n",
       "      <td>0</td>\n",
       "      <td>0</td>\n",
       "      <td>0</td>\n",
       "      <td>0</td>\n",
       "      <td>0</td>\n",
       "      <td>0</td>\n",
       "    </tr>\n",
       "    <tr>\n",
       "      <th>2</th>\n",
       "      <td>1</td>\n",
       "      <td>159</td>\n",
       "      <td>189</td>\n",
       "      <td>457</td>\n",
       "      <td>255</td>\n",
       "      <td>615</td>\n",
       "      <td>459</td>\n",
       "      <td>1068</td>\n",
       "      <td>236</td>\n",
       "      <td>4633</td>\n",
       "      <td>...</td>\n",
       "      <td>0</td>\n",
       "      <td>0</td>\n",
       "      <td>0</td>\n",
       "      <td>0</td>\n",
       "      <td>0</td>\n",
       "      <td>0</td>\n",
       "      <td>0</td>\n",
       "      <td>0</td>\n",
       "      <td>0</td>\n",
       "      <td>0</td>\n",
       "    </tr>\n",
       "    <tr>\n",
       "      <th>3</th>\n",
       "      <td>1</td>\n",
       "      <td>88</td>\n",
       "      <td>254</td>\n",
       "      <td>1892</td>\n",
       "      <td>4356</td>\n",
       "      <td>92</td>\n",
       "      <td>95</td>\n",
       "      <td>811</td>\n",
       "      <td>1323</td>\n",
       "      <td>1283</td>\n",
       "      <td>...</td>\n",
       "      <td>0</td>\n",
       "      <td>0</td>\n",
       "      <td>0</td>\n",
       "      <td>0</td>\n",
       "      <td>0</td>\n",
       "      <td>0</td>\n",
       "      <td>0</td>\n",
       "      <td>0</td>\n",
       "      <td>0</td>\n",
       "      <td>0</td>\n",
       "    </tr>\n",
       "    <tr>\n",
       "      <th>4</th>\n",
       "      <td>0</td>\n",
       "      <td>99</td>\n",
       "      <td>51</td>\n",
       "      <td>487</td>\n",
       "      <td>184</td>\n",
       "      <td>55</td>\n",
       "      <td>2186</td>\n",
       "      <td>1</td>\n",
       "      <td>487</td>\n",
       "      <td>47</td>\n",
       "      <td>...</td>\n",
       "      <td>0</td>\n",
       "      <td>0</td>\n",
       "      <td>0</td>\n",
       "      <td>0</td>\n",
       "      <td>0</td>\n",
       "      <td>0</td>\n",
       "      <td>0</td>\n",
       "      <td>0</td>\n",
       "      <td>0</td>\n",
       "      <td>0</td>\n",
       "    </tr>\n",
       "  </tbody>\n",
       "</table>\n",
       "<p>5 rows × 502 columns</p>\n",
       "</div>"
      ],
      "text/plain": [
       "   0    1     2     3     4    5     6     7     8     9    ...  492  493  \\\n",
       "0    1  107   543   228   291   57   139   505    62     3  ...    0    0   \n",
       "1    0  161  1436  1344  1562    1  4964    11   128   941  ...    0    0   \n",
       "2    1  159   189   457   255  615   459  1068   236  4633  ...    0    0   \n",
       "3    1   88   254  1892  4356   92    95   811  1323  1283  ...    0    0   \n",
       "4    0   99    51   487   184   55  2186     1   487    47  ...    0    0   \n",
       "\n",
       "   494  495  496  497  498  499  500  501  \n",
       "0    0    0    0    0    0    0    0    0  \n",
       "1    0    0    0    0    0    0    0    0  \n",
       "2    0    0    0    0    0    0    0    0  \n",
       "3    0    0    0    0    0    0    0    0  \n",
       "4    0    0    0    0    0    0    0    0  \n",
       "\n",
       "[5 rows x 502 columns]"
      ]
     },
     "execution_count": 29,
     "metadata": {},
     "output_type": "execute_result"
    }
   ],
   "source": [
    "# a bit of data analysis\n",
    "sample_data = pd.read_csv(os.path.join(data_dir, 'train.csv'), header=None, nrows=5)\n",
    "print('DataFrame shape: ', sample_data.shape)\n",
    "sample_data"
   ]
  },
  {
   "cell_type": "markdown",
   "metadata": {},
   "source": [
    "* Notice column 0 and 1 are for labels and words/sentence."
   ]
  },
  {
   "cell_type": "code",
   "execution_count": 30,
   "metadata": {},
   "outputs": [
    {
     "name": "stdout",
     "output_type": "stream",
     "text": [
      "idxmax:  1\n"
     ]
    },
    {
     "data": {
      "text/plain": [
       "array([1436, 1344, 1562,    1, 4964,   11,  128,  941,  199,   82,   24,\n",
       "       1496,  777,  183,  485, 1465, 3112, 1344, 1094,    1, 2811, 2519,\n",
       "       1647,    1,  976, 3180, 1193,    1, 4964,  982,  157,    1, 2236,\n",
       "          1,    1, 2481,  957,  207,  225, 1891, 2116, 1124,  137,  311,\n",
       "        103, 1386, 4815, 2744,   80, 1066, 2482, 1606, 1332,    1,   79,\n",
       "        259,  920, 1196, 4964,  814,   28,    6,  109,  523, 2349, 3818,\n",
       "        499,  344,    1,  875,   64,   19, 2055, 1007,  645, 1202,    1,\n",
       "          1,  669,   29,   27, 3067, 1327,   41,  440,  138,  442,    1,\n",
       "        979,  604,   69,  119,  814, 4964,   23,   52,  265,  251,  785,\n",
       "        183,  445,  850,  846,  527,  561,  510,  274,    1,  943,  242,\n",
       "          5,   90, 3464, 2155,  776, 1615,    1,  112,  604,  753,  385,\n",
       "       4543,  602, 3049,    3,   51, 2520,  331,    1,    1,  616,   43,\n",
       "          5, 1431,    1,    1,  365, 1619, 4674,    1,   39, 3991,    3,\n",
       "         88,   14,   90,  785, 4504,   18,  547,    1,  127,  430,  282,\n",
       "        173,  557,   74,   10,    4,  994,   86,    0,    0,    0,    0,\n",
       "          0,    0,    0,    0,    0,    0,    0,    0,    0,    0,    0,\n",
       "          0,    0,    0,    0,    0,    0,    0,    0,    0,    0,    0,\n",
       "          0,    0,    0,    0,    0,    0,    0,    0,    0,    0,    0,\n",
       "          0,    0,    0,    0,    0,    0,    0,    0,    0,    0,    0,\n",
       "          0,    0,    0,    0,    0,    0,    0,    0,    0,    0,    0,\n",
       "          0,    0,    0,    0,    0,    0,    0,    0,    0,    0,    0,\n",
       "          0,    0,    0,    0,    0,    0,    0,    0,    0,    0,    0,\n",
       "          0,    0,    0,    0,    0,    0,    0,    0,    0,    0,    0,\n",
       "          0,    0,    0,    0,    0,    0,    0,    0,    0,    0,    0,\n",
       "          0,    0,    0,    0,    0,    0,    0,    0,    0,    0,    0,\n",
       "          0,    0,    0,    0,    0,    0,    0,    0,    0,    0,    0,\n",
       "          0,    0,    0,    0,    0,    0,    0,    0,    0,    0,    0,\n",
       "          0,    0,    0,    0,    0,    0,    0,    0,    0,    0,    0,\n",
       "          0,    0,    0,    0,    0,    0,    0,    0,    0,    0,    0,\n",
       "          0,    0,    0,    0,    0,    0,    0,    0,    0,    0,    0,\n",
       "          0,    0,    0,    0,    0,    0,    0,    0,    0,    0,    0,\n",
       "          0,    0,    0,    0,    0,    0,    0,    0,    0,    0,    0,\n",
       "          0,    0,    0,    0,    0,    0,    0,    0,    0,    0,    0,\n",
       "          0,    0,    0,    0,    0,    0,    0,    0,    0,    0,    0,\n",
       "          0,    0,    0,    0,    0,    0,    0,    0,    0,    0,    0,\n",
       "          0,    0,    0,    0,    0,    0,    0,    0,    0,    0,    0,\n",
       "          0,    0,    0,    0,    0,    0,    0,    0,    0,    0,    0,\n",
       "          0,    0,    0,    0,    0,    0,    0,    0,    0,    0,    0,\n",
       "          0,    0,    0,    0,    0,    0,    0,    0,    0,    0,    0,\n",
       "          0,    0,    0,    0,    0,    0,    0,    0,    0,    0,    0,\n",
       "          0,    0,    0,    0,    0,    0,    0,    0,    0,    0,    0,\n",
       "          0,    0,    0,    0,    0,    0,    0,    0,    0,    0,    0,\n",
       "          0,    0,    0,    0,    0,    0,    0,    0,    0,    0,    0,\n",
       "          0,    0,    0,    0,    0,    0,    0,    0,    0,    0,    0,\n",
       "          0,    0,    0,    0,    0,    0,    0,    0,    0,    0,    0,\n",
       "          0,    0,    0,    0,    0])"
      ]
     },
     "execution_count": 30,
     "metadata": {},
     "output_type": "execute_result"
    }
   ],
   "source": [
    "# find longest sentence in terms of number of words\n",
    "idxmax = sample_data.iloc[:][1].idxmax()\n",
    "print('idxmax: ', idxmax)\n",
    "train_X[idxmax]"
   ]
  },
  {
   "cell_type": "markdown",
   "metadata": {},
   "source": [
    "* Reminder:\n",
    "0's for no word\n",
    "1's for infrequent word"
   ]
  },
  {
   "cell_type": "code",
   "execution_count": 31,
   "metadata": {},
   "outputs": [],
   "source": [
    "sample_data = None"
   ]
  },
  {
   "cell_type": "markdown",
   "metadata": {},
   "source": [
    "### Uploading the training data\n",
    "\n",
    "\n",
    "Next, we need to upload the training data to the SageMaker default S3 bucket so that we can provide access to it while training our model."
   ]
  },
  {
   "cell_type": "code",
   "execution_count": 32,
   "metadata": {},
   "outputs": [],
   "source": [
    "import sagemaker\n",
    "\n",
    "sagemaker_session = sagemaker.Session()\n",
    "\n",
    "bucket = sagemaker_session.default_bucket()\n",
    "prefix = 'sagemaker/sentiment_rnn'\n",
    "\n",
    "role = sagemaker.get_execution_role()"
   ]
  },
  {
   "cell_type": "code",
   "execution_count": 33,
   "metadata": {},
   "outputs": [],
   "source": [
    "input_data = sagemaker_session.upload_data(path=data_dir, bucket=bucket, key_prefix=prefix)"
   ]
  },
  {
   "cell_type": "code",
   "execution_count": 34,
   "metadata": {},
   "outputs": [
    {
     "data": {
      "text/plain": [
       "['word_dict.pkl', 'train.csv']"
      ]
     },
     "execution_count": 34,
     "metadata": {},
     "output_type": "execute_result"
    }
   ],
   "source": [
    "from os import listdir\n",
    "from os.path import isfile, join\n",
    "mypath = '../data/pytorch'\n",
    "onlyfiles = [f for f in listdir(mypath) if isfile(join(mypath, f))]\n",
    "onlyfiles"
   ]
  },
  {
   "cell_type": "markdown",
   "metadata": {},
   "source": [
    "**NOTE:** The cell above uploads the entire contents of our data directory. This includes the `word_dict.pkl` file. This is fortunate as we will need this later on when we create an endpoint that accepts an arbitrary review. For now, we will just take note of the fact that it resides in the data directory (and so also in the S3 training bucket) and that we will need to make sure it gets saved in the model directory."
   ]
  },
  {
   "cell_type": "markdown",
   "metadata": {},
   "source": [
    "## Step 4: Build and Train the PyTorch Model\n",
    "\n",
    "In the XGBoost notebook we discussed what a model is in the SageMaker framework. In particular, a model comprises three objects\n",
    "\n",
    " - Model Artifacts,\n",
    " - Training Code, and\n",
    " - Inference Code,\n",
    " \n",
    "each of which interact with one another. In the XGBoost example we used training and inference code that was provided by Amazon. Here we will still be using containers provided by Amazon with the added benefit of being able to include our own custom code.\n",
    "\n",
    "We will start by implementing our own neural network in PyTorch along with a training script. For the purposes of this project we have provided the necessary model object in the `model.py` file, inside of the `train` folder. You can see the provided implementation by running the cell below."
   ]
  },
  {
   "cell_type": "code",
   "execution_count": 35,
   "metadata": {},
   "outputs": [
    {
     "data": {
      "text/plain": [
       "['train.py', 'requirements.txt', 'model.py']"
      ]
     },
     "execution_count": 35,
     "metadata": {},
     "output_type": "execute_result"
    }
   ],
   "source": [
    "mypath = './train'\n",
    "onlyfiles = [f for f in listdir(mypath) if isfile(join(mypath, f))]\n",
    "onlyfiles"
   ]
  },
  {
   "cell_type": "code",
   "execution_count": 36,
   "metadata": {},
   "outputs": [
    {
     "name": "stdout",
     "output_type": "stream",
     "text": [
      "\u001b[34mimport\u001b[39;49;00m \u001b[04m\u001b[36mtorch\u001b[39;49;00m\u001b[04m\u001b[36m.\u001b[39;49;00m\u001b[04m\u001b[36mnn\u001b[39;49;00m \u001b[34mas\u001b[39;49;00m \u001b[04m\u001b[36mnn\u001b[39;49;00m\n",
      "\n",
      "\u001b[34mclass\u001b[39;49;00m \u001b[04m\u001b[32mLSTMClassifier\u001b[39;49;00m(nn.Module):\n",
      "    \u001b[33m\"\"\"\u001b[39;49;00m\n",
      "\u001b[33m    This is the simple RNN model we will be using to perform Sentiment Analysis.\u001b[39;49;00m\n",
      "\u001b[33m    \"\"\"\u001b[39;49;00m\n",
      "\n",
      "    \u001b[34mdef\u001b[39;49;00m \u001b[32m__init__\u001b[39;49;00m(\u001b[36mself\u001b[39;49;00m, embedding_dim, hidden_dim, vocab_size):\n",
      "        \u001b[33m\"\"\"\u001b[39;49;00m\n",
      "\u001b[33m        Initialize the model by settingg up the various layers.\u001b[39;49;00m\n",
      "\u001b[33m        \"\"\"\u001b[39;49;00m\n",
      "        \u001b[36msuper\u001b[39;49;00m(LSTMClassifier, \u001b[36mself\u001b[39;49;00m).\u001b[32m__init__\u001b[39;49;00m()\n",
      "\n",
      "        \u001b[36mself\u001b[39;49;00m.embedding = nn.Embedding(vocab_size, embedding_dim, padding_idx=\u001b[34m0\u001b[39;49;00m)\n",
      "        \u001b[36mself\u001b[39;49;00m.lstm = nn.LSTM(embedding_dim, hidden_dim)\n",
      "        \u001b[36mself\u001b[39;49;00m.dense = nn.Linear(in_features=hidden_dim, out_features=\u001b[34m1\u001b[39;49;00m)\n",
      "        \u001b[36mself\u001b[39;49;00m.sig = nn.Sigmoid()\n",
      "        \n",
      "        \u001b[36mself\u001b[39;49;00m.word_dict = \u001b[34mNone\u001b[39;49;00m\n",
      "\n",
      "    \u001b[34mdef\u001b[39;49;00m \u001b[32mforward\u001b[39;49;00m(\u001b[36mself\u001b[39;49;00m, x):\n",
      "        \u001b[33m\"\"\"\u001b[39;49;00m\n",
      "\u001b[33m        Perform a forward pass of our model on some input.\u001b[39;49;00m\n",
      "\u001b[33m        \"\"\"\u001b[39;49;00m\n",
      "        x = x.t()\n",
      "        lengths = x[\u001b[34m0\u001b[39;49;00m,:]\n",
      "        reviews = x[\u001b[34m1\u001b[39;49;00m:,:]\n",
      "        embeds = \u001b[36mself\u001b[39;49;00m.embedding(reviews)\n",
      "        lstm_out, _ = \u001b[36mself\u001b[39;49;00m.lstm(embeds)\n",
      "        out = \u001b[36mself\u001b[39;49;00m.dense(lstm_out)\n",
      "        out = out[lengths - \u001b[34m1\u001b[39;49;00m, \u001b[36mrange\u001b[39;49;00m(\u001b[36mlen\u001b[39;49;00m(lengths))]\n",
      "        \u001b[34mreturn\u001b[39;49;00m \u001b[36mself\u001b[39;49;00m.sig(out.squeeze())\n"
     ]
    }
   ],
   "source": [
    "!pygmentize train/model.py"
   ]
  },
  {
   "cell_type": "markdown",
   "metadata": {},
   "source": [
    "The important takeaway from the implementation provided is that there are three parameters that we may wish to tweak to improve the performance of our model. These are the embedding dimension, the hidden dimension and the size of the vocabulary. We will likely want to make these parameters configurable in the training script so that if we wish to modify them we do not need to modify the script itself. We will see how to do this later on. To start we will write some of the training code in the notebook so that we can more easily diagnose any issues that arise.\n",
    "\n",
    "First we will load a small portion of the training data set to use as a sample. It would be very time consuming to try and train the model completely in the notebook as we do not have access to a gpu and the compute instance that we are using is not particularly powerful. However, we can work on a small bit of the data to get a feel for how our training script is behaving."
   ]
  },
  {
   "cell_type": "code",
   "execution_count": 37,
   "metadata": {},
   "outputs": [],
   "source": [
    "import torch\n",
    "import torch.utils.data\n",
    "\n",
    "# Read in only the first 250 rows\n",
    "train_sample = pd.read_csv(os.path.join(data_dir, 'train.csv'), header=None, names=None, nrows=250)\n",
    "\n",
    "# Turn the input pandas dataframe into tensors\n",
    "train_sample_y = torch.from_numpy(train_sample[[0]].values).float().squeeze()\n",
    "# train_sample_y = torch.from_numpy(train_sample[0].values).float()\n",
    "train_sample_X = torch.from_numpy(train_sample.drop([0], axis=1).values).long()\n",
    "# train_sample_X = torch.from_numpy(train_sample.iloc[:,1:].values)\n",
    "\n",
    "# Build the dataset\n",
    "train_sample_ds = torch.utils.data.TensorDataset(train_sample_X, train_sample_y)\n",
    "# Build the dataloader\n",
    "train_sample_dl = torch.utils.data.DataLoader(train_sample_ds, batch_size=50)"
   ]
  },
  {
   "cell_type": "markdown",
   "metadata": {},
   "source": [
    "### (TODO) Writing the training method\n",
    "\n",
    "Next we need to write the training code itself. This should be very similar to training methods that you have written before to train PyTorch models. We will leave any difficult aspects such as model saving / loading and parameter loading until a little later."
   ]
  },
  {
   "cell_type": "code",
   "execution_count": 38,
   "metadata": {},
   "outputs": [
    {
     "name": "stdout",
     "output_type": "stream",
     "text": [
      "tensor([[ 107,  543,  228,  ...,    0,    0,    0],\n",
      "        [ 161, 1436, 1344,  ...,    0,    0,    0],\n",
      "        [ 159,  189,  457,  ...,    0,    0,    0],\n",
      "        ...,\n",
      "        [ 132,    1,    1,  ...,    0,    0,    0],\n",
      "        [ 206,  135,    2,  ...,    0,    0,    0],\n",
      "        [ 118,  373,  680,  ...,    0,    0,    0]])\n",
      "tensor([1., 0., 1., 1., 0., 0., 1., 0., 1., 1., 1., 1., 0., 0., 1., 0., 0., 0.,\n",
      "        1., 1., 0., 1., 1., 0., 1., 0., 0., 0., 0., 1., 0., 1., 1., 0., 0., 1.,\n",
      "        0., 1., 1., 1., 1., 1., 1., 0., 0., 1., 0., 1., 1., 0.])\n"
     ]
    }
   ],
   "source": [
    "for batch in train_sample_dl:\n",
    "    batch_X, batch_y = batch\n",
    "    print(batch_X)\n",
    "    print(batch_y)\n",
    "    break"
   ]
  },
  {
   "cell_type": "code",
   "execution_count": 39,
   "metadata": {},
   "outputs": [],
   "source": [
    "def train(model, train_loader, epochs, optimizer, loss_fn, device):\n",
    "    for epoch in range(1, epochs + 1):\n",
    "        model.train()\n",
    "        total_loss = 0\n",
    "        for batch in train_loader:         \n",
    "            batch_X, batch_y = batch # sentence and label\n",
    "            \n",
    "            batch_X = batch_X.to(device)\n",
    "            batch_y = batch_y.to(device)\n",
    "            \n",
    "            # TODO: Complete this train method to train the model provided.\n",
    "            optimizer.zero_grad()\n",
    "            output = model.forward(batch_X)\n",
    "            loss = loss_fn(output, batch_y)\n",
    "            loss.backward()\n",
    "            optimizer.step()\n",
    "            \n",
    "            total_loss += loss.data.item()\n",
    "        print(\"Epoch: {}, BCELoss: {}\".format(epoch, total_loss / len(train_loader)))"
   ]
  },
  {
   "cell_type": "markdown",
   "metadata": {},
   "source": [
    "Supposing we have the training method above, we will test that it is working by writing a bit of code in the notebook that executes our training method on the small sample training set that we loaded earlier. The reason for doing this in the notebook is so that we have an opportunity to fix any errors that arise early when they are easier to diagnose."
   ]
  },
  {
   "cell_type": "code",
   "execution_count": 40,
   "metadata": {},
   "outputs": [
    {
     "name": "stdout",
     "output_type": "stream",
     "text": [
      "Compute instance is cpu.\n",
      "\n",
      "Epoch: 1, BCELoss: 0.6973270177841187\n",
      "Epoch: 2, BCELoss: 0.688555634021759\n",
      "Epoch: 3, BCELoss: 0.6815369129180908\n",
      "Epoch: 4, BCELoss: 0.6740858793258667\n",
      "Epoch: 5, BCELoss: 0.6653188586235046\n"
     ]
    }
   ],
   "source": [
    "import torch.optim as optim\n",
    "from train.model import LSTMClassifier\n",
    "\n",
    "device = torch.device(\"cuda\" if torch.cuda.is_available() else \"cpu\")\n",
    "print(f'Compute instance is {device}.\\n')\n",
    "model = LSTMClassifier(embedding_dim=32, hidden_dim=100, vocab_size=5000).to(device)\n",
    "optimizer = optim.Adam(model.parameters())\n",
    "loss_fn = torch.nn.BCELoss()\n",
    "\n",
    "train(model, train_loader=train_sample_dl, epochs=5, optimizer=optimizer, loss_fn=loss_fn, device=device)"
   ]
  },
  {
   "cell_type": "markdown",
   "metadata": {},
   "source": [
    "In order to construct a PyTorch model using SageMaker we must provide SageMaker with a training script. We may optionally include a directory which will be copied to the container and from which our training code will be run. When the training container is executed it will check the uploaded directory (if there is one) for a `requirements.txt` file and install any required Python libraries, after which the training script will be run."
   ]
  },
  {
   "cell_type": "markdown",
   "metadata": {},
   "source": [
    "### (TODO) Training the model\n",
    "\n",
    "When a PyTorch model is constructed in SageMaker, an entry point must be specified. This is the Python file which will be executed when the model is trained. Inside of the `train` directory is a file called `train.py` which has been provided and which contains most of the necessary code to train our model. The only thing that is missing is the implementation of the `train()` method which you wrote earlier in this notebook.\n",
    "\n",
    "**TODO**: Copy the `train()` method written above and paste it into the `train/train.py` file where required.\n",
    "\n",
    "The way that SageMaker passes hyperparameters to the training script is by way of arguments. These arguments can then be parsed and used in the training script. To see how this is done take a look at the provided `train/train.py` file."
   ]
  },
  {
   "cell_type": "code",
   "execution_count": 41,
   "metadata": {},
   "outputs": [],
   "source": [
    "from sagemaker.pytorch import PyTorch\n",
    "\n",
    "estimator = PyTorch(entry_point=\"train.py\",\n",
    "                    source_dir=\"train\",\n",
    "                    role=role,\n",
    "                    framework_version='0.4.0',\n",
    "                    train_instance_count=1,\n",
    "                    train_instance_type='ml.p2.xlarge',\n",
    "                    hyperparameters={\n",
    "                        'epochs': 10,\n",
    "                        'hidden_dim': 200,\n",
    "                    })"
   ]
  },
  {
   "cell_type": "code",
   "execution_count": 42,
   "metadata": {},
   "outputs": [
    {
     "name": "stderr",
     "output_type": "stream",
     "text": [
      "'create_image_uri' will be deprecated in favor of 'ImageURIProvider' class in SageMaker Python SDK v2.\n",
      "'s3_input' class will be renamed to 'TrainingInput' in SageMaker Python SDK v2.\n",
      "'create_image_uri' will be deprecated in favor of 'ImageURIProvider' class in SageMaker Python SDK v2.\n"
     ]
    },
    {
     "name": "stdout",
     "output_type": "stream",
     "text": [
      "2021-06-12 09:46:00 Starting - Starting the training job...\n",
      "2021-06-12 09:46:02 Starting - Launching requested ML instances......\n",
      "2021-06-12 09:47:04 Starting - Preparing the instances for training.........\n",
      "2021-06-12 09:48:40 Downloading - Downloading input data...\n",
      "2021-06-12 09:49:19 Training - Downloading the training image...\n",
      "2021-06-12 09:49:47 Training - Training image download completed. Training in progress.\u001b[34mbash: cannot set terminal process group (-1): Inappropriate ioctl for device\u001b[0m\n",
      "\u001b[34mbash: no job control in this shell\u001b[0m\n",
      "\u001b[34m2021-06-12 09:49:48,462 sagemaker-containers INFO     Imported framework sagemaker_pytorch_container.training\u001b[0m\n",
      "\u001b[34m2021-06-12 09:49:48,486 sagemaker_pytorch_container.training INFO     Block until all host DNS lookups succeed.\u001b[0m\n",
      "\u001b[34m2021-06-12 09:49:51,505 sagemaker_pytorch_container.training INFO     Invoking user training script.\u001b[0m\n",
      "\u001b[34m2021-06-12 09:49:51,740 sagemaker-containers INFO     Module train does not provide a setup.py. \u001b[0m\n",
      "\u001b[34mGenerating setup.py\u001b[0m\n",
      "\u001b[34m2021-06-12 09:49:51,740 sagemaker-containers INFO     Generating setup.cfg\u001b[0m\n",
      "\u001b[34m2021-06-12 09:49:51,741 sagemaker-containers INFO     Generating MANIFEST.in\u001b[0m\n",
      "\u001b[34m2021-06-12 09:49:51,741 sagemaker-containers INFO     Installing module with the following command:\u001b[0m\n",
      "\u001b[34m/usr/bin/python -m pip install -U . -r requirements.txt\u001b[0m\n",
      "\u001b[34mProcessing /opt/ml/code\u001b[0m\n",
      "\u001b[34mCollecting pandas (from -r requirements.txt (line 1))\u001b[0m\n",
      "\u001b[34m  Downloading https://files.pythonhosted.org/packages/74/24/0cdbf8907e1e3bc5a8da03345c23cbed7044330bb8f73bb12e711a640a00/pandas-0.24.2-cp35-cp35m-manylinux1_x86_64.whl (10.0MB)\u001b[0m\n",
      "\u001b[34mCollecting numpy (from -r requirements.txt (line 2))\u001b[0m\n",
      "\u001b[34m  Downloading https://files.pythonhosted.org/packages/b5/36/88723426b4ff576809fec7d73594fe17a35c27f8d01f93637637a29ae25b/numpy-1.18.5-cp35-cp35m-manylinux1_x86_64.whl (19.9MB)\u001b[0m\n",
      "\u001b[34mCollecting nltk (from -r requirements.txt (line 3))\n",
      "  Downloading https://files.pythonhosted.org/packages/5e/37/9532ddd4b1bbb619333d5708aaad9bf1742f051a664c3c6fa6632a105fd8/nltk-3.6.2-py3-none-any.whl (1.5MB)\u001b[0m\n",
      "\u001b[34mCollecting beautifulsoup4 (from -r requirements.txt (line 4))\n",
      "  Downloading https://files.pythonhosted.org/packages/d1/41/e6495bd7d3781cee623ce23ea6ac73282a373088fcd0ddc809a047b18eae/beautifulsoup4-4.9.3-py3-none-any.whl (115kB)\u001b[0m\n",
      "\u001b[34mCollecting html5lib (from -r requirements.txt (line 5))\n",
      "  Downloading https://files.pythonhosted.org/packages/6c/dd/a834df6482147d48e225a49515aabc28974ad5a4ca3215c18a882565b028/html5lib-1.1-py2.py3-none-any.whl (112kB)\u001b[0m\n",
      "\u001b[34mRequirement already satisfied, skipping upgrade: python-dateutil>=2.5.0 in /usr/local/lib/python3.5/dist-packages (from pandas->-r requirements.txt (line 1)) (2.7.5)\u001b[0m\n",
      "\u001b[34mCollecting pytz>=2011k (from pandas->-r requirements.txt (line 1))\n",
      "  Downloading https://files.pythonhosted.org/packages/70/94/784178ca5dd892a98f113cdd923372024dc04b8d40abe77ca76b5fb90ca6/pytz-2021.1-py2.py3-none-any.whl (510kB)\u001b[0m\n",
      "\u001b[34mCollecting tqdm (from nltk->-r requirements.txt (line 3))\n",
      "  Downloading https://files.pythonhosted.org/packages/42/d7/f357d98e9b50346bcb6095fe3ad205d8db3174eb5edb03edfe7c4099576d/tqdm-4.61.0-py2.py3-none-any.whl (75kB)\u001b[0m\n",
      "\u001b[34mRequirement already satisfied, skipping upgrade: click in /usr/local/lib/python3.5/dist-packages (from nltk->-r requirements.txt (line 3)) (7.0)\u001b[0m\n",
      "\u001b[34mCollecting regex (from nltk->-r requirements.txt (line 3))\u001b[0m\n",
      "\u001b[34m  Downloading https://files.pythonhosted.org/packages/38/3f/4c42a98c9ad7d08c16e7d23b2194a0e4f3b2914662da8bc88986e4e6de1f/regex-2021.4.4.tar.gz (693kB)\u001b[0m\n",
      "\u001b[34mCollecting joblib (from nltk->-r requirements.txt (line 3))\n",
      "  Downloading https://files.pythonhosted.org/packages/28/5c/cf6a2b65a321c4a209efcdf64c2689efae2cb62661f8f6f4bb28547cf1bf/joblib-0.14.1-py2.py3-none-any.whl (294kB)\u001b[0m\n",
      "\u001b[34mCollecting soupsieve>1.2; python_version >= \"3.0\" (from beautifulsoup4->-r requirements.txt (line 4))\n",
      "  Downloading https://files.pythonhosted.org/packages/02/fb/1c65691a9aeb7bd6ac2aa505b84cb8b49ac29c976411c6ab3659425e045f/soupsieve-2.1-py3-none-any.whl\u001b[0m\n",
      "\u001b[34mRequirement already satisfied, skipping upgrade: six>=1.9 in /usr/local/lib/python3.5/dist-packages (from html5lib->-r requirements.txt (line 5)) (1.11.0)\u001b[0m\n",
      "\u001b[34mCollecting webencodings (from html5lib->-r requirements.txt (line 5))\n",
      "  Downloading https://files.pythonhosted.org/packages/f4/24/2a3e3df732393fed8b3ebf2ec078f05546de641fe1b667ee316ec1dcf3b7/webencodings-0.5.1-py2.py3-none-any.whl\u001b[0m\n",
      "\u001b[34mBuilding wheels for collected packages: train, regex\n",
      "  Running setup.py bdist_wheel for train: started\n",
      "  Running setup.py bdist_wheel for train: finished with status 'done'\n",
      "  Stored in directory: /tmp/pip-ephem-wheel-cache-5nn6elvi/wheels/35/24/16/37574d11bf9bde50616c67372a334f94fa8356bc7164af8ca3\n",
      "  Running setup.py bdist_wheel for regex: started\u001b[0m\n",
      "\u001b[34m  Running setup.py bdist_wheel for regex: finished with status 'done'\n",
      "  Stored in directory: /root/.cache/pip/wheels/c9/05/a8/b85fa0bd7850b99f9b4f106972975f2e3c46412e12f9949b58\u001b[0m\n",
      "\u001b[34mSuccessfully built train regex\u001b[0m\n",
      "\u001b[34mInstalling collected packages: numpy, pytz, pandas, tqdm, regex, joblib, nltk, soupsieve, beautifulsoup4, webencodings, html5lib, train\n",
      "  Found existing installation: numpy 1.15.4\n",
      "    Uninstalling numpy-1.15.4:\u001b[0m\n",
      "\u001b[34m      Successfully uninstalled numpy-1.15.4\u001b[0m\n",
      "\u001b[34mSuccessfully installed beautifulsoup4-4.9.3 html5lib-1.1 joblib-0.14.1 nltk-3.6.2 numpy-1.18.5 pandas-0.24.2 pytz-2021.1 regex-2021.4.4 soupsieve-2.1 tqdm-4.61.0 train-1.0.0 webencodings-0.5.1\u001b[0m\n",
      "\u001b[34mYou are using pip version 18.1, however version 20.3.4 is available.\u001b[0m\n",
      "\u001b[34mYou should consider upgrading via the 'pip install --upgrade pip' command.\u001b[0m\n",
      "\u001b[34m2021-06-12 09:50:14,463 sagemaker-containers INFO     Invoking user script\n",
      "\u001b[0m\n",
      "\u001b[34mTraining Env:\n",
      "\u001b[0m\n",
      "\u001b[34m{\n",
      "    \"model_dir\": \"/opt/ml/model\",\n",
      "    \"module_name\": \"train\",\n",
      "    \"num_cpus\": 4,\n",
      "    \"input_data_config\": {\n",
      "        \"training\": {\n",
      "            \"TrainingInputMode\": \"File\",\n",
      "            \"RecordWrapperType\": \"None\",\n",
      "            \"S3DistributionType\": \"FullyReplicated\"\n",
      "        }\n",
      "    },\n",
      "    \"num_gpus\": 1,\n",
      "    \"log_level\": 20,\n",
      "    \"hosts\": [\n",
      "        \"algo-1\"\n",
      "    ],\n",
      "    \"input_dir\": \"/opt/ml/input\",\n",
      "    \"resource_config\": {\n",
      "        \"current_host\": \"algo-1\",\n",
      "        \"network_interface_name\": \"eth0\",\n",
      "        \"hosts\": [\n",
      "            \"algo-1\"\n",
      "        ]\n",
      "    },\n",
      "    \"input_config_dir\": \"/opt/ml/input/config\",\n",
      "    \"current_host\": \"algo-1\",\n",
      "    \"hyperparameters\": {\n",
      "        \"epochs\": 10,\n",
      "        \"hidden_dim\": 200\n",
      "    },\n",
      "    \"output_intermediate_dir\": \"/opt/ml/output/intermediate\",\n",
      "    \"framework_module\": \"sagemaker_pytorch_container.training:main\",\n",
      "    \"output_data_dir\": \"/opt/ml/output/data\",\n",
      "    \"user_entry_point\": \"train.py\",\n",
      "    \"output_dir\": \"/opt/ml/output\",\n",
      "    \"network_interface_name\": \"eth0\",\n",
      "    \"channel_input_dirs\": {\n",
      "        \"training\": \"/opt/ml/input/data/training\"\n",
      "    },\n",
      "    \"additional_framework_parameters\": {},\n",
      "    \"job_name\": \"sagemaker-pytorch-2021-06-12-09-45-59-884\",\n",
      "    \"module_dir\": \"s3://sagemaker-us-east-2-653897777597/sagemaker-pytorch-2021-06-12-09-45-59-884/source/sourcedir.tar.gz\"\u001b[0m\n",
      "\u001b[34m}\n",
      "\u001b[0m\n",
      "\u001b[34mEnvironment variables:\n",
      "\u001b[0m\n",
      "\u001b[34mSM_CHANNEL_TRAINING=/opt/ml/input/data/training\u001b[0m\n",
      "\u001b[34mSM_MODULE_NAME=train\u001b[0m\n",
      "\u001b[34mSM_OUTPUT_DIR=/opt/ml/output\u001b[0m\n",
      "\u001b[34mPYTHONPATH=/usr/local/bin:/usr/lib/python35.zip:/usr/lib/python3.5:/usr/lib/python3.5/plat-x86_64-linux-gnu:/usr/lib/python3.5/lib-dynload:/usr/local/lib/python3.5/dist-packages:/usr/lib/python3/dist-packages\u001b[0m\n",
      "\u001b[34mSM_INPUT_DIR=/opt/ml/input\u001b[0m\n",
      "\u001b[34mSM_HP_HIDDEN_DIM=200\u001b[0m\n",
      "\u001b[34mSM_OUTPUT_DATA_DIR=/opt/ml/output/data\u001b[0m\n",
      "\u001b[34mSM_NUM_CPUS=4\u001b[0m\n",
      "\u001b[34mSM_HPS={\"epochs\":10,\"hidden_dim\":200}\u001b[0m\n",
      "\u001b[34mSM_NUM_GPUS=1\u001b[0m\n",
      "\u001b[34mSM_USER_ARGS=[\"--epochs\",\"10\",\"--hidden_dim\",\"200\"]\u001b[0m\n",
      "\u001b[34mSM_MODEL_DIR=/opt/ml/model\u001b[0m\n",
      "\u001b[34mSM_OUTPUT_INTERMEDIATE_DIR=/opt/ml/output/intermediate\u001b[0m\n",
      "\u001b[34mSM_FRAMEWORK_MODULE=sagemaker_pytorch_container.training:main\u001b[0m\n",
      "\u001b[34mSM_CHANNELS=[\"training\"]\u001b[0m\n",
      "\u001b[34mSM_LOG_LEVEL=20\u001b[0m\n",
      "\u001b[34mSM_INPUT_CONFIG_DIR=/opt/ml/input/config\u001b[0m\n",
      "\u001b[34mSM_CURRENT_HOST=algo-1\u001b[0m\n",
      "\u001b[34mSM_FRAMEWORK_PARAMS={}\u001b[0m\n",
      "\u001b[34mSM_HP_EPOCHS=10\u001b[0m\n",
      "\u001b[34mSM_NETWORK_INTERFACE_NAME=eth0\u001b[0m\n",
      "\u001b[34mSM_MODULE_DIR=s3://sagemaker-us-east-2-653897777597/sagemaker-pytorch-2021-06-12-09-45-59-884/source/sourcedir.tar.gz\u001b[0m\n",
      "\u001b[34mSM_RESOURCE_CONFIG={\"current_host\":\"algo-1\",\"hosts\":[\"algo-1\"],\"network_interface_name\":\"eth0\"}\u001b[0m\n",
      "\u001b[34mSM_TRAINING_ENV={\"additional_framework_parameters\":{},\"channel_input_dirs\":{\"training\":\"/opt/ml/input/data/training\"},\"current_host\":\"algo-1\",\"framework_module\":\"sagemaker_pytorch_container.training:main\",\"hosts\":[\"algo-1\"],\"hyperparameters\":{\"epochs\":10,\"hidden_dim\":200},\"input_config_dir\":\"/opt/ml/input/config\",\"input_data_config\":{\"training\":{\"RecordWrapperType\":\"None\",\"S3DistributionType\":\"FullyReplicated\",\"TrainingInputMode\":\"File\"}},\"input_dir\":\"/opt/ml/input\",\"job_name\":\"sagemaker-pytorch-2021-06-12-09-45-59-884\",\"log_level\":20,\"model_dir\":\"/opt/ml/model\",\"module_dir\":\"s3://sagemaker-us-east-2-653897777597/sagemaker-pytorch-2021-06-12-09-45-59-884/source/sourcedir.tar.gz\",\"module_name\":\"train\",\"network_interface_name\":\"eth0\",\"num_cpus\":4,\"num_gpus\":1,\"output_data_dir\":\"/opt/ml/output/data\",\"output_dir\":\"/opt/ml/output\",\"output_intermediate_dir\":\"/opt/ml/output/intermediate\",\"resource_config\":{\"current_host\":\"algo-1\",\"hosts\":[\"algo-1\"],\"network_interface_name\":\"eth0\"},\"user_entry_point\":\"train.py\"}\u001b[0m\n",
      "\u001b[34mSM_INPUT_DATA_CONFIG={\"training\":{\"RecordWrapperType\":\"None\",\"S3DistributionType\":\"FullyReplicated\",\"TrainingInputMode\":\"File\"}}\u001b[0m\n",
      "\u001b[34mSM_HOSTS=[\"algo-1\"]\u001b[0m\n",
      "\u001b[34mSM_USER_ENTRY_POINT=train.py\n",
      "\u001b[0m\n",
      "\u001b[34mInvoking script with the following command:\n",
      "\u001b[0m\n",
      "\u001b[34m/usr/bin/python -m train --epochs 10 --hidden_dim 200\n",
      "\n",
      "\u001b[0m\n",
      "\u001b[34mUsing device cuda.\u001b[0m\n",
      "\u001b[34mGet train data loader.\u001b[0m\n",
      "\u001b[34mModel loaded with embedding_dim 32, hidden_dim 200, vocab_size 5000.\u001b[0m\n",
      "\u001b[34mEpoch: 1, BCELoss: 0.6725942492485046\u001b[0m\n",
      "\u001b[34mEpoch: 2, BCELoss: 0.6340923163355613\u001b[0m\n",
      "\u001b[34mEpoch: 3, BCELoss: 0.5432709717020696\u001b[0m\n",
      "\u001b[34mEpoch: 4, BCELoss: 0.48537069133349825\u001b[0m\n",
      "\u001b[34mEpoch: 5, BCELoss: 0.4111029688192874\u001b[0m\n",
      "\u001b[34mEpoch: 6, BCELoss: 0.37704681194558437\u001b[0m\n",
      "\u001b[34mEpoch: 7, BCELoss: 0.36155906806186755\u001b[0m\n",
      "\u001b[34mEpoch: 8, BCELoss: 0.3249689504808309\u001b[0m\n",
      "\u001b[34mEpoch: 9, BCELoss: 0.3004292699755455\u001b[0m\n",
      "\u001b[34mEpoch: 10, BCELoss: 0.27675810882023405\u001b[0m\n",
      "\u001b[34m2021-06-12 09:53:40,602 sagemaker-containers INFO     Reporting training SUCCESS\u001b[0m\n",
      "\n",
      "2021-06-12 09:53:49 Uploading - Uploading generated training model\n",
      "2021-06-12 09:53:49 Completed - Training job completed\n",
      "Training seconds: 309\n",
      "Billable seconds: 309\n"
     ]
    }
   ],
   "source": [
    "estimator.fit({'training': input_data})"
   ]
  },
  {
   "cell_type": "markdown",
   "metadata": {},
   "source": [
    "## Step 5: Testing the model\n",
    "\n",
    "As mentioned at the top of this notebook, we will be testing this model by first deploying it and then sending the testing data to the deployed endpoint. We will do this so that we can make sure that the deployed model is working correctly.\n",
    "\n",
    "## Step 6: Deploy the model for testing\n",
    "\n",
    "Now that we have trained our model, we would like to test it to see how it performs. Currently our model takes input of the form `review_length, review[500]` where `review[500]` is a sequence of `500` integers which describe the words present in the review, encoded using `word_dict`. Fortunately for us, SageMaker provides built-in inference code for models with simple inputs such as this.\n",
    "\n",
    "There is one thing that we need to provide, however, and that is a function which loads the saved model. This function must be called `model_fn()` and takes as its only parameter a path to the directory where the model artifacts are stored. This function must also be present in the python file which we specified as the entry point. In our case the model loading function has been provided and so no changes need to be made.\n",
    "\n",
    "**NOTE**: When the built-in inference code is run it must import the `model_fn()` method from the `train.py` file. This is why the training code is wrapped in a main guard ( ie, `if __name__ == '__main__':` )\n",
    "\n",
    "Since we don't need to change anything in the code that was uploaded during training, we can simply deploy the current model as-is.\n",
    "\n",
    "**NOTE:** When deploying a model you are asking SageMaker to launch an compute instance that will wait for data to be sent to it. As a result, this compute instance will continue to run until *you* shut it down. This is important to know since the cost of a deployed endpoint depends on how long it has been running for.\n",
    "\n",
    "In other words **If you are no longer using a deployed endpoint, shut it down!**\n",
    "\n",
    "**TODO:** Deploy the trained model."
   ]
  },
  {
   "cell_type": "code",
   "execution_count": 43,
   "metadata": {},
   "outputs": [
    {
     "name": "stderr",
     "output_type": "stream",
     "text": [
      "Parameter image will be renamed to image_uri in SageMaker Python SDK v2.\n",
      "'create_image_uri' will be deprecated in favor of 'ImageURIProvider' class in SageMaker Python SDK v2.\n"
     ]
    },
    {
     "name": "stdout",
     "output_type": "stream",
     "text": [
      "---------------!"
     ]
    }
   ],
   "source": [
    "# TODO: Deploy the trained model\n",
    "predictor = estimator.deploy(initial_instance_count=1, instance_type='ml.m4.xlarge')"
   ]
  },
  {
   "cell_type": "markdown",
   "metadata": {},
   "source": [
    "## Step 7 - Use the model for testing\n",
    "\n",
    "Once deployed, we can read in the test data and send it off to our deployed model to get some results. Once we collect all of the results we can determine how accurate our model is."
   ]
  },
  {
   "cell_type": "code",
   "execution_count": 44,
   "metadata": {},
   "outputs": [],
   "source": [
    "test_X = pd.concat([pd.DataFrame(test_X_len), pd.DataFrame(test_X)], axis=1)"
   ]
  },
  {
   "cell_type": "code",
   "execution_count": 45,
   "metadata": {},
   "outputs": [],
   "source": [
    "# We split the data into chunks and send each chunk seperately, accumulating the results.\n",
    "\n",
    "def predict(data, rows=512):\n",
    "    split_array = np.array_split(data, int(data.shape[0] / float(rows) + 1))\n",
    "    predictions = np.array([])\n",
    "    for array in split_array:\n",
    "        predictions = np.append(predictions, predictor.predict(array))\n",
    "    \n",
    "    return predictions"
   ]
  },
  {
   "cell_type": "code",
   "execution_count": 46,
   "metadata": {},
   "outputs": [],
   "source": [
    "predictions = predict(test_X.values)\n",
    "predictions = [round(num) for num in predictions]"
   ]
  },
  {
   "cell_type": "code",
   "execution_count": 47,
   "metadata": {},
   "outputs": [
    {
     "data": {
      "text/plain": [
       "0.85732"
      ]
     },
     "execution_count": 47,
     "metadata": {},
     "output_type": "execute_result"
    }
   ],
   "source": [
    "from sklearn.metrics import accuracy_score\n",
    "accuracy_score(test_y, predictions)"
   ]
  },
  {
   "cell_type": "markdown",
   "metadata": {},
   "source": [
    "**Question:** How does this model compare to the XGBoost model you created earlier? Why might these two models perform differently on this dataset? Which do *you* think is better for sentiment analysis?"
   ]
  },
  {
   "cell_type": "markdown",
   "metadata": {},
   "source": [
    "**Answer:** XGBoost did slightly better by a small margin."
   ]
  },
  {
   "cell_type": "markdown",
   "metadata": {},
   "source": [
    "### (TODO) More testing\n",
    "\n",
    "We now have a trained model which has been deployed and which we can send processed reviews to and which returns the predicted sentiment. However, ultimately we would like to be able to send our model an unprocessed review. That is, we would like to send the review itself as a string. For example, suppose we wish to send the following review to our model."
   ]
  },
  {
   "cell_type": "code",
   "execution_count": 48,
   "metadata": {},
   "outputs": [],
   "source": [
    "test_review = 'The simplest pleasures in life are the best, and this film is one of them. Combining a rather basic storyline of love and adventure this movie transcends the usual weekend fair with wit and unmitigated charm.'"
   ]
  },
  {
   "cell_type": "markdown",
   "metadata": {},
   "source": [
    "The question we now need to answer is, how do we send this review to our model?\n",
    "\n",
    "Recall in the first section of this notebook we did a bunch of data processing to the IMDb dataset. In particular, we did two specific things to the provided reviews.\n",
    " - Removed any html tags and stemmed the input\n",
    " - Encoded the review as a sequence of integers using `word_dict`\n",
    " \n",
    "In order process the review we will need to repeat these two steps.\n",
    "\n",
    "**TODO**: Using the `review_to_words` and `convert_and_pad` methods from section one, convert `test_review` into a numpy array `test_data` suitable to send to our model. Remember that our model expects input of the form `review_length, review[500]`."
   ]
  },
  {
   "cell_type": "code",
   "execution_count": 49,
   "metadata": {},
   "outputs": [],
   "source": [
    "# TODO: Convert test_review into a form usable by the model and save the results in test_data\n",
    "test_data = None\n",
    "review_to_words = review_to_words(test_review)\n",
    "test_data = [np.array(convert_and_pad(word_dict, review_to_words)[0])]"
   ]
  },
  {
   "cell_type": "markdown",
   "metadata": {},
   "source": [
    "Now that we have processed the review, we can send the resulting array to our model to predict the sentiment of the review."
   ]
  },
  {
   "cell_type": "code",
   "execution_count": 50,
   "metadata": {},
   "outputs": [
    {
     "data": {
      "text/plain": [
       "array(0.6374756, dtype=float32)"
      ]
     },
     "execution_count": 50,
     "metadata": {},
     "output_type": "execute_result"
    }
   ],
   "source": [
    "predictor.predict(test_data)"
   ]
  },
  {
   "cell_type": "markdown",
   "metadata": {},
   "source": [
    "Since the return value of our model is close to `1`, we can be certain that the review we submitted is positive."
   ]
  },
  {
   "cell_type": "markdown",
   "metadata": {},
   "source": [
    "### Delete the endpoint\n",
    "\n",
    "Of course, just like in the XGBoost notebook, once we've deployed an endpoint it continues to run until we tell it to shut down. Since we are done using our endpoint for now, we can delete it."
   ]
  },
  {
   "cell_type": "code",
   "execution_count": 51,
   "metadata": {},
   "outputs": [
    {
     "name": "stderr",
     "output_type": "stream",
     "text": [
      "estimator.delete_endpoint() will be deprecated in SageMaker Python SDK v2. Please use the delete_endpoint() function on your predictor instead.\n"
     ]
    }
   ],
   "source": [
    "estimator.delete_endpoint()"
   ]
  },
  {
   "cell_type": "markdown",
   "metadata": {},
   "source": [
    "## Step 6 (again) - Deploy the model for the web app\n",
    "\n",
    "Now that we know that our model is working, it's time to create some custom inference code so that we can send the model a review which has not been processed and have it determine the sentiment of the review.\n",
    "\n",
    "As we saw above, by default the estimator which we created, when deployed, will use the entry script and directory which we provided when creating the model. However, since we now wish to accept a string as input and our model expects a processed review, we need to write some custom inference code.\n",
    "\n",
    "We will store the code that we write in the `serve` directory. Provided in this directory is the `model.py` file that we used to construct our model, a `utils.py` file which contains the `review_to_words` and `convert_and_pad` pre-processing functions which we used during the initial data processing, and `predict.py`, the file which will contain our custom inference code. Note also that `requirements.txt` is present which will tell SageMaker what Python libraries are required by our custom inference code.\n",
    "\n",
    "When deploying a PyTorch model in SageMaker, you are expected to provide four functions which the SageMaker inference container will use.\n",
    " - `model_fn`: This function is the same function that we used in the training script and it tells SageMaker how to load our model.\n",
    " - `input_fn`: This function receives the raw serialized input that has been sent to the model's endpoint and its job is to de-serialize and make the input available for the inference code.\n",
    " - `output_fn`: This function takes the output of the inference code and its job is to serialize this output and return it to the caller of the model's endpoint.\n",
    " - `predict_fn`: The heart of the inference script, this is where the actual prediction is done and is the function which you will need to complete.\n",
    "\n",
    "For the simple website that we are constructing during this project, the `input_fn` and `output_fn` methods are relatively straightforward. We only require being able to accept a string as input and we expect to return a single value as output. You might imagine though that in a more complex application the input or output may be image data or some other binary data which would require some effort to serialize.\n",
    "\n",
    "### (TODO) Writing inference code\n",
    "\n",
    "Before writing our custom inference code, we will begin by taking a look at the code which has been provided."
   ]
  },
  {
   "cell_type": "code",
   "execution_count": 52,
   "metadata": {},
   "outputs": [
    {
     "name": "stdout",
     "output_type": "stream",
     "text": [
      "\u001b[37m#import argparse\u001b[39;49;00m\n",
      "\u001b[37m#import json\u001b[39;49;00m\n",
      "\u001b[34mimport\u001b[39;49;00m \u001b[04m\u001b[36mos\u001b[39;49;00m\n",
      "\u001b[34mimport\u001b[39;49;00m \u001b[04m\u001b[36mpickle\u001b[39;49;00m\n",
      "\u001b[37m#import sys\u001b[39;49;00m\n",
      "\u001b[37m#import sagemaker_containers\u001b[39;49;00m\n",
      "\u001b[34mimport\u001b[39;49;00m \u001b[04m\u001b[36mpandas\u001b[39;49;00m \u001b[34mas\u001b[39;49;00m \u001b[04m\u001b[36mpd\u001b[39;49;00m\n",
      "\u001b[34mimport\u001b[39;49;00m \u001b[04m\u001b[36mnumpy\u001b[39;49;00m \u001b[34mas\u001b[39;49;00m \u001b[04m\u001b[36mnp\u001b[39;49;00m\n",
      "\u001b[34mimport\u001b[39;49;00m \u001b[04m\u001b[36mtorch\u001b[39;49;00m\n",
      "\u001b[37m#import torch.nn as nn\u001b[39;49;00m\n",
      "\u001b[37m#import torch.optim as optim\u001b[39;49;00m\n",
      "\u001b[37m#import torch.utils.data\u001b[39;49;00m\n",
      "\n",
      "\u001b[34mfrom\u001b[39;49;00m \u001b[04m\u001b[36mmodel\u001b[39;49;00m \u001b[34mimport\u001b[39;49;00m LSTMClassifier\n",
      "\n",
      "\u001b[34mfrom\u001b[39;49;00m \u001b[04m\u001b[36mutils\u001b[39;49;00m \u001b[34mimport\u001b[39;49;00m review_to_words, convert_and_pad\n",
      "\n",
      "\u001b[34mdef\u001b[39;49;00m \u001b[32mmodel_fn\u001b[39;49;00m(model_dir):\n",
      "    \u001b[33m\"\"\"Load the PyTorch model from the `model_dir` directory.\"\"\"\u001b[39;49;00m\n",
      "    \u001b[36mprint\u001b[39;49;00m(\u001b[33m\"\u001b[39;49;00m\u001b[33mLoading model.\u001b[39;49;00m\u001b[33m\"\u001b[39;49;00m)\n",
      "\n",
      "    \u001b[37m# First, load the parameters used to create the model.\u001b[39;49;00m\n",
      "    model_info = {}\n",
      "    model_info_path = os.path.join(model_dir, \u001b[33m'\u001b[39;49;00m\u001b[33mmodel_info.pth\u001b[39;49;00m\u001b[33m'\u001b[39;49;00m)\n",
      "    \u001b[34mwith\u001b[39;49;00m \u001b[36mopen\u001b[39;49;00m(model_info_path, \u001b[33m'\u001b[39;49;00m\u001b[33mrb\u001b[39;49;00m\u001b[33m'\u001b[39;49;00m) \u001b[34mas\u001b[39;49;00m f:\n",
      "        model_info = torch.load(f)\n",
      "\n",
      "    \u001b[36mprint\u001b[39;49;00m(\u001b[33m\"\u001b[39;49;00m\u001b[33mmodel_info: \u001b[39;49;00m\u001b[33m{}\u001b[39;49;00m\u001b[33m\"\u001b[39;49;00m.format(model_info))\n",
      "\n",
      "    \u001b[37m# Determine the device and construct the model.\u001b[39;49;00m\n",
      "    device = torch.device(\u001b[33m\"\u001b[39;49;00m\u001b[33mcuda\u001b[39;49;00m\u001b[33m\"\u001b[39;49;00m \u001b[34mif\u001b[39;49;00m torch.cuda.is_available() \u001b[34melse\u001b[39;49;00m \u001b[33m\"\u001b[39;49;00m\u001b[33mcpu\u001b[39;49;00m\u001b[33m\"\u001b[39;49;00m)\n",
      "    model = LSTMClassifier(model_info[\u001b[33m'\u001b[39;49;00m\u001b[33membedding_dim\u001b[39;49;00m\u001b[33m'\u001b[39;49;00m], model_info[\u001b[33m'\u001b[39;49;00m\u001b[33mhidden_dim\u001b[39;49;00m\u001b[33m'\u001b[39;49;00m], model_info[\u001b[33m'\u001b[39;49;00m\u001b[33mvocab_size\u001b[39;49;00m\u001b[33m'\u001b[39;49;00m])\n",
      "\n",
      "    \u001b[37m# Load the store model parameters.\u001b[39;49;00m\n",
      "    model_path = os.path.join(model_dir, \u001b[33m'\u001b[39;49;00m\u001b[33mmodel.pth\u001b[39;49;00m\u001b[33m'\u001b[39;49;00m)\n",
      "    \u001b[34mwith\u001b[39;49;00m \u001b[36mopen\u001b[39;49;00m(model_path, \u001b[33m'\u001b[39;49;00m\u001b[33mrb\u001b[39;49;00m\u001b[33m'\u001b[39;49;00m) \u001b[34mas\u001b[39;49;00m f:\n",
      "        model.load_state_dict(torch.load(f))\n",
      "\n",
      "    \u001b[37m# Load the saved word_dict.\u001b[39;49;00m\n",
      "    word_dict_path = os.path.join(model_dir, \u001b[33m'\u001b[39;49;00m\u001b[33mword_dict.pkl\u001b[39;49;00m\u001b[33m'\u001b[39;49;00m)\n",
      "    \u001b[34mwith\u001b[39;49;00m \u001b[36mopen\u001b[39;49;00m(word_dict_path, \u001b[33m'\u001b[39;49;00m\u001b[33mrb\u001b[39;49;00m\u001b[33m'\u001b[39;49;00m) \u001b[34mas\u001b[39;49;00m f:\n",
      "        model.word_dict = pickle.load(f)\n",
      "\n",
      "    model.to(device).eval()\n",
      "\n",
      "    \u001b[36mprint\u001b[39;49;00m(\u001b[33m\"\u001b[39;49;00m\u001b[33mDone loading model.\u001b[39;49;00m\u001b[33m\"\u001b[39;49;00m)\n",
      "    \u001b[34mreturn\u001b[39;49;00m model\n",
      "\n",
      "\u001b[34mdef\u001b[39;49;00m \u001b[32minput_fn\u001b[39;49;00m(serialized_input_data, content_type):\n",
      "    \u001b[36mprint\u001b[39;49;00m(\u001b[33m'\u001b[39;49;00m\u001b[33mDeserializing the input data.\u001b[39;49;00m\u001b[33m'\u001b[39;49;00m)\n",
      "    \u001b[34mif\u001b[39;49;00m content_type == \u001b[33m'\u001b[39;49;00m\u001b[33mtext/plain\u001b[39;49;00m\u001b[33m'\u001b[39;49;00m:\n",
      "        data = serialized_input_data.decode(\u001b[33m'\u001b[39;49;00m\u001b[33mutf-8\u001b[39;49;00m\u001b[33m'\u001b[39;49;00m)\n",
      "        \u001b[34mreturn\u001b[39;49;00m data\n",
      "    \u001b[34mraise\u001b[39;49;00m \u001b[36mException\u001b[39;49;00m(\u001b[33m'\u001b[39;49;00m\u001b[33mRequested unsupported ContentType in content_type: \u001b[39;49;00m\u001b[33m'\u001b[39;49;00m + content_type)\n",
      "\n",
      "\u001b[34mdef\u001b[39;49;00m \u001b[32moutput_fn\u001b[39;49;00m(prediction_output, accept):\n",
      "    \u001b[36mprint\u001b[39;49;00m(\u001b[33m'\u001b[39;49;00m\u001b[33mSerializing the generated output.\u001b[39;49;00m\u001b[33m'\u001b[39;49;00m)\n",
      "    \u001b[34mreturn\u001b[39;49;00m \u001b[36mstr\u001b[39;49;00m(prediction_output)\n",
      "\n",
      "\u001b[34mdef\u001b[39;49;00m \u001b[32mpredict_fn\u001b[39;49;00m(input_data, model):\n",
      "    \u001b[36mprint\u001b[39;49;00m(\u001b[33m'\u001b[39;49;00m\u001b[33mInferring sentiment of input data.\u001b[39;49;00m\u001b[33m'\u001b[39;49;00m)\n",
      "\n",
      "    device = torch.device(\u001b[33m\"\u001b[39;49;00m\u001b[33mcuda\u001b[39;49;00m\u001b[33m\"\u001b[39;49;00m \u001b[34mif\u001b[39;49;00m torch.cuda.is_available() \u001b[34melse\u001b[39;49;00m \u001b[33m\"\u001b[39;49;00m\u001b[33mcpu\u001b[39;49;00m\u001b[33m\"\u001b[39;49;00m)\n",
      "    \n",
      "    \u001b[34mif\u001b[39;49;00m model.word_dict \u001b[35mis\u001b[39;49;00m \u001b[34mNone\u001b[39;49;00m:\n",
      "        \u001b[34mraise\u001b[39;49;00m \u001b[36mException\u001b[39;49;00m(\u001b[33m'\u001b[39;49;00m\u001b[33mModel has not been loaded properly, no word_dict.\u001b[39;49;00m\u001b[33m'\u001b[39;49;00m)\n",
      "    \n",
      "    \u001b[37m# TODO: Process input_data so that it is ready to be sent to our model.\u001b[39;49;00m\n",
      "    \u001b[37m#       You should produce two variables:\u001b[39;49;00m\n",
      "    \u001b[37m#         data_X   - A sequence of length 500 which represents the converted review\u001b[39;49;00m\n",
      "    \u001b[37m#         data_len - The length of the review\u001b[39;49;00m\n",
      "    input_data = convert_and_pad(model.word_dict, review_to_words(input_data))\n",
      "\n",
      "    \u001b[36mprint\u001b[39;49;00m(input_data)\n",
      "    \n",
      "    data_X, data_len = input_data\n",
      "\n",
      "    \u001b[37m# Using data_X and data_len we construct an appropriate input tensor. Remember\u001b[39;49;00m\n",
      "    \u001b[37m# that our model expects input data of the form 'len, review[500]'.\u001b[39;49;00m\n",
      "    data_pack = np.hstack((data_len, data_X))\n",
      "    data_pack = data_pack.reshape(\u001b[34m1\u001b[39;49;00m, -\u001b[34m1\u001b[39;49;00m)\n",
      "    \n",
      "    data = torch.from_numpy(data_pack)\n",
      "    data = data.to(device)\n",
      "\n",
      "    \u001b[37m# Make sure to put the model into evaluation mode\u001b[39;49;00m\n",
      "    model.eval()\n",
      "\n",
      "    \u001b[37m# TODO: Compute the result of applying the model to the input data. The variable `result` should\u001b[39;49;00m\n",
      "    \u001b[37m#       be a numpy array which contains a single integer which is either 1 or 0\u001b[39;49;00m\n",
      "\n",
      "    \u001b[34mwith\u001b[39;49;00m torch.no_grad():\n",
      "        out = model.forward(data)\n",
      "\n",
      "    result = np.round(out.numpy())\n",
      "\n",
      "    \u001b[34mreturn\u001b[39;49;00m result\n"
     ]
    }
   ],
   "source": [
    "!pygmentize serve/predict.py"
   ]
  },
  {
   "cell_type": "markdown",
   "metadata": {},
   "source": [
    "As mentioned earlier, the `model_fn` method is the same as the one provided in the training code and the `input_fn` and `output_fn` methods are very simple and your task will be to complete the `predict_fn` method. Make sure that you save the completed file as `predict.py` in the `serve` directory.\n",
    "\n",
    "**TODO**: Complete the `predict_fn()` method in the `serve/predict.py` file."
   ]
  },
  {
   "cell_type": "markdown",
   "metadata": {},
   "source": [
    "### Deploying the model\n",
    "\n",
    "Now that the custom inference code has been written, we will create and deploy our model. To begin with, we need to construct a new PyTorchModel object which points to the model artifacts created during training and also points to the inference code that we wish to use. Then we can call the deploy method to launch the deployment container.\n",
    "\n",
    "**NOTE**: The default behaviour for a deployed PyTorch model is to assume that any input passed to the predictor is a `numpy` array. In our case we want to send a string so we need to construct a simple wrapper around the `RealTimePredictor` class to accomodate simple strings. In a more complicated situation you may want to provide a serialization object, for example if you wanted to sent image data."
   ]
  },
  {
   "cell_type": "code",
   "execution_count": 53,
   "metadata": {},
   "outputs": [
    {
     "name": "stderr",
     "output_type": "stream",
     "text": [
      "Parameter image will be renamed to image_uri in SageMaker Python SDK v2.\n",
      "'create_image_uri' will be deprecated in favor of 'ImageURIProvider' class in SageMaker Python SDK v2.\n"
     ]
    },
    {
     "name": "stdout",
     "output_type": "stream",
     "text": [
      "---------------!"
     ]
    }
   ],
   "source": [
    "from sagemaker.predictor import RealTimePredictor\n",
    "from sagemaker.pytorch import PyTorchModel\n",
    "\n",
    "class StringPredictor(RealTimePredictor):\n",
    "    def __init__(self, endpoint_name, sagemaker_session):\n",
    "        super(StringPredictor, self).__init__(endpoint_name, sagemaker_session, content_type='text/plain')\n",
    "\n",
    "model = PyTorchModel(model_data=estimator.model_data,\n",
    "                     role = role,\n",
    "                     framework_version='0.4.0',\n",
    "                     entry_point='predict.py',\n",
    "                     source_dir='serve',\n",
    "                     predictor_cls=StringPredictor)\n",
    "predictor = model.deploy(initial_instance_count=1, instance_type='ml.m4.xlarge')"
   ]
  },
  {
   "cell_type": "markdown",
   "metadata": {},
   "source": [
    "### Testing the model\n",
    "\n",
    "Now that we have deployed our model with the custom inference code, we should test to see if everything is working. Here we test our model by loading the first `250` positive and negative reviews and send them to the endpoint, then collect the results. The reason for only sending some of the data is that the amount of time it takes for our model to process the input and then perform inference is quite long and so testing the entire data set would be prohibitive."
   ]
  },
  {
   "cell_type": "code",
   "execution_count": 54,
   "metadata": {},
   "outputs": [],
   "source": [
    "import glob\n",
    "\n",
    "def test_reviews(data_dir='../data/aclImdb', stop=250):\n",
    "    \n",
    "    results = []\n",
    "    ground = []\n",
    "    \n",
    "    # We make sure to test both positive and negative reviews    \n",
    "    for sentiment in ['pos', 'neg']:\n",
    "        \n",
    "        path = os.path.join(data_dir, 'test', sentiment, '*.txt')\n",
    "        files = glob.glob(path)\n",
    "        \n",
    "        files_read = 0\n",
    "        \n",
    "        print('Starting ', sentiment, ' files')\n",
    "        \n",
    "        # Iterate through the files and send them to the predictor\n",
    "        for f in files:\n",
    "            with open(f) as review:\n",
    "                # First, we store the ground truth (was the review positive or negative)\n",
    "                if sentiment == 'pos':\n",
    "                    ground.append(1)\n",
    "                else:\n",
    "                    ground.append(0)\n",
    "                # Read in the review and convert to 'utf-8' for transmission via HTTP\n",
    "                review_input = review.read().encode('utf-8')\n",
    "                # Send the review to the predictor and store the results\n",
    "                results.append(float(predictor.predict(review_input)))\n",
    "                \n",
    "            # Sending reviews to our endpoint one at a time takes a while so we\n",
    "            # only send a small number of reviews\n",
    "            files_read += 1\n",
    "            if files_read == stop:\n",
    "                break\n",
    "            \n",
    "    return ground, results"
   ]
  },
  {
   "cell_type": "code",
   "execution_count": 55,
   "metadata": {},
   "outputs": [
    {
     "name": "stdout",
     "output_type": "stream",
     "text": [
      "Starting  pos  files\n",
      "Starting  neg  files\n"
     ]
    }
   ],
   "source": [
    "ground, results = test_reviews()"
   ]
  },
  {
   "cell_type": "code",
   "execution_count": 56,
   "metadata": {},
   "outputs": [
    {
     "data": {
      "text/plain": [
       "0.868"
      ]
     },
     "execution_count": 56,
     "metadata": {},
     "output_type": "execute_result"
    }
   ],
   "source": [
    "from sklearn.metrics import accuracy_score\n",
    "accuracy_score(ground, results)"
   ]
  },
  {
   "cell_type": "markdown",
   "metadata": {},
   "source": [
    "As an additional test, we can try sending the `test_review` that we looked at earlier."
   ]
  },
  {
   "cell_type": "code",
   "execution_count": 57,
   "metadata": {},
   "outputs": [
    {
     "data": {
      "text/plain": [
       "b'1.0'"
      ]
     },
     "execution_count": 57,
     "metadata": {},
     "output_type": "execute_result"
    }
   ],
   "source": [
    "predictor.predict(test_review)"
   ]
  },
  {
   "cell_type": "markdown",
   "metadata": {},
   "source": [
    "Now that we know our endpoint is working as expected, we can set up the web page that will interact with it. If you don't have time to finish the project now, make sure to skip down to the end of this notebook and shut down your endpoint. You can deploy it again when you come back."
   ]
  },
  {
   "cell_type": "markdown",
   "metadata": {},
   "source": [
    "## Step 7 (again): Use the model for the web app\n",
    "\n",
    "> **TODO:** This entire section and the next contain tasks for you to complete, mostly using the AWS console.\n",
    "\n",
    "So far we have been accessing our model endpoint by constructing a predictor object which uses the endpoint and then just using the predictor object to perform inference. What if we wanted to create a web app which accessed our model? The way things are set up currently makes that not possible since in order to access a SageMaker endpoint the app would first have to authenticate with AWS using an IAM role which included access to SageMaker endpoints. However, there is an easier way! We just need to use some additional AWS services.\n",
    "\n",
    "<img src=\"Web App Diagram.svg\">\n",
    "\n",
    "The diagram above gives an overview of how the various services will work together. On the far right is the model which we trained above and which is deployed using SageMaker. On the far left is our web app that collects a user's movie review, sends it off and expects a positive or negative sentiment in return.\n",
    "\n",
    "In the middle is where some of the magic happens. We will construct a Lambda function, which you can think of as a straightforward Python function that can be executed whenever a specified event occurs. We will give this function permission to send and recieve data from a SageMaker endpoint.\n",
    "\n",
    "Lastly, the method we will use to execute the Lambda function is a new endpoint that we will create using API Gateway. This endpoint will be a url that listens for data to be sent to it. Once it gets some data it will pass that data on to the Lambda function and then return whatever the Lambda function returns. Essentially it will act as an interface that lets our web app communicate with the Lambda function.\n",
    "\n",
    "### Setting up a Lambda function\n",
    "\n",
    "The first thing we are going to do is set up a Lambda function. This Lambda function will be executed whenever our public API has data sent to it. When it is executed it will receive the data, perform any sort of processing that is required, send the data (the review) to the SageMaker endpoint we've created and then return the result.\n",
    "\n",
    "#### Part A: Create an IAM Role for the Lambda function\n",
    "\n",
    "Since we want the Lambda function to call a SageMaker endpoint, we need to make sure that it has permission to do so. To do this, we will construct a role that we can later give the Lambda function.\n",
    "\n",
    "Using the AWS Console, navigate to the **IAM** page and click on **Roles**. Then, click on **Create role**. Make sure that the **AWS service** is the type of trusted entity selected and choose **Lambda** as the service that will use this role, then click **Next: Permissions**.\n",
    "\n",
    "In the search box type `sagemaker` and select the check box next to the **AmazonSageMakerFullAccess** policy. Then, click on **Next: Review**.\n",
    "\n",
    "Lastly, give this role a name. Make sure you use a name that you will remember later on, for example `LambdaSageMakerRole`. Then, click on **Create role**.\n",
    "\n",
    "#### Part B: Create a Lambda function\n",
    "\n",
    "Now it is time to actually create the Lambda function.\n",
    "\n",
    "Using the AWS Console, navigate to the AWS Lambda page and click on **Create a function**. When you get to the next page, make sure that **Author from scratch** is selected. Now, name your Lambda function, using a name that you will remember later on, for example `sentiment_analysis_func`. Make sure that the **Python 3.6** runtime is selected and then choose the role that you created in the previous part. Then, click on **Create Function**.\n",
    "\n",
    "On the next page you will see some information about the Lambda function you've just created. If you scroll down you should see an editor in which you can write the code that will be executed when your Lambda function is triggered. In our example, we will use the code below. \n",
    "\n",
    "```python\n",
    "# We need to use the low-level library to interact with SageMaker since the SageMaker API\n",
    "# is not available natively through Lambda.\n",
    "import boto3\n",
    "\n",
    "def lambda_handler(event, context):\n",
    "\n",
    "    # The SageMaker runtime is what allows us to invoke the endpoint that we've created.\n",
    "    runtime = boto3.Session().client('sagemaker-runtime')\n",
    "\n",
    "    # Now we use the SageMaker runtime to invoke our endpoint, sending the review we were given\n",
    "    response = runtime.invoke_endpoint(EndpointName = '**ENDPOINT NAME HERE**',    # The name of the endpoint we created\n",
    "                                       ContentType = 'text/plain',                 # The data format that is expected\n",
    "                                       Body = event['body'])                       # The actual review\n",
    "\n",
    "    # The response is an HTTP response whose body contains the result of our inference\n",
    "    result = response['Body'].read().decode('utf-8')\n",
    "\n",
    "    return {\n",
    "        'statusCode' : 200,\n",
    "        'headers' : { 'Content-Type' : 'text/plain', 'Access-Control-Allow-Origin' : '*' },\n",
    "        'body' : result\n",
    "    }\n",
    "```\n",
    "\n",
    "Once you have copy and pasted the code above into the Lambda code editor, replace the `**ENDPOINT NAME HERE**` portion with the name of the endpoint that we deployed earlier. You can determine the name of the endpoint using the code cell below."
   ]
  },
  {
   "cell_type": "code",
   "execution_count": 59,
   "metadata": {},
   "outputs": [
    {
     "data": {
      "text/plain": [
       "'sagemaker-pytorch-2021-06-12-10-05-38-801'"
      ]
     },
     "execution_count": 59,
     "metadata": {},
     "output_type": "execute_result"
    }
   ],
   "source": [
    "predictor.endpoint"
   ]
  },
  {
   "cell_type": "markdown",
   "metadata": {},
   "source": [
    "Once you have added the endpoint name to the Lambda function, click on **Save**. Your Lambda function is now up and running. Next we need to create a way for our web app to execute the Lambda function.\n",
    "\n",
    "### Setting up API Gateway\n",
    "\n",
    "Now that our Lambda function is set up, it is time to create a new API using API Gateway that will trigger the Lambda function we have just created.\n",
    "\n",
    "Using AWS Console, navigate to Amazon **API Gateway** and then click on **Get started**.\n",
    "\n",
    "On the next page, make sure that **New API** is selected and give the new api a name, for example, `sentiment_analysis_api`. Then, click on **Create API**.\n",
    "\n",
    "Now we have created an API, however it doesn't currently do anything. What we want it to do is to trigger the Lambda function that we created earlier.\n",
    "\n",
    "Select the **Actions** dropdown menu and click **Create Method**. A new blank method will be created, select its dropdown menu and select **POST**, then click on the check mark beside it.\n",
    "\n",
    "For the integration point, make sure that **Lambda Function** is selected and click on the **Use Lambda Proxy integration**. This option makes sure that the data that is sent to the API is then sent directly to the Lambda function with no processing. It also means that the return value must be a proper response object as it will also not be processed by API Gateway.\n",
    "\n",
    "Type the name of the Lambda function you created earlier into the **Lambda Function** text entry box and then click on **Save**. Click on **OK** in the pop-up box that then appears, giving permission to API Gateway to invoke the Lambda function you created.\n",
    "\n",
    "The last step in creating the API Gateway is to select the **Actions** dropdown and click on **Deploy API**. You will need to create a new Deployment stage and name it anything you like, for example `prod`.\n",
    "\n",
    "You have now successfully set up a public API to access your SageMaker model. Make sure to copy or write down the URL provided to invoke your newly created public API as this will be needed in the next step. This URL can be found at the top of the page, highlighted in blue next to the text **Invoke URL**."
   ]
  },
  {
   "cell_type": "markdown",
   "metadata": {},
   "source": [
    "## Step 4: Deploying our web app\n",
    "\n",
    "Now that we have a publicly available API, we can start using it in a web app. For our purposes, we have provided a simple static html file which can make use of the public api you created earlier.\n",
    "\n",
    "In the `website` folder there should be a file called `index.html`. Download the file to your computer and open that file up in a text editor of your choice. There should be a line which contains **\\*\\*REPLACE WITH PUBLIC API URL\\*\\***. Replace this string with the url that you wrote down in the last step and then save the file.\n",
    "\n",
    "Now, if you open `index.html` on your local computer, your browser will behave as a local web server and you can use the provided site to interact with your SageMaker model.\n",
    "\n",
    "If you'd like to go further, you can host this html file anywhere you'd like, for example using github or hosting a static site on Amazon's S3. Once you have done this you can share the link with anyone you'd like and have them play with it too!\n",
    "\n",
    "> **Important Note** In order for the web app to communicate with the SageMaker endpoint, the endpoint has to actually be deployed and running. This means that you are paying for it. Make sure that the endpoint is running when you want to use the web app but that you shut it down when you don't need it, otherwise you will end up with a surprisingly large AWS bill.\n",
    "\n",
    "**TODO:** Make sure that you include the edited `index.html` file in your project submission."
   ]
  },
  {
   "cell_type": "markdown",
   "metadata": {},
   "source": [
    "Now that your web app is working, trying playing around with it and see how well it works.\n",
    "\n",
    "**Question**: Give an example of a review that you entered into your web app. What was the predicted sentiment of your example review?"
   ]
  },
  {
   "cell_type": "markdown",
   "metadata": {},
   "source": [
    "**Answer:** This movie was extremely horrible. I don't recommend it to anyone at all!\n",
    "* Result: Negative (see attached snapshot)"
   ]
  },
  {
   "cell_type": "markdown",
   "metadata": {},
   "source": [
    "### Delete the endpoint\n",
    "\n",
    "Remember to always shut down your endpoint if you are no longer using it. You are charged for the length of time that the endpoint is running so if you forget and leave it on you could end up with an unexpectedly large bill."
   ]
  },
  {
   "cell_type": "code",
   "execution_count": 60,
   "metadata": {},
   "outputs": [],
   "source": [
    "predictor.delete_endpoint()"
   ]
  },
  {
   "cell_type": "code",
   "execution_count": null,
   "metadata": {},
   "outputs": [],
   "source": []
  }
 ],
 "metadata": {
  "kernelspec": {
   "display_name": "conda_pytorch_p36",
   "language": "python",
   "name": "conda_pytorch_p36"
  },
  "language_info": {
   "codemirror_mode": {
    "name": "ipython",
    "version": 3
   },
   "file_extension": ".py",
   "mimetype": "text/x-python",
   "name": "python",
   "nbconvert_exporter": "python",
   "pygments_lexer": "ipython3",
   "version": "3.6.13"
  }
 },
 "nbformat": 4,
 "nbformat_minor": 4
}
